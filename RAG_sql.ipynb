{
  "cells": [
    {
      "cell_type": "markdown",
      "metadata": {
        "id": "view-in-github",
        "colab_type": "text"
      },
      "source": [
        "<a href=\"https://colab.research.google.com/github/Top-Nuttawat/Machine-Learning-For-Physicist/blob/main/RAG_sql.ipynb\" target=\"_parent\"><img src=\"https://colab.research.google.com/assets/colab-badge.svg\" alt=\"Open In Colab\"/></a>"
      ]
    },
    {
      "cell_type": "markdown",
      "metadata": {
        "id": "iKBgylQqwpqy"
      },
      "source": [
        "# Build a Question/Answering system over SQL data\n",
        "\n",
        "![RAG with Structured Data](https://python.langchain.com/v0.2/assets/images/sql_usecase-d432701261f05ab69b38576093718cf3.png)"
      ]
    },
    {
      "cell_type": "markdown",
      "metadata": {
        "id": "VAS5gT4mxMNb"
      },
      "source": [
        "## Setup"
      ]
    },
    {
      "cell_type": "code",
      "execution_count": null,
      "metadata": {
        "colab": {
          "base_uri": "https://localhost:8080/"
        },
        "id": "1duLIwQth-UL",
        "outputId": "a8ab679c-663f-49bb-d13f-12cf7e6dcee9"
      },
      "outputs": [
        {
          "name": "stdout",
          "output_type": "stream",
          "text": [
            "\u001b[?25l   \u001b[90m━━━━━━━━━━━━━━━━━━━━━━━━━━━━━━━━━━━━━━━━\u001b[0m \u001b[32m0.0/304.2 kB\u001b[0m \u001b[31m?\u001b[0m eta \u001b[36m-:--:--\u001b[0m\r\u001b[2K   \u001b[90m━━━━━━━━━━━━━━━━━━━━━━━━━━━━━━━━━━━━━━━━\u001b[0m \u001b[32m304.2/304.2 kB\u001b[0m \u001b[31m11.8 MB/s\u001b[0m eta \u001b[36m0:00:00\u001b[0m\n",
            "\u001b[2K   \u001b[90m━━━━━━━━━━━━━━━━━━━━━━━━━━━━━━━━━━━━━━━━\u001b[0m \u001b[32m2.5/2.5 MB\u001b[0m \u001b[31m58.9 MB/s\u001b[0m eta \u001b[36m0:00:00\u001b[0m\n",
            "\u001b[2K   \u001b[90m━━━━━━━━━━━━━━━━━━━━━━━━━━━━━━━━━━━━━━━━\u001b[0m \u001b[32m746.6/746.6 kB\u001b[0m \u001b[31m36.5 MB/s\u001b[0m eta \u001b[36m0:00:00\u001b[0m\n",
            "\u001b[2K   \u001b[90m━━━━━━━━━━━━━━━━━━━━━━━━━━━━━━━━━━━━━━━━\u001b[0m \u001b[32m31.3/31.3 MB\u001b[0m \u001b[31m63.3 MB/s\u001b[0m eta \u001b[36m0:00:00\u001b[0m\n",
            "\u001b[2K   \u001b[90m━━━━━━━━━━━━━━━━━━━━━━━━━━━━━━━━━━━━━━━━\u001b[0m \u001b[32m44.4/44.4 kB\u001b[0m \u001b[31m3.6 MB/s\u001b[0m eta \u001b[36m0:00:00\u001b[0m\n",
            "\u001b[2K   \u001b[90m━━━━━━━━━━━━━━━━━━━━━━━━━━━━━━━━━━━━━━━━\u001b[0m \u001b[32m363.4/363.4 MB\u001b[0m \u001b[31m4.2 MB/s\u001b[0m eta \u001b[36m0:00:00\u001b[0m\n",
            "\u001b[2K   \u001b[90m━━━━━━━━━━━━━━━━━━━━━━━━━━━━━━━━━━━━━━━━\u001b[0m \u001b[32m13.8/13.8 MB\u001b[0m \u001b[31m51.2 MB/s\u001b[0m eta \u001b[36m0:00:00\u001b[0m\n",
            "\u001b[2K   \u001b[90m━━━━━━━━━━━━━━━━━━━━━━━━━━━━━━━━━━━━━━━━\u001b[0m \u001b[32m24.6/24.6 MB\u001b[0m \u001b[31m31.6 MB/s\u001b[0m eta \u001b[36m0:00:00\u001b[0m\n",
            "\u001b[2K   \u001b[90m━━━━━━━━━━━━━━━━━━━━━━━━━━━━━━━━━━━━━━━━\u001b[0m \u001b[32m883.7/883.7 kB\u001b[0m \u001b[31m26.9 MB/s\u001b[0m eta \u001b[36m0:00:00\u001b[0m\n",
            "\u001b[2K   \u001b[90m━━━━━━━━━━━━━━━━━━━━━━━━━━━━━━━━━━━━━━━━\u001b[0m \u001b[32m664.8/664.8 MB\u001b[0m \u001b[31m2.9 MB/s\u001b[0m eta \u001b[36m0:00:00\u001b[0m\n",
            "\u001b[2K   \u001b[90m━━━━━━━━━━━━━━━━━━━━━━━━━━━━━━━━━━━━━━━━\u001b[0m \u001b[32m211.5/211.5 MB\u001b[0m \u001b[31m5.1 MB/s\u001b[0m eta \u001b[36m0:00:00\u001b[0m\n",
            "\u001b[2K   \u001b[90m━━━━━━━━━━━━━━━━━━━━━━━━━━━━━━━━━━━━━━━━\u001b[0m \u001b[32m56.3/56.3 MB\u001b[0m \u001b[31m11.0 MB/s\u001b[0m eta \u001b[36m0:00:00\u001b[0m\n",
            "\u001b[2K   \u001b[90m━━━━━━━━━━━━━━━━━━━━━━━━━━━━━━━━━━━━━━━━\u001b[0m \u001b[32m127.9/127.9 MB\u001b[0m \u001b[31m7.2 MB/s\u001b[0m eta \u001b[36m0:00:00\u001b[0m\n",
            "\u001b[2K   \u001b[90m━━━━━━━━━━━━━━━━━━━━━━━━━━━━━━━━━━━━━━━━\u001b[0m \u001b[32m207.5/207.5 MB\u001b[0m \u001b[31m5.8 MB/s\u001b[0m eta \u001b[36m0:00:00\u001b[0m\n",
            "\u001b[2K   \u001b[90m━━━━━━━━━━━━━━━━━━━━━━━━━━━━━━━━━━━━━━━━\u001b[0m \u001b[32m21.1/21.1 MB\u001b[0m \u001b[31m94.8 MB/s\u001b[0m eta \u001b[36m0:00:00\u001b[0m\n",
            "\u001b[2K   \u001b[90m━━━━━━━━━━━━━━━━━━━━━━━━━━━━━━━━━━━━━━━━\u001b[0m \u001b[32m50.9/50.9 kB\u001b[0m \u001b[31m4.8 MB/s\u001b[0m eta \u001b[36m0:00:00\u001b[0m\n",
            "\u001b[2K   \u001b[90m━━━━━━━━━━━━━━━━━━━━━━━━━━━━━━━━━━━━━━━━\u001b[0m \u001b[32m129.6/129.6 kB\u001b[0m \u001b[31m4.8 MB/s\u001b[0m eta \u001b[36m0:00:00\u001b[0m\n",
            "\u001b[?25h"
          ]
        }
      ],
      "source": [
        "## install Library\n",
        "!pip -q install pypdf sentence-transformers langchain langchain_community jq faiss-cpu tiktoken\n",
        "!pip -q install groq"
      ]
    },
    {
      "cell_type": "code",
      "execution_count": null,
      "metadata": {
        "colab": {
          "background_save": true,
          "base_uri": "https://localhost:8080/"
        },
        "id": "A5Gjv8AZiEVS",
        "outputId": "a9f640c7-b66d-4bce-ac2c-5793948fbef1"
      },
      "outputs": [
        {
          "name": "stdout",
          "output_type": "stream",
          "text": [
            "Retrieving folder contents\n",
            "Retrieving folder 1zcr11B0BXL1R2J2Ae9Rojg8cwGzIJIIO CSV\n",
            "Processing file 1li4MJ8pOGvkVVAburUFU_vOcZrcaYIRx customer_support_tickets.csv\n",
            "Processing file 1QcwBij2NEY-_C7g9mNZIWTwE2Q65UI6W Financial Statements.csv\n",
            "Processing file 1aZoSyDV-Fh0924cV8TIkGIjpzDGLTdPd spotify-2023.csv\n",
            "Processing file 17gevLHf1xTp4-qJRhy5qU9KNHqbBJEaM TBL3-Online-Shopping-Dataset.csv\n",
            "Retrieving folder 1z4hWnVJj_zCwhA1NLS8EJfk2XYNpJwFF QA\n",
            "Processing file 1Q7UB67kYhO7zjyj87sY-SyPHuUov90ku question_sample.json\n",
            "Processing file 1hnxmGkrguP51exD_Po5Rj-8Eu3Ldz-SN question_sample2.json\n",
            "Processing file 12lnJjDaBq5-wjxoPgNNhtP1tT8QoYP_Z question_sample3.json\n",
            "Processing file 1z5YBBmoHeG2oXwETUUtwumI--CldpKeR question_sample4.json\n",
            "Retrieving folder contents completed\n",
            "Building directory structure\n",
            "Building directory structure completed\n",
            "Downloading...\n",
            "From: https://drive.google.com/uc?id=1li4MJ8pOGvkVVAburUFU_vOcZrcaYIRx\n",
            "To: /content/dataset/CSV/customer_support_tickets.csv\n",
            "100% 3.95M/3.95M [00:00<00:00, 30.0MB/s]\n",
            "Downloading...\n",
            "From: https://drive.google.com/uc?id=1QcwBij2NEY-_C7g9mNZIWTwE2Q65UI6W\n",
            "To: /content/dataset/CSV/Financial Statements.csv\n",
            "100% 24.5k/24.5k [00:00<00:00, 65.9MB/s]\n",
            "Downloading...\n",
            "From: https://drive.google.com/uc?id=1aZoSyDV-Fh0924cV8TIkGIjpzDGLTdPd\n",
            "To: /content/dataset/CSV/spotify-2023.csv\n",
            "100% 106k/106k [00:00<00:00, 2.80MB/s]\n",
            "Downloading...\n",
            "From: https://drive.google.com/uc?id=17gevLHf1xTp4-qJRhy5qU9KNHqbBJEaM\n",
            "To: /content/dataset/CSV/TBL3-Online-Shopping-Dataset.csv\n",
            "100% 6.61M/6.61M [00:00<00:00, 34.6MB/s]\n",
            "Downloading...\n",
            "From: https://drive.google.com/uc?id=1Q7UB67kYhO7zjyj87sY-SyPHuUov90ku\n",
            "To: /content/dataset/QA/question_sample.json\n",
            "100% 405/405 [00:00<00:00, 2.23MB/s]\n",
            "Downloading...\n",
            "From: https://drive.google.com/uc?id=1hnxmGkrguP51exD_Po5Rj-8Eu3Ldz-SN\n",
            "To: /content/dataset/QA/question_sample2.json\n",
            "100% 1.04k/1.04k [00:00<00:00, 4.99MB/s]\n",
            "Downloading...\n",
            "From: https://drive.google.com/uc?id=12lnJjDaBq5-wjxoPgNNhtP1tT8QoYP_Z\n",
            "To: /content/dataset/QA/question_sample3.json\n",
            "100% 1.47k/1.47k [00:00<00:00, 7.84MB/s]\n",
            "Downloading...\n",
            "From: https://drive.google.com/uc?id=1z5YBBmoHeG2oXwETUUtwumI--CldpKeR\n",
            "To: /content/dataset/QA/question_sample4.json\n",
            "100% 1.03k/1.03k [00:00<00:00, 5.47MB/s]\n",
            "Download completed\n"
          ]
        }
      ],
      "source": [
        "# prompt: download folder with gdown\n",
        "\n",
        "!gdown --folder 1MGp7wWcJcduMm4nNmjzvN4egxxqKVq1N"
      ]
    },
    {
      "cell_type": "markdown",
      "metadata": {
        "id": "soq-5943wJ6r"
      },
      "source": [
        "### install postgresql"
      ]
    },
    {
      "cell_type": "code",
      "execution_count": null,
      "metadata": {
        "id": "8e-JSX7-jdhZ"
      },
      "outputs": [],
      "source": [
        "!apt-get -y install postgresql postgresql-contrib"
      ]
    },
    {
      "cell_type": "markdown",
      "metadata": {
        "id": "I8yTJlMywNUd"
      },
      "source": [
        "### Start PostgreSQL service & create uset & database"
      ]
    },
    {
      "cell_type": "markdown",
      "metadata": {
        "id": "4-k2RFi-DkTz"
      },
      "source": [
        "### register postgresql cloud\n",
        "\n",
        "\n",
        "https://console.aiven.io"
      ]
    },
    {
      "cell_type": "code",
      "execution_count": null,
      "metadata": {
        "colab": {
          "base_uri": "https://localhost:8080/"
        },
        "id": "EOeetH3Ik_Ws",
        "outputId": "4ff7d7bf-f150-4cb5-8740-ca7dc102d9b4"
      },
      "outputs": [
        {
          "name": "stdout",
          "output_type": "stream",
          "text": [
            " * Starting PostgreSQL 14 database server\n",
            "   ...done.\n",
            "ALTER ROLE\n"
          ]
        }
      ],
      "source": [
        "# Start PostgreSQL service\n",
        "!service postgresql start\n",
        "\n",
        "# Set password for the 'postgres' user\n",
        "!sudo -u postgres psql -c \"ALTER USER postgres PASSWORD '1234';\"\n",
        "\n",
        "# Create a new database\n",
        "!sudo -u postgres createdb mydatabase\n"
      ]
    },
    {
      "cell_type": "code",
      "execution_count": null,
      "metadata": {
        "colab": {
          "background_save": true
        },
        "id": "mN_Qq7O0jQfa",
        "outputId": "a487daf0-b893-4b58-edf9-197d4d336848"
      },
      "outputs": [
        {
          "name": "stdout",
          "output_type": "stream",
          "text": [
            "\u001b[?25l   \u001b[90m━━━━━━━━━━━━━━━━━━━━━━━━━━━━━━━━━━━━━━━━\u001b[0m \u001b[32m0.0/3.0 MB\u001b[0m \u001b[31m?\u001b[0m eta \u001b[36m-:--:--\u001b[0m\r\u001b[2K   \u001b[91m━━━━━━━\u001b[0m\u001b[90m╺\u001b[0m\u001b[90m━━━━━━━━━━━━━━━━━━━━━━━━━━━━━━━━\u001b[0m \u001b[32m0.5/3.0 MB\u001b[0m \u001b[31m15.8 MB/s\u001b[0m eta \u001b[36m0:00:01\u001b[0m\r\u001b[2K   \u001b[91m━━━━━━━━━━━━━━━━━━━━━━━━━━━━━━━━━━━━━━━\u001b[0m\u001b[91m╸\u001b[0m \u001b[32m3.0/3.0 MB\u001b[0m \u001b[31m55.2 MB/s\u001b[0m eta \u001b[36m0:00:01\u001b[0m\r\u001b[2K   \u001b[90m━━━━━━━━━━━━━━━━━━━━━━━━━━━━━━━━━━━━━━━━\u001b[0m \u001b[32m3.0/3.0 MB\u001b[0m \u001b[31m41.2 MB/s\u001b[0m eta \u001b[36m0:00:00\u001b[0m\n",
            "\u001b[?25h"
          ]
        }
      ],
      "source": [
        "!pip -q install psycopg2-binary sqlalchemy\n"
      ]
    },
    {
      "cell_type": "markdown",
      "metadata": {
        "id": "gfIEPUU5xYeQ"
      },
      "source": [
        "### Transform csv to DB"
      ]
    },
    {
      "cell_type": "code",
      "execution_count": null,
      "metadata": {
        "colab": {
          "background_save": true
        },
        "id": "LBTsnmsFiRi9",
        "outputId": "14d7f73f-19f4-48b9-8b5a-87ea953ef7df"
      },
      "outputs": [
        {
          "ename": "TimeoutException",
          "evalue": "Requesting secret AIVEN_URL timed out. Secrets can only be fetched when running from the Colab UI.",
          "output_type": "error",
          "traceback": [
            "\u001b[0;31m---------------------------------------------------------------------------\u001b[0m",
            "\u001b[0;31mTimeoutException\u001b[0m                          Traceback (most recent call last)",
            "\u001b[0;32m<ipython-input-5-2209328e03aa>\u001b[0m in \u001b[0;36m<cell line: 0>\u001b[0;34m()\u001b[0m\n\u001b[1;32m     18\u001b[0m \u001b[0;31m# Create a connection string\u001b[0m\u001b[0;34m\u001b[0m\u001b[0;34m\u001b[0m\u001b[0m\n\u001b[1;32m     19\u001b[0m \u001b[0;31m# connection_string = f'postgresql://{db_user}:{db_password}@{db_host}:{db_port}/{db_name}'\u001b[0m\u001b[0;34m\u001b[0m\u001b[0;34m\u001b[0m\u001b[0m\n\u001b[0;32m---> 20\u001b[0;31m \u001b[0mconnection_string\u001b[0m \u001b[0;34m=\u001b[0m  \u001b[0muserdata\u001b[0m\u001b[0;34m.\u001b[0m\u001b[0mget\u001b[0m\u001b[0;34m(\u001b[0m\u001b[0;34m'AIVEN_URL'\u001b[0m\u001b[0;34m)\u001b[0m\u001b[0;34m\u001b[0m\u001b[0;34m\u001b[0m\u001b[0m\n\u001b[0m\u001b[1;32m     21\u001b[0m \u001b[0;31m# Create a SQLAlchemy engine\u001b[0m\u001b[0;34m\u001b[0m\u001b[0;34m\u001b[0m\u001b[0m\n\u001b[1;32m     22\u001b[0m \u001b[0mengine\u001b[0m \u001b[0;34m=\u001b[0m \u001b[0mcreate_engine\u001b[0m\u001b[0;34m(\u001b[0m\u001b[0mconnection_string\u001b[0m\u001b[0;34m)\u001b[0m\u001b[0;34m\u001b[0m\u001b[0;34m\u001b[0m\u001b[0m\n",
            "\u001b[0;32m/usr/local/lib/python3.11/dist-packages/google/colab/userdata.py\u001b[0m in \u001b[0;36mget\u001b[0;34m(key)\u001b[0m\n\u001b[1;32m     64\u001b[0m     )\n\u001b[1;32m     65\u001b[0m   \u001b[0;32mif\u001b[0m \u001b[0;32mnot\u001b[0m \u001b[0mresp\u001b[0m\u001b[0;34m:\u001b[0m\u001b[0;34m\u001b[0m\u001b[0;34m\u001b[0m\u001b[0m\n\u001b[0;32m---> 66\u001b[0;31m     \u001b[0;32mraise\u001b[0m \u001b[0mTimeoutException\u001b[0m\u001b[0;34m(\u001b[0m\u001b[0mkey\u001b[0m\u001b[0;34m)\u001b[0m\u001b[0;34m\u001b[0m\u001b[0;34m\u001b[0m\u001b[0m\n\u001b[0m\u001b[1;32m     67\u001b[0m   \u001b[0;32mif\u001b[0m \u001b[0;32mnot\u001b[0m \u001b[0mresp\u001b[0m\u001b[0;34m.\u001b[0m\u001b[0mget\u001b[0m\u001b[0;34m(\u001b[0m\u001b[0;34m'exists'\u001b[0m\u001b[0;34m,\u001b[0m \u001b[0;32mFalse\u001b[0m\u001b[0;34m)\u001b[0m\u001b[0;34m:\u001b[0m\u001b[0;34m\u001b[0m\u001b[0;34m\u001b[0m\u001b[0m\n\u001b[1;32m     68\u001b[0m     \u001b[0;32mraise\u001b[0m \u001b[0mSecretNotFoundError\u001b[0m\u001b[0;34m(\u001b[0m\u001b[0mkey\u001b[0m\u001b[0;34m)\u001b[0m\u001b[0;34m\u001b[0m\u001b[0;34m\u001b[0m\u001b[0m\n",
            "\u001b[0;31mTimeoutException\u001b[0m: Requesting secret AIVEN_URL timed out. Secrets can only be fetched when running from the Colab UI."
          ]
        }
      ],
      "source": [
        "import pandas as pd\n",
        "from sqlalchemy import create_engine\n",
        "from google.colab import userdata\n",
        "\n",
        "# Load CSV files into pandas DataFrames\n",
        "financial_statements_df = pd.read_csv('/content/dataset/CSV/Financial Statements.csv')\n",
        "online_shopping_df = pd.read_csv('/content/dataset/CSV/TBL3-Online-Shopping-Dataset.csv')\n",
        "customer_support_tickets_df = pd.read_csv('/content/dataset/CSV/customer_support_tickets.csv')\n",
        "spotify_data_df = pd.read_csv('/content/dataset/CSV/spotify-2023.csv', encoding='ISO-8859-1')\n",
        "\n",
        "# Database connection parameters for local PostgreSQL\n",
        "db_name = 'mydatabase'           # Your database name\n",
        "db_user = 'postgres'             # PostgreSQL default superuser\n",
        "db_password = '1234'             # The password you set above\n",
        "db_host = 'localhost'            # Localhost for local connection\n",
        "db_port = '5432'                 # Default PostgreSQL port\n",
        "\n",
        "# Create a connection string\n",
        "# connection_string = f'postgresql://{db_user}:{db_password}@{db_host}:{db_port}/{db_name}'\n",
        "connection_string =  userdata.get('AIVEN_URL')\n",
        "# Create a SQLAlchemy engine\n",
        "engine = create_engine(connection_string)\n",
        "\n",
        "# Insert DataFrames into PostgreSQL tables\n",
        "financial_statements_df.to_sql('financial_statements', engine, if_exists='replace', index=False)\n",
        "online_shopping_df.to_sql('online_shopping', engine, if_exists='replace', index=False)\n",
        "customer_support_tickets_df.to_sql('customer_support_tickets', engine, if_exists='replace', index=False)\n",
        "spotify_data_df.to_sql('spotify_data', engine, if_exists='replace', index=False)\n"
      ]
    },
    {
      "cell_type": "code",
      "execution_count": null,
      "metadata": {
        "colab": {
          "base_uri": "https://localhost:8080/",
          "height": 173
        },
        "id": "8SsNsEfoliOZ",
        "outputId": "3065cfaa-5f02-4e49-9034-7078b6fc14db"
      },
      "outputs": [
        {
          "data": {
            "application/vnd.google.colaboratory.intrinsic+json": {
              "summary": "{\n  \"name\": \"            )\",\n  \"rows\": 4,\n  \"fields\": [\n    {\n      \"column\": \"schemaname\",\n      \"properties\": {\n        \"dtype\": \"category\",\n        \"num_unique_values\": 1,\n        \"samples\": [\n          \"public\"\n        ],\n        \"semantic_type\": \"\",\n        \"description\": \"\"\n      }\n    },\n    {\n      \"column\": \"tablename\",\n      \"properties\": {\n        \"dtype\": \"string\",\n        \"num_unique_values\": 4,\n        \"samples\": [\n          \"online_shopping\"\n        ],\n        \"semantic_type\": \"\",\n        \"description\": \"\"\n      }\n    },\n    {\n      \"column\": \"tableowner\",\n      \"properties\": {\n        \"dtype\": \"category\",\n        \"num_unique_values\": 1,\n        \"samples\": [\n          \"postgres\"\n        ],\n        \"semantic_type\": \"\",\n        \"description\": \"\"\n      }\n    }\n  ]\n}",
              "type": "dataframe"
            },
            "text/html": [
              "\n",
              "  <div id=\"df-a7604e6d-32e1-46d4-8121-a3621935484d\" class=\"colab-df-container\">\n",
              "    <div>\n",
              "<style scoped>\n",
              "    .dataframe tbody tr th:only-of-type {\n",
              "        vertical-align: middle;\n",
              "    }\n",
              "\n",
              "    .dataframe tbody tr th {\n",
              "        vertical-align: top;\n",
              "    }\n",
              "\n",
              "    .dataframe thead th {\n",
              "        text-align: right;\n",
              "    }\n",
              "</style>\n",
              "<table border=\"1\" class=\"dataframe\">\n",
              "  <thead>\n",
              "    <tr style=\"text-align: right;\">\n",
              "      <th></th>\n",
              "      <th>schemaname</th>\n",
              "      <th>tablename</th>\n",
              "      <th>tableowner</th>\n",
              "    </tr>\n",
              "  </thead>\n",
              "  <tbody>\n",
              "    <tr>\n",
              "      <th>0</th>\n",
              "      <td>public</td>\n",
              "      <td>financial_statements</td>\n",
              "      <td>postgres</td>\n",
              "    </tr>\n",
              "    <tr>\n",
              "      <th>1</th>\n",
              "      <td>public</td>\n",
              "      <td>online_shopping</td>\n",
              "      <td>postgres</td>\n",
              "    </tr>\n",
              "    <tr>\n",
              "      <th>2</th>\n",
              "      <td>public</td>\n",
              "      <td>customer_support_tickets</td>\n",
              "      <td>postgres</td>\n",
              "    </tr>\n",
              "    <tr>\n",
              "      <th>3</th>\n",
              "      <td>public</td>\n",
              "      <td>spotify_data</td>\n",
              "      <td>postgres</td>\n",
              "    </tr>\n",
              "  </tbody>\n",
              "</table>\n",
              "</div>\n",
              "    <div class=\"colab-df-buttons\">\n",
              "\n",
              "  <div class=\"colab-df-container\">\n",
              "    <button class=\"colab-df-convert\" onclick=\"convertToInteractive('df-a7604e6d-32e1-46d4-8121-a3621935484d')\"\n",
              "            title=\"Convert this dataframe to an interactive table.\"\n",
              "            style=\"display:none;\">\n",
              "\n",
              "  <svg xmlns=\"http://www.w3.org/2000/svg\" height=\"24px\" viewBox=\"0 -960 960 960\">\n",
              "    <path d=\"M120-120v-720h720v720H120Zm60-500h600v-160H180v160Zm220 220h160v-160H400v160Zm0 220h160v-160H400v160ZM180-400h160v-160H180v160Zm440 0h160v-160H620v160ZM180-180h160v-160H180v160Zm440 0h160v-160H620v160Z\"/>\n",
              "  </svg>\n",
              "    </button>\n",
              "\n",
              "  <style>\n",
              "    .colab-df-container {\n",
              "      display:flex;\n",
              "      gap: 12px;\n",
              "    }\n",
              "\n",
              "    .colab-df-convert {\n",
              "      background-color: #E8F0FE;\n",
              "      border: none;\n",
              "      border-radius: 50%;\n",
              "      cursor: pointer;\n",
              "      display: none;\n",
              "      fill: #1967D2;\n",
              "      height: 32px;\n",
              "      padding: 0 0 0 0;\n",
              "      width: 32px;\n",
              "    }\n",
              "\n",
              "    .colab-df-convert:hover {\n",
              "      background-color: #E2EBFA;\n",
              "      box-shadow: 0px 1px 2px rgba(60, 64, 67, 0.3), 0px 1px 3px 1px rgba(60, 64, 67, 0.15);\n",
              "      fill: #174EA6;\n",
              "    }\n",
              "\n",
              "    .colab-df-buttons div {\n",
              "      margin-bottom: 4px;\n",
              "    }\n",
              "\n",
              "    [theme=dark] .colab-df-convert {\n",
              "      background-color: #3B4455;\n",
              "      fill: #D2E3FC;\n",
              "    }\n",
              "\n",
              "    [theme=dark] .colab-df-convert:hover {\n",
              "      background-color: #434B5C;\n",
              "      box-shadow: 0px 1px 3px 1px rgba(0, 0, 0, 0.15);\n",
              "      filter: drop-shadow(0px 1px 2px rgba(0, 0, 0, 0.3));\n",
              "      fill: #FFFFFF;\n",
              "    }\n",
              "  </style>\n",
              "\n",
              "    <script>\n",
              "      const buttonEl =\n",
              "        document.querySelector('#df-a7604e6d-32e1-46d4-8121-a3621935484d button.colab-df-convert');\n",
              "      buttonEl.style.display =\n",
              "        google.colab.kernel.accessAllowed ? 'block' : 'none';\n",
              "\n",
              "      async function convertToInteractive(key) {\n",
              "        const element = document.querySelector('#df-a7604e6d-32e1-46d4-8121-a3621935484d');\n",
              "        const dataTable =\n",
              "          await google.colab.kernel.invokeFunction('convertToInteractive',\n",
              "                                                    [key], {});\n",
              "        if (!dataTable) return;\n",
              "\n",
              "        const docLinkHtml = 'Like what you see? Visit the ' +\n",
              "          '<a target=\"_blank\" href=https://colab.research.google.com/notebooks/data_table.ipynb>data table notebook</a>'\n",
              "          + ' to learn more about interactive tables.';\n",
              "        element.innerHTML = '';\n",
              "        dataTable['output_type'] = 'display_data';\n",
              "        await google.colab.output.renderOutput(dataTable, element);\n",
              "        const docLink = document.createElement('div');\n",
              "        docLink.innerHTML = docLinkHtml;\n",
              "        element.appendChild(docLink);\n",
              "      }\n",
              "    </script>\n",
              "  </div>\n",
              "\n",
              "\n",
              "<div id=\"df-366475bd-fac7-418e-b1e6-09d8eda06cd4\">\n",
              "  <button class=\"colab-df-quickchart\" onclick=\"quickchart('df-366475bd-fac7-418e-b1e6-09d8eda06cd4')\"\n",
              "            title=\"Suggest charts\"\n",
              "            style=\"display:none;\">\n",
              "\n",
              "<svg xmlns=\"http://www.w3.org/2000/svg\" height=\"24px\"viewBox=\"0 0 24 24\"\n",
              "     width=\"24px\">\n",
              "    <g>\n",
              "        <path d=\"M19 3H5c-1.1 0-2 .9-2 2v14c0 1.1.9 2 2 2h14c1.1 0 2-.9 2-2V5c0-1.1-.9-2-2-2zM9 17H7v-7h2v7zm4 0h-2V7h2v10zm4 0h-2v-4h2v4z\"/>\n",
              "    </g>\n",
              "</svg>\n",
              "  </button>\n",
              "\n",
              "<style>\n",
              "  .colab-df-quickchart {\n",
              "      --bg-color: #E8F0FE;\n",
              "      --fill-color: #1967D2;\n",
              "      --hover-bg-color: #E2EBFA;\n",
              "      --hover-fill-color: #174EA6;\n",
              "      --disabled-fill-color: #AAA;\n",
              "      --disabled-bg-color: #DDD;\n",
              "  }\n",
              "\n",
              "  [theme=dark] .colab-df-quickchart {\n",
              "      --bg-color: #3B4455;\n",
              "      --fill-color: #D2E3FC;\n",
              "      --hover-bg-color: #434B5C;\n",
              "      --hover-fill-color: #FFFFFF;\n",
              "      --disabled-bg-color: #3B4455;\n",
              "      --disabled-fill-color: #666;\n",
              "  }\n",
              "\n",
              "  .colab-df-quickchart {\n",
              "    background-color: var(--bg-color);\n",
              "    border: none;\n",
              "    border-radius: 50%;\n",
              "    cursor: pointer;\n",
              "    display: none;\n",
              "    fill: var(--fill-color);\n",
              "    height: 32px;\n",
              "    padding: 0;\n",
              "    width: 32px;\n",
              "  }\n",
              "\n",
              "  .colab-df-quickchart:hover {\n",
              "    background-color: var(--hover-bg-color);\n",
              "    box-shadow: 0 1px 2px rgba(60, 64, 67, 0.3), 0 1px 3px 1px rgba(60, 64, 67, 0.15);\n",
              "    fill: var(--button-hover-fill-color);\n",
              "  }\n",
              "\n",
              "  .colab-df-quickchart-complete:disabled,\n",
              "  .colab-df-quickchart-complete:disabled:hover {\n",
              "    background-color: var(--disabled-bg-color);\n",
              "    fill: var(--disabled-fill-color);\n",
              "    box-shadow: none;\n",
              "  }\n",
              "\n",
              "  .colab-df-spinner {\n",
              "    border: 2px solid var(--fill-color);\n",
              "    border-color: transparent;\n",
              "    border-bottom-color: var(--fill-color);\n",
              "    animation:\n",
              "      spin 1s steps(1) infinite;\n",
              "  }\n",
              "\n",
              "  @keyframes spin {\n",
              "    0% {\n",
              "      border-color: transparent;\n",
              "      border-bottom-color: var(--fill-color);\n",
              "      border-left-color: var(--fill-color);\n",
              "    }\n",
              "    20% {\n",
              "      border-color: transparent;\n",
              "      border-left-color: var(--fill-color);\n",
              "      border-top-color: var(--fill-color);\n",
              "    }\n",
              "    30% {\n",
              "      border-color: transparent;\n",
              "      border-left-color: var(--fill-color);\n",
              "      border-top-color: var(--fill-color);\n",
              "      border-right-color: var(--fill-color);\n",
              "    }\n",
              "    40% {\n",
              "      border-color: transparent;\n",
              "      border-right-color: var(--fill-color);\n",
              "      border-top-color: var(--fill-color);\n",
              "    }\n",
              "    60% {\n",
              "      border-color: transparent;\n",
              "      border-right-color: var(--fill-color);\n",
              "    }\n",
              "    80% {\n",
              "      border-color: transparent;\n",
              "      border-right-color: var(--fill-color);\n",
              "      border-bottom-color: var(--fill-color);\n",
              "    }\n",
              "    90% {\n",
              "      border-color: transparent;\n",
              "      border-bottom-color: var(--fill-color);\n",
              "    }\n",
              "  }\n",
              "</style>\n",
              "\n",
              "  <script>\n",
              "    async function quickchart(key) {\n",
              "      const quickchartButtonEl =\n",
              "        document.querySelector('#' + key + ' button');\n",
              "      quickchartButtonEl.disabled = true;  // To prevent multiple clicks.\n",
              "      quickchartButtonEl.classList.add('colab-df-spinner');\n",
              "      try {\n",
              "        const charts = await google.colab.kernel.invokeFunction(\n",
              "            'suggestCharts', [key], {});\n",
              "      } catch (error) {\n",
              "        console.error('Error during call to suggestCharts:', error);\n",
              "      }\n",
              "      quickchartButtonEl.classList.remove('colab-df-spinner');\n",
              "      quickchartButtonEl.classList.add('colab-df-quickchart-complete');\n",
              "    }\n",
              "    (() => {\n",
              "      let quickchartButtonEl =\n",
              "        document.querySelector('#df-366475bd-fac7-418e-b1e6-09d8eda06cd4 button');\n",
              "      quickchartButtonEl.style.display =\n",
              "        google.colab.kernel.accessAllowed ? 'block' : 'none';\n",
              "    })();\n",
              "  </script>\n",
              "</div>\n",
              "\n",
              "    </div>\n",
              "  </div>\n"
            ],
            "text/plain": [
              "  schemaname                 tablename tableowner\n",
              "0     public      financial_statements   postgres\n",
              "1     public           online_shopping   postgres\n",
              "2     public  customer_support_tickets   postgres\n",
              "3     public              spotify_data   postgres"
            ]
          },
          "execution_count": 7,
          "metadata": {},
          "output_type": "execute_result"
        }
      ],
      "source": [
        "## list Table in DB\n",
        "pd.read_sql(\"\"\"\n",
        "            SELECT schemaname, tablename, tableowner\n",
        "            FROM pg_catalog.pg_tables\n",
        "            WHERE schemaname != 'pg_catalog' AND schemaname!='tiger' AND\n",
        "            schemaname != 'information_schema';\n",
        "            \"\"\",\n",
        "            engine\n",
        "            )"
      ]
    },
    {
      "cell_type": "markdown",
      "metadata": {
        "id": "ox1y1QLo3RJh"
      },
      "source": [
        "## langchain"
      ]
    },
    {
      "cell_type": "markdown",
      "metadata": {
        "id": "YRJ1AqudxzpR"
      },
      "source": [
        "### Download Database with SQLDatabase (langchain)"
      ]
    },
    {
      "cell_type": "code",
      "execution_count": null,
      "metadata": {
        "colab": {
          "base_uri": "https://localhost:8080/"
        },
        "id": "qxjhgoC0l6uV",
        "outputId": "8cbc7663-7f1c-42c9-aded-c75ce1173a27"
      },
      "outputs": [
        {
          "name": "stdout",
          "output_type": "stream",
          "text": [
            "postgresql\n",
            "['customer_support_tickets', 'financial_statements', 'online_shopping', 'spotify_data']\n"
          ]
        }
      ],
      "source": [
        "from langchain_community.utilities import SQLDatabase\n",
        "\n",
        "db = SQLDatabase.from_uri(connection_string)\n",
        "print(db.dialect)\n",
        "print(db.get_usable_table_names())\n"
      ]
    },
    {
      "cell_type": "code",
      "execution_count": null,
      "metadata": {
        "colab": {
          "base_uri": "https://localhost:8080/"
        },
        "id": "Ebgg3ZLLB8ih",
        "outputId": "65a71203-9e56-4aef-ce56-48c104dd5136"
      },
      "outputs": [
        {
          "name": "stdout",
          "output_type": "stream",
          "text": [
            "\n",
            "CREATE TABLE customer_support_tickets (\n",
            "\t\"Ticket_ID\" BIGINT, \n",
            "\t\"Customer_Name\" TEXT, \n",
            "\t\"Customer_Email\" TEXT, \n",
            "\t\"Customer_Age\" BIGINT, \n",
            "\t\"Customer_Gender\" TEXT, \n",
            "\t\"Product_Purchased\" TEXT, \n",
            "\t\"Date_of_Purchase\" TEXT, \n",
            "\t\"Ticket_Type\" TEXT, \n",
            "\t\"Ticket_Subject\" TEXT, \n",
            "\t\"Ticket_Description\" TEXT, \n",
            "\t\"Ticket_Status\" TEXT, \n",
            "\t\"Resolution\" TEXT, \n",
            "\t\"Ticket_Priority\" TEXT, \n",
            "\t\"Ticket_Channel\" TEXT, \n",
            "\t\"First_Response_Time\" TEXT, \n",
            "\t\"Time_to_Resolution\" TEXT, \n",
            "\t\"Customer_Satisfaction_Rating\" DOUBLE PRECISION\n",
            ")\n",
            "\n",
            "/*\n",
            "3 rows from customer_support_tickets table:\n",
            "Ticket_ID\tCustomer_Name\tCustomer_Email\tCustomer_Age\tCustomer_Gender\tProduct_Purchased\tDate_of_Purchase\tTicket_Type\tTicket_Subject\tTicket_Description\tTicket_Status\tResolution\tTicket_Priority\tTicket_Channel\tFirst_Response_Time\tTime_to_Resolution\tCustomer_Satisfaction_Rating\n",
            "1\tMarisa Obrien\tcarrollallison@example.com\t32\tOther\tGoPro Hero\t2021-03-22\tTechnical issue\tProduct setup\tI'm having an issue with the {product_purchased}. Please assist.\n",
            "\n",
            "Your billing zip code is: 71701.\n",
            "\n",
            "\tPending Customer Response\tNone\tCritical\tSocial media\t2023-06-01 12:15:36\tNone\tNone\n",
            "2\tJessica Rios\tclarkeashley@example.com\t42\tFemale\tLG Smart TV\t2021-05-22\tTechnical issue\tPeripheral compatibility\tI'm having an issue with the {product_purchased}. Please assist.\n",
            "\n",
            "If you need to change an existing \tPending Customer Response\tNone\tCritical\tChat\t2023-06-01 16:45:38\tNone\tNone\n",
            "3\tChristopher Robbins\tgonzalestracy@example.com\t48\tOther\tDell XPS\t2020-07-14\tTechnical issue\tNetwork problem\tI'm facing a problem with my {product_purchased}. The {product_purchased} is not turning on. It was \tClosed\tCase maybe show recently my computer follow.\tLow\tSocial media\t2023-06-01 11:14:38\t2023-06-01 18:05:38\t3.0\n",
            "*/\n",
            "\n",
            "\n",
            "CREATE TABLE financial_statements (\n",
            "\t\"Year\" BIGINT, \n",
            "\t\"Company\" TEXT, \n",
            "\t\"Category\" TEXT, \n",
            "\t\"Market Cap(in B USD)\" DOUBLE PRECISION, \n",
            "\t\"Revenue\" DOUBLE PRECISION, \n",
            "\t\"Gross Profit\" DOUBLE PRECISION, \n",
            "\t\"Net Income\" DOUBLE PRECISION, \n",
            "\t\"Earning Per Share\" DOUBLE PRECISION, \n",
            "\t\"EBITDA\" DOUBLE PRECISION, \n",
            "\t\"Share Holder Equity\" DOUBLE PRECISION, \n",
            "\t\"Cash Flow from Operating\" DOUBLE PRECISION, \n",
            "\t\"Cash Flow from Investing\" DOUBLE PRECISION, \n",
            "\t\"Cash Flow from Financial Activities\" DOUBLE PRECISION, \n",
            "\t\"Current Ratio\" DOUBLE PRECISION, \n",
            "\t\"Debt/Equity Ratio\" DOUBLE PRECISION, \n",
            "\t\"ROE\" DOUBLE PRECISION, \n",
            "\t\"ROA\" DOUBLE PRECISION, \n",
            "\t\"ROI\" DOUBLE PRECISION, \n",
            "\t\"Net Profit Margin\" DOUBLE PRECISION, \n",
            "\t\"Free Cash Flow per Share\" DOUBLE PRECISION, \n",
            "\t\"Return on Tangible Equity\" DOUBLE PRECISION, \n",
            "\t\"Number of Employees\" BIGINT, \n",
            "\t\"Inflation Rate(in US)\" DOUBLE PRECISION\n",
            ")\n",
            "\n",
            "/*\n",
            "3 rows from financial_statements table:\n",
            "Year\tCompany\tCategory\tMarket Cap(in B USD)\tRevenue\tGross Profit\tNet Income\tEarning Per Share\tEBITDA\tShare Holder Equity\tCash Flow from Operating\tCash Flow from Investing\tCash Flow from Financial Activities\tCurrent Ratio\tDebt/Equity Ratio\tROE\tROA\tROI\tNet Profit Margin\tFree Cash Flow per Share\tReturn on Tangible Equity\tNumber of Employees\tInflation Rate(in US)\n",
            "2022\tAAPL\tIT\t2066.94\t394328.0\t170782.0\t99803.0\t6.11\t130541.0\t50672.0\t122151.0\t-22354.0\t-110749.0\t0.8794\t2.3695\t196.9589\t28.2924\t66.6994\t25.3096\t1.3146\t196.9589\t164000\t8.0028\n",
            "2021\tAAPL\tIT\t2913.28\t365817.0\t152836.0\t94680.0\t5.61\t120233.0\t63090.0\t104038.0\t-14545.0\t-93353.0\t1.0746\t1.9768\t150.0713\t26.9742\t54.9839\t25.8818\t1.3261\t150.0713\t154000\t4.6979\n",
            "2020\tAAPL\tIT\t2255.97\t274515.0\t104956.0\t57411.0\t3.28\t77344.0\t65339.0\t80674.0\t-4289.0\t-86820.0\t1.3636\t1.7208\t87.8664\t17.7256\t35.0054\t20.9136\t1.0183\t87.8664\t147000\t1.2336\n",
            "*/\n",
            "\n",
            "\n",
            "CREATE TABLE online_shopping (\n",
            "\t\"CustomerID\" BIGINT, \n",
            "\t\"Gender\" TEXT, \n",
            "\t\"Location\" TEXT, \n",
            "\t\"Tenure_Months\" BIGINT, \n",
            "\t\"Transaction_ID\" BIGINT, \n",
            "\t\"Transaction_Date\" TEXT, \n",
            "\t\"Product_SKU\" TEXT, \n",
            "\t\"Product_Description\" TEXT, \n",
            "\t\"Product_Category\" TEXT, \n",
            "\t\"Quantity\" BIGINT, \n",
            "\t\"Avg_Price\" DOUBLE PRECISION, \n",
            "\t\"Total_Price\" DOUBLE PRECISION, \n",
            "\t\"Delivery_Charges\" DOUBLE PRECISION, \n",
            "\t\"Date\" TEXT, \n",
            "\t\"Month\" BIGINT\n",
            ")\n",
            "\n",
            "/*\n",
            "3 rows from online_shopping table:\n",
            "CustomerID\tGender\tLocation\tTenure_Months\tTransaction_ID\tTransaction_Date\tProduct_SKU\tProduct_Description\tProduct_Category\tQuantity\tAvg_Price\tTotal_Price\tDelivery_Charges\tDate\tMonth\n",
            "17850\tM\tChicago\t12\t16679\t2019-01-01\tGGOENEBJ079499\tNest Learning Thermostat 3rd Gen-USA - Stainless Steel\tNest-USA\t1\t153.71\t153.71\t6.5\t1/1/2019\t1\n",
            "17850\tM\tChicago\t12\t16680\t2019-01-01\tGGOENEBJ079499\tNest Learning Thermostat 3rd Gen-USA - Stainless Steel\tNest-USA\t1\t153.71\t153.71\t6.5\t1/1/2019\t1\n",
            "17850\tM\tChicago\t12\t16696\t2019-01-01\tGGOENEBQ078999\tNest Cam Outdoor Security Camera - USA\tNest-USA\t2\t122.77\t245.54\t6.5\t1/1/2019\t1\n",
            "*/\n",
            "\n",
            "\n",
            "CREATE TABLE spotify_data (\n",
            "\ttrack_name TEXT, \n",
            "\t\"artist(s)_name\" TEXT, \n",
            "\tartist_count BIGINT, \n",
            "\treleased_year BIGINT, \n",
            "\treleased_month BIGINT, \n",
            "\treleased_day BIGINT, \n",
            "\tin_spotify_playlists BIGINT, \n",
            "\tin_spotify_charts BIGINT, \n",
            "\tstreams TEXT, \n",
            "\tin_apple_playlists BIGINT, \n",
            "\tin_apple_charts BIGINT, \n",
            "\tin_deezer_playlists TEXT, \n",
            "\tin_deezer_charts BIGINT, \n",
            "\tin_shazam_charts TEXT, \n",
            "\tbpm BIGINT, \n",
            "\tkey TEXT, \n",
            "\tmode TEXT, \n",
            "\t\"danceability_%%\" BIGINT, \n",
            "\t\"valence_%%\" BIGINT, \n",
            "\t\"energy_%%\" BIGINT, \n",
            "\t\"acousticness_%%\" BIGINT, \n",
            "\t\"instrumentalness_%%\" BIGINT, \n",
            "\t\"liveness_%%\" BIGINT, \n",
            "\t\"speechiness_%%\" BIGINT\n",
            ")\n",
            "\n",
            "/*\n",
            "3 rows from spotify_data table:\n",
            "track_name\tartist(s)_name\tartist_count\treleased_year\treleased_month\treleased_day\tin_spotify_playlists\tin_spotify_charts\tstreams\tin_apple_playlists\tin_apple_charts\tin_deezer_playlists\tin_deezer_charts\tin_shazam_charts\tbpm\tkey\tmode\tdanceability_%\tvalence_%\tenergy_%\tacousticness_%\tinstrumentalness_%\tliveness_%\tspeechiness_%\n",
            "Seven (feat. Latto) (Explicit Ver.)\tLatto, Jung Kook\t2\t2023\t7\t14\t553\t147\t141381703\t43\t263\t45\t10\t826\t125\tB\tMajor\t80\t89\t83\t31\t0\t8\t4\n",
            "LALA\tMyke Towers\t1\t2023\t3\t23\t1474\t48\t133716286\t48\t126\t58\t14\t382\t92\tC#\tMajor\t71\t61\t74\t7\t0\t10\t4\n",
            "vampire\tOlivia Rodrigo\t1\t2023\t6\t30\t1397\t113\t140003974\t94\t207\t91\t14\t949\t138\tF\tMajor\t51\t32\t53\t17\t0\t31\t6\n",
            "*/\n"
          ]
        }
      ],
      "source": [
        "print(db.get_table_info())"
      ]
    },
    {
      "cell_type": "code",
      "execution_count": null,
      "metadata": {
        "colab": {
          "base_uri": "https://localhost:8080/"
        },
        "id": "FsNQp1mRCg0b",
        "outputId": "7a24d0ec-0b62-4eea-932f-06706fcdc0e1"
      },
      "outputs": [
        {
          "name": "stdout",
          "output_type": "stream",
          "text": [
            "\n",
            "CREATE TABLE online_shopping (\n",
            "\t\"CustomerID\" BIGINT, \n",
            "\t\"Gender\" TEXT, \n",
            "\t\"Location\" TEXT, \n",
            "\t\"Tenure_Months\" BIGINT, \n",
            "\t\"Transaction_ID\" BIGINT, \n",
            "\t\"Transaction_Date\" TEXT, \n",
            "\t\"Product_SKU\" TEXT, \n",
            "\t\"Product_Description\" TEXT, \n",
            "\t\"Product_Category\" TEXT, \n",
            "\t\"Quantity\" BIGINT, \n",
            "\t\"Avg_Price\" DOUBLE PRECISION, \n",
            "\t\"Total_Price\" DOUBLE PRECISION, \n",
            "\t\"Delivery_Charges\" DOUBLE PRECISION, \n",
            "\t\"Date\" TEXT, \n",
            "\t\"Month\" BIGINT\n",
            ")\n",
            "\n",
            "/*\n",
            "3 rows from online_shopping table:\n",
            "CustomerID\tGender\tLocation\tTenure_Months\tTransaction_ID\tTransaction_Date\tProduct_SKU\tProduct_Description\tProduct_Category\tQuantity\tAvg_Price\tTotal_Price\tDelivery_Charges\tDate\tMonth\n",
            "17850\tM\tChicago\t12\t16679\t2019-01-01\tGGOENEBJ079499\tNest Learning Thermostat 3rd Gen-USA - Stainless Steel\tNest-USA\t1\t153.71\t153.71\t6.5\t1/1/2019\t1\n",
            "17850\tM\tChicago\t12\t16680\t2019-01-01\tGGOENEBJ079499\tNest Learning Thermostat 3rd Gen-USA - Stainless Steel\tNest-USA\t1\t153.71\t153.71\t6.5\t1/1/2019\t1\n",
            "17850\tM\tChicago\t12\t16696\t2019-01-01\tGGOENEBQ078999\tNest Cam Outdoor Security Camera - USA\tNest-USA\t2\t122.77\t245.54\t6.5\t1/1/2019\t1\n",
            "*/\n"
          ]
        }
      ],
      "source": [
        "print(db.get_table_info(['online_shopping']))"
      ]
    },
    {
      "cell_type": "code",
      "execution_count": null,
      "metadata": {
        "colab": {
          "base_uri": "https://localhost:8080/",
          "height": 643
        },
        "id": "sVR6ANwfpNVF",
        "outputId": "fb248c70-2c42-4cf9-e9cf-30e87be03599"
      },
      "outputs": [
        {
          "data": {
            "application/vnd.google.colaboratory.intrinsic+json": {
              "summary": "{\n  \"name\": \"online_shopping_df\",\n  \"rows\": 52924,\n  \"fields\": [\n    {\n      \"column\": \"CustomerID\",\n      \"properties\": {\n        \"dtype\": \"number\",\n        \"std\": 1766,\n        \"min\": 12346,\n        \"max\": 18283,\n        \"num_unique_values\": 1468,\n        \"samples\": [\n          16252,\n          12471,\n          17676\n        ],\n        \"semantic_type\": \"\",\n        \"description\": \"\"\n      }\n    },\n    {\n      \"column\": \"Gender\",\n      \"properties\": {\n        \"dtype\": \"category\",\n        \"num_unique_values\": 2,\n        \"samples\": [\n          \"F\",\n          \"M\"\n        ],\n        \"semantic_type\": \"\",\n        \"description\": \"\"\n      }\n    },\n    {\n      \"column\": \"Location\",\n      \"properties\": {\n        \"dtype\": \"category\",\n        \"num_unique_values\": 5,\n        \"samples\": [\n          \"California\",\n          \"Washington DC\"\n        ],\n        \"semantic_type\": \"\",\n        \"description\": \"\"\n      }\n    },\n    {\n      \"column\": \"Tenure_Months\",\n      \"properties\": {\n        \"dtype\": \"number\",\n        \"std\": 13,\n        \"min\": 2,\n        \"max\": 50,\n        \"num_unique_values\": 49,\n        \"samples\": [\n          41,\n          47\n        ],\n        \"semantic_type\": \"\",\n        \"description\": \"\"\n      }\n    },\n    {\n      \"column\": \"Transaction_ID\",\n      \"properties\": {\n        \"dtype\": \"number\",\n        \"std\": 8648,\n        \"min\": 16679,\n        \"max\": 48497,\n        \"num_unique_values\": 25061,\n        \"samples\": [\n          48136,\n          36279\n        ],\n        \"semantic_type\": \"\",\n        \"description\": \"\"\n      }\n    },\n    {\n      \"column\": \"Transaction_Date\",\n      \"properties\": {\n        \"dtype\": \"object\",\n        \"num_unique_values\": 365,\n        \"samples\": [\n          \"2019-11-06\",\n          \"2019-12-08\"\n        ],\n        \"semantic_type\": \"\",\n        \"description\": \"\"\n      }\n    },\n    {\n      \"column\": \"Product_SKU\",\n      \"properties\": {\n        \"dtype\": \"category\",\n        \"num_unique_values\": 1145,\n        \"samples\": [\n          \"GGOEYAAB031815\",\n          \"GGOEGALJ060115\"\n        ],\n        \"semantic_type\": \"\",\n        \"description\": \"\"\n      }\n    },\n    {\n      \"column\": \"Product_Description\",\n      \"properties\": {\n        \"dtype\": \"category\",\n        \"num_unique_values\": 404,\n        \"samples\": [\n          \"Google Women's Short Sleeve Badge Tee Navy\",\n          \"Google 40 oz Insulated Monster Bottle\"\n        ],\n        \"semantic_type\": \"\",\n        \"description\": \"\"\n      }\n    },\n    {\n      \"column\": \"Product_Category\",\n      \"properties\": {\n        \"dtype\": \"category\",\n        \"num_unique_values\": 20,\n        \"samples\": [\n          \"Nest-USA\",\n          \"Android\"\n        ],\n        \"semantic_type\": \"\",\n        \"description\": \"\"\n      }\n    },\n    {\n      \"column\": \"Quantity\",\n      \"properties\": {\n        \"dtype\": \"number\",\n        \"std\": 20,\n        \"min\": 1,\n        \"max\": 900,\n        \"num_unique_values\": 151,\n        \"samples\": [\n          130,\n          36\n        ],\n        \"semantic_type\": \"\",\n        \"description\": \"\"\n      }\n    },\n    {\n      \"column\": \"Avg_Price\",\n      \"properties\": {\n        \"dtype\": \"number\",\n        \"std\": 64.00688159847277,\n        \"min\": 0.39,\n        \"max\": 355.74,\n        \"num_unique_values\": 546,\n        \"samples\": [\n          28.0,\n          1.5\n        ],\n        \"semantic_type\": \"\",\n        \"description\": \"\"\n      }\n    },\n    {\n      \"column\": \"Total_Price\",\n      \"properties\": {\n        \"dtype\": \"number\",\n        \"std\": 163.9931781305806,\n        \"min\": 0.4,\n        \"max\": 10512.39,\n        \"num_unique_values\": 2652,\n        \"samples\": [\n          309.14,\n          23.52\n        ],\n        \"semantic_type\": \"\",\n        \"description\": \"\"\n      }\n    },\n    {\n      \"column\": \"Delivery_Charges\",\n      \"properties\": {\n        \"dtype\": \"number\",\n        \"std\": 19.47561323182179,\n        \"min\": 0.0,\n        \"max\": 521.36,\n        \"num_unique_values\": 267,\n        \"samples\": [\n          14.41,\n          16.65\n        ],\n        \"semantic_type\": \"\",\n        \"description\": \"\"\n      }\n    },\n    {\n      \"column\": \"Date\",\n      \"properties\": {\n        \"dtype\": \"object\",\n        \"num_unique_values\": 365,\n        \"samples\": [\n          \"11/6/2019\",\n          \"12/8/2019\"\n        ],\n        \"semantic_type\": \"\",\n        \"description\": \"\"\n      }\n    },\n    {\n      \"column\": \"Month\",\n      \"properties\": {\n        \"dtype\": \"number\",\n        \"std\": 3,\n        \"min\": 1,\n        \"max\": 12,\n        \"num_unique_values\": 12,\n        \"samples\": [\n          7,\n          5\n        ],\n        \"semantic_type\": \"\",\n        \"description\": \"\"\n      }\n    }\n  ]\n}",
              "type": "dataframe",
              "variable_name": "online_shopping_df"
            },
            "text/html": [
              "\n",
              "  <div id=\"df-5aab4c9f-306c-4244-8392-5faa63152a76\" class=\"colab-df-container\">\n",
              "    <div>\n",
              "<style scoped>\n",
              "    .dataframe tbody tr th:only-of-type {\n",
              "        vertical-align: middle;\n",
              "    }\n",
              "\n",
              "    .dataframe tbody tr th {\n",
              "        vertical-align: top;\n",
              "    }\n",
              "\n",
              "    .dataframe thead th {\n",
              "        text-align: right;\n",
              "    }\n",
              "</style>\n",
              "<table border=\"1\" class=\"dataframe\">\n",
              "  <thead>\n",
              "    <tr style=\"text-align: right;\">\n",
              "      <th></th>\n",
              "      <th>CustomerID</th>\n",
              "      <th>Gender</th>\n",
              "      <th>Location</th>\n",
              "      <th>Tenure_Months</th>\n",
              "      <th>Transaction_ID</th>\n",
              "      <th>Transaction_Date</th>\n",
              "      <th>Product_SKU</th>\n",
              "      <th>Product_Description</th>\n",
              "      <th>Product_Category</th>\n",
              "      <th>Quantity</th>\n",
              "      <th>Avg_Price</th>\n",
              "      <th>Total_Price</th>\n",
              "      <th>Delivery_Charges</th>\n",
              "      <th>Date</th>\n",
              "      <th>Month</th>\n",
              "    </tr>\n",
              "  </thead>\n",
              "  <tbody>\n",
              "    <tr>\n",
              "      <th>0</th>\n",
              "      <td>17850</td>\n",
              "      <td>M</td>\n",
              "      <td>Chicago</td>\n",
              "      <td>12</td>\n",
              "      <td>16679</td>\n",
              "      <td>2019-01-01</td>\n",
              "      <td>GGOENEBJ079499</td>\n",
              "      <td>Nest Learning Thermostat 3rd Gen-USA - Stainle...</td>\n",
              "      <td>Nest-USA</td>\n",
              "      <td>1</td>\n",
              "      <td>153.71</td>\n",
              "      <td>153.71</td>\n",
              "      <td>6.5</td>\n",
              "      <td>1/1/2019</td>\n",
              "      <td>1</td>\n",
              "    </tr>\n",
              "    <tr>\n",
              "      <th>1</th>\n",
              "      <td>17850</td>\n",
              "      <td>M</td>\n",
              "      <td>Chicago</td>\n",
              "      <td>12</td>\n",
              "      <td>16680</td>\n",
              "      <td>2019-01-01</td>\n",
              "      <td>GGOENEBJ079499</td>\n",
              "      <td>Nest Learning Thermostat 3rd Gen-USA - Stainle...</td>\n",
              "      <td>Nest-USA</td>\n",
              "      <td>1</td>\n",
              "      <td>153.71</td>\n",
              "      <td>153.71</td>\n",
              "      <td>6.5</td>\n",
              "      <td>1/1/2019</td>\n",
              "      <td>1</td>\n",
              "    </tr>\n",
              "    <tr>\n",
              "      <th>2</th>\n",
              "      <td>17850</td>\n",
              "      <td>M</td>\n",
              "      <td>Chicago</td>\n",
              "      <td>12</td>\n",
              "      <td>16696</td>\n",
              "      <td>2019-01-01</td>\n",
              "      <td>GGOENEBQ078999</td>\n",
              "      <td>Nest Cam Outdoor Security Camera - USA</td>\n",
              "      <td>Nest-USA</td>\n",
              "      <td>2</td>\n",
              "      <td>122.77</td>\n",
              "      <td>245.54</td>\n",
              "      <td>6.5</td>\n",
              "      <td>1/1/2019</td>\n",
              "      <td>1</td>\n",
              "    </tr>\n",
              "    <tr>\n",
              "      <th>3</th>\n",
              "      <td>17850</td>\n",
              "      <td>M</td>\n",
              "      <td>Chicago</td>\n",
              "      <td>12</td>\n",
              "      <td>16699</td>\n",
              "      <td>2019-01-01</td>\n",
              "      <td>GGOENEBQ079099</td>\n",
              "      <td>Nest Protect Smoke + CO White Battery Alarm-USA</td>\n",
              "      <td>Nest-USA</td>\n",
              "      <td>1</td>\n",
              "      <td>81.50</td>\n",
              "      <td>81.50</td>\n",
              "      <td>6.5</td>\n",
              "      <td>1/1/2019</td>\n",
              "      <td>1</td>\n",
              "    </tr>\n",
              "    <tr>\n",
              "      <th>4</th>\n",
              "      <td>17850</td>\n",
              "      <td>M</td>\n",
              "      <td>Chicago</td>\n",
              "      <td>12</td>\n",
              "      <td>16700</td>\n",
              "      <td>2019-01-01</td>\n",
              "      <td>GGOENEBJ079499</td>\n",
              "      <td>Nest Learning Thermostat 3rd Gen-USA - Stainle...</td>\n",
              "      <td>Nest-USA</td>\n",
              "      <td>1</td>\n",
              "      <td>153.71</td>\n",
              "      <td>153.71</td>\n",
              "      <td>6.5</td>\n",
              "      <td>1/1/2019</td>\n",
              "      <td>1</td>\n",
              "    </tr>\n",
              "    <tr>\n",
              "      <th>...</th>\n",
              "      <td>...</td>\n",
              "      <td>...</td>\n",
              "      <td>...</td>\n",
              "      <td>...</td>\n",
              "      <td>...</td>\n",
              "      <td>...</td>\n",
              "      <td>...</td>\n",
              "      <td>...</td>\n",
              "      <td>...</td>\n",
              "      <td>...</td>\n",
              "      <td>...</td>\n",
              "      <td>...</td>\n",
              "      <td>...</td>\n",
              "      <td>...</td>\n",
              "      <td>...</td>\n",
              "    </tr>\n",
              "    <tr>\n",
              "      <th>52919</th>\n",
              "      <td>13155</td>\n",
              "      <td>F</td>\n",
              "      <td>California</td>\n",
              "      <td>8</td>\n",
              "      <td>22504</td>\n",
              "      <td>2019-03-10</td>\n",
              "      <td>GGOEGGCX056399</td>\n",
              "      <td>Gift Card - $250.00</td>\n",
              "      <td>Gift Cards</td>\n",
              "      <td>1</td>\n",
              "      <td>250.00</td>\n",
              "      <td>250.00</td>\n",
              "      <td>0.0</td>\n",
              "      <td>3/10/2019</td>\n",
              "      <td>3</td>\n",
              "    </tr>\n",
              "    <tr>\n",
              "      <th>52920</th>\n",
              "      <td>18077</td>\n",
              "      <td>M</td>\n",
              "      <td>Chicago</td>\n",
              "      <td>34</td>\n",
              "      <td>24250</td>\n",
              "      <td>2019-03-28</td>\n",
              "      <td>GGOEGGCX056299</td>\n",
              "      <td>Gift Card - $25.00</td>\n",
              "      <td>Gift Cards</td>\n",
              "      <td>1</td>\n",
              "      <td>25.00</td>\n",
              "      <td>25.00</td>\n",
              "      <td>0.0</td>\n",
              "      <td>3/28/2019</td>\n",
              "      <td>3</td>\n",
              "    </tr>\n",
              "    <tr>\n",
              "      <th>52921</th>\n",
              "      <td>16085</td>\n",
              "      <td>M</td>\n",
              "      <td>California</td>\n",
              "      <td>15</td>\n",
              "      <td>39991</td>\n",
              "      <td>2019-10-06</td>\n",
              "      <td>GGOEGOCD078399</td>\n",
              "      <td>Google Leather Perforated Journal</td>\n",
              "      <td>Notebooks &amp; Journals</td>\n",
              "      <td>1</td>\n",
              "      <td>10.80</td>\n",
              "      <td>10.80</td>\n",
              "      <td>6.0</td>\n",
              "      <td>10/6/2019</td>\n",
              "      <td>10</td>\n",
              "    </tr>\n",
              "    <tr>\n",
              "      <th>52922</th>\n",
              "      <td>16085</td>\n",
              "      <td>M</td>\n",
              "      <td>California</td>\n",
              "      <td>15</td>\n",
              "      <td>39991</td>\n",
              "      <td>2019-10-06</td>\n",
              "      <td>GGOEGOCR078499</td>\n",
              "      <td>Google Spiral Leather Journal</td>\n",
              "      <td>Notebooks &amp; Journals</td>\n",
              "      <td>1</td>\n",
              "      <td>9.60</td>\n",
              "      <td>9.60</td>\n",
              "      <td>6.0</td>\n",
              "      <td>10/6/2019</td>\n",
              "      <td>10</td>\n",
              "    </tr>\n",
              "    <tr>\n",
              "      <th>52923</th>\n",
              "      <td>13659</td>\n",
              "      <td>F</td>\n",
              "      <td>Chicago</td>\n",
              "      <td>8</td>\n",
              "      <td>39998</td>\n",
              "      <td>2019-10-06</td>\n",
              "      <td>GGOEGOCC077999</td>\n",
              "      <td>Google Spiral Journal with Pen</td>\n",
              "      <td>Notebooks &amp; Journals</td>\n",
              "      <td>1</td>\n",
              "      <td>5.59</td>\n",
              "      <td>5.59</td>\n",
              "      <td>6.5</td>\n",
              "      <td>10/6/2019</td>\n",
              "      <td>10</td>\n",
              "    </tr>\n",
              "  </tbody>\n",
              "</table>\n",
              "<p>52924 rows × 15 columns</p>\n",
              "</div>\n",
              "    <div class=\"colab-df-buttons\">\n",
              "\n",
              "  <div class=\"colab-df-container\">\n",
              "    <button class=\"colab-df-convert\" onclick=\"convertToInteractive('df-5aab4c9f-306c-4244-8392-5faa63152a76')\"\n",
              "            title=\"Convert this dataframe to an interactive table.\"\n",
              "            style=\"display:none;\">\n",
              "\n",
              "  <svg xmlns=\"http://www.w3.org/2000/svg\" height=\"24px\" viewBox=\"0 -960 960 960\">\n",
              "    <path d=\"M120-120v-720h720v720H120Zm60-500h600v-160H180v160Zm220 220h160v-160H400v160Zm0 220h160v-160H400v160ZM180-400h160v-160H180v160Zm440 0h160v-160H620v160ZM180-180h160v-160H180v160Zm440 0h160v-160H620v160Z\"/>\n",
              "  </svg>\n",
              "    </button>\n",
              "\n",
              "  <style>\n",
              "    .colab-df-container {\n",
              "      display:flex;\n",
              "      gap: 12px;\n",
              "    }\n",
              "\n",
              "    .colab-df-convert {\n",
              "      background-color: #E8F0FE;\n",
              "      border: none;\n",
              "      border-radius: 50%;\n",
              "      cursor: pointer;\n",
              "      display: none;\n",
              "      fill: #1967D2;\n",
              "      height: 32px;\n",
              "      padding: 0 0 0 0;\n",
              "      width: 32px;\n",
              "    }\n",
              "\n",
              "    .colab-df-convert:hover {\n",
              "      background-color: #E2EBFA;\n",
              "      box-shadow: 0px 1px 2px rgba(60, 64, 67, 0.3), 0px 1px 3px 1px rgba(60, 64, 67, 0.15);\n",
              "      fill: #174EA6;\n",
              "    }\n",
              "\n",
              "    .colab-df-buttons div {\n",
              "      margin-bottom: 4px;\n",
              "    }\n",
              "\n",
              "    [theme=dark] .colab-df-convert {\n",
              "      background-color: #3B4455;\n",
              "      fill: #D2E3FC;\n",
              "    }\n",
              "\n",
              "    [theme=dark] .colab-df-convert:hover {\n",
              "      background-color: #434B5C;\n",
              "      box-shadow: 0px 1px 3px 1px rgba(0, 0, 0, 0.15);\n",
              "      filter: drop-shadow(0px 1px 2px rgba(0, 0, 0, 0.3));\n",
              "      fill: #FFFFFF;\n",
              "    }\n",
              "  </style>\n",
              "\n",
              "    <script>\n",
              "      const buttonEl =\n",
              "        document.querySelector('#df-5aab4c9f-306c-4244-8392-5faa63152a76 button.colab-df-convert');\n",
              "      buttonEl.style.display =\n",
              "        google.colab.kernel.accessAllowed ? 'block' : 'none';\n",
              "\n",
              "      async function convertToInteractive(key) {\n",
              "        const element = document.querySelector('#df-5aab4c9f-306c-4244-8392-5faa63152a76');\n",
              "        const dataTable =\n",
              "          await google.colab.kernel.invokeFunction('convertToInteractive',\n",
              "                                                    [key], {});\n",
              "        if (!dataTable) return;\n",
              "\n",
              "        const docLinkHtml = 'Like what you see? Visit the ' +\n",
              "          '<a target=\"_blank\" href=https://colab.research.google.com/notebooks/data_table.ipynb>data table notebook</a>'\n",
              "          + ' to learn more about interactive tables.';\n",
              "        element.innerHTML = '';\n",
              "        dataTable['output_type'] = 'display_data';\n",
              "        await google.colab.output.renderOutput(dataTable, element);\n",
              "        const docLink = document.createElement('div');\n",
              "        docLink.innerHTML = docLinkHtml;\n",
              "        element.appendChild(docLink);\n",
              "      }\n",
              "    </script>\n",
              "  </div>\n",
              "\n",
              "\n",
              "<div id=\"df-4a5b7ed3-e0ec-4d30-b2c3-207f23a7ca14\">\n",
              "  <button class=\"colab-df-quickchart\" onclick=\"quickchart('df-4a5b7ed3-e0ec-4d30-b2c3-207f23a7ca14')\"\n",
              "            title=\"Suggest charts\"\n",
              "            style=\"display:none;\">\n",
              "\n",
              "<svg xmlns=\"http://www.w3.org/2000/svg\" height=\"24px\"viewBox=\"0 0 24 24\"\n",
              "     width=\"24px\">\n",
              "    <g>\n",
              "        <path d=\"M19 3H5c-1.1 0-2 .9-2 2v14c0 1.1.9 2 2 2h14c1.1 0 2-.9 2-2V5c0-1.1-.9-2-2-2zM9 17H7v-7h2v7zm4 0h-2V7h2v10zm4 0h-2v-4h2v4z\"/>\n",
              "    </g>\n",
              "</svg>\n",
              "  </button>\n",
              "\n",
              "<style>\n",
              "  .colab-df-quickchart {\n",
              "      --bg-color: #E8F0FE;\n",
              "      --fill-color: #1967D2;\n",
              "      --hover-bg-color: #E2EBFA;\n",
              "      --hover-fill-color: #174EA6;\n",
              "      --disabled-fill-color: #AAA;\n",
              "      --disabled-bg-color: #DDD;\n",
              "  }\n",
              "\n",
              "  [theme=dark] .colab-df-quickchart {\n",
              "      --bg-color: #3B4455;\n",
              "      --fill-color: #D2E3FC;\n",
              "      --hover-bg-color: #434B5C;\n",
              "      --hover-fill-color: #FFFFFF;\n",
              "      --disabled-bg-color: #3B4455;\n",
              "      --disabled-fill-color: #666;\n",
              "  }\n",
              "\n",
              "  .colab-df-quickchart {\n",
              "    background-color: var(--bg-color);\n",
              "    border: none;\n",
              "    border-radius: 50%;\n",
              "    cursor: pointer;\n",
              "    display: none;\n",
              "    fill: var(--fill-color);\n",
              "    height: 32px;\n",
              "    padding: 0;\n",
              "    width: 32px;\n",
              "  }\n",
              "\n",
              "  .colab-df-quickchart:hover {\n",
              "    background-color: var(--hover-bg-color);\n",
              "    box-shadow: 0 1px 2px rgba(60, 64, 67, 0.3), 0 1px 3px 1px rgba(60, 64, 67, 0.15);\n",
              "    fill: var(--button-hover-fill-color);\n",
              "  }\n",
              "\n",
              "  .colab-df-quickchart-complete:disabled,\n",
              "  .colab-df-quickchart-complete:disabled:hover {\n",
              "    background-color: var(--disabled-bg-color);\n",
              "    fill: var(--disabled-fill-color);\n",
              "    box-shadow: none;\n",
              "  }\n",
              "\n",
              "  .colab-df-spinner {\n",
              "    border: 2px solid var(--fill-color);\n",
              "    border-color: transparent;\n",
              "    border-bottom-color: var(--fill-color);\n",
              "    animation:\n",
              "      spin 1s steps(1) infinite;\n",
              "  }\n",
              "\n",
              "  @keyframes spin {\n",
              "    0% {\n",
              "      border-color: transparent;\n",
              "      border-bottom-color: var(--fill-color);\n",
              "      border-left-color: var(--fill-color);\n",
              "    }\n",
              "    20% {\n",
              "      border-color: transparent;\n",
              "      border-left-color: var(--fill-color);\n",
              "      border-top-color: var(--fill-color);\n",
              "    }\n",
              "    30% {\n",
              "      border-color: transparent;\n",
              "      border-left-color: var(--fill-color);\n",
              "      border-top-color: var(--fill-color);\n",
              "      border-right-color: var(--fill-color);\n",
              "    }\n",
              "    40% {\n",
              "      border-color: transparent;\n",
              "      border-right-color: var(--fill-color);\n",
              "      border-top-color: var(--fill-color);\n",
              "    }\n",
              "    60% {\n",
              "      border-color: transparent;\n",
              "      border-right-color: var(--fill-color);\n",
              "    }\n",
              "    80% {\n",
              "      border-color: transparent;\n",
              "      border-right-color: var(--fill-color);\n",
              "      border-bottom-color: var(--fill-color);\n",
              "    }\n",
              "    90% {\n",
              "      border-color: transparent;\n",
              "      border-bottom-color: var(--fill-color);\n",
              "    }\n",
              "  }\n",
              "</style>\n",
              "\n",
              "  <script>\n",
              "    async function quickchart(key) {\n",
              "      const quickchartButtonEl =\n",
              "        document.querySelector('#' + key + ' button');\n",
              "      quickchartButtonEl.disabled = true;  // To prevent multiple clicks.\n",
              "      quickchartButtonEl.classList.add('colab-df-spinner');\n",
              "      try {\n",
              "        const charts = await google.colab.kernel.invokeFunction(\n",
              "            'suggestCharts', [key], {});\n",
              "      } catch (error) {\n",
              "        console.error('Error during call to suggestCharts:', error);\n",
              "      }\n",
              "      quickchartButtonEl.classList.remove('colab-df-spinner');\n",
              "      quickchartButtonEl.classList.add('colab-df-quickchart-complete');\n",
              "    }\n",
              "    (() => {\n",
              "      let quickchartButtonEl =\n",
              "        document.querySelector('#df-4a5b7ed3-e0ec-4d30-b2c3-207f23a7ca14 button');\n",
              "      quickchartButtonEl.style.display =\n",
              "        google.colab.kernel.accessAllowed ? 'block' : 'none';\n",
              "    })();\n",
              "  </script>\n",
              "</div>\n",
              "\n",
              "  <div id=\"id_8d80a722-95c9-4a1e-ab92-16289ae84609\">\n",
              "    <style>\n",
              "      .colab-df-generate {\n",
              "        background-color: #E8F0FE;\n",
              "        border: none;\n",
              "        border-radius: 50%;\n",
              "        cursor: pointer;\n",
              "        display: none;\n",
              "        fill: #1967D2;\n",
              "        height: 32px;\n",
              "        padding: 0 0 0 0;\n",
              "        width: 32px;\n",
              "      }\n",
              "\n",
              "      .colab-df-generate:hover {\n",
              "        background-color: #E2EBFA;\n",
              "        box-shadow: 0px 1px 2px rgba(60, 64, 67, 0.3), 0px 1px 3px 1px rgba(60, 64, 67, 0.15);\n",
              "        fill: #174EA6;\n",
              "      }\n",
              "\n",
              "      [theme=dark] .colab-df-generate {\n",
              "        background-color: #3B4455;\n",
              "        fill: #D2E3FC;\n",
              "      }\n",
              "\n",
              "      [theme=dark] .colab-df-generate:hover {\n",
              "        background-color: #434B5C;\n",
              "        box-shadow: 0px 1px 3px 1px rgba(0, 0, 0, 0.15);\n",
              "        filter: drop-shadow(0px 1px 2px rgba(0, 0, 0, 0.3));\n",
              "        fill: #FFFFFF;\n",
              "      }\n",
              "    </style>\n",
              "    <button class=\"colab-df-generate\" onclick=\"generateWithVariable('online_shopping_df')\"\n",
              "            title=\"Generate code using this dataframe.\"\n",
              "            style=\"display:none;\">\n",
              "\n",
              "  <svg xmlns=\"http://www.w3.org/2000/svg\" height=\"24px\"viewBox=\"0 0 24 24\"\n",
              "       width=\"24px\">\n",
              "    <path d=\"M7,19H8.4L18.45,9,17,7.55,7,17.6ZM5,21V16.75L18.45,3.32a2,2,0,0,1,2.83,0l1.4,1.43a1.91,1.91,0,0,1,.58,1.4,1.91,1.91,0,0,1-.58,1.4L9.25,21ZM18.45,9,17,7.55Zm-12,3A5.31,5.31,0,0,0,4.9,8.1,5.31,5.31,0,0,0,1,6.5,5.31,5.31,0,0,0,4.9,4.9,5.31,5.31,0,0,0,6.5,1,5.31,5.31,0,0,0,8.1,4.9,5.31,5.31,0,0,0,12,6.5,5.46,5.46,0,0,0,6.5,12Z\"/>\n",
              "  </svg>\n",
              "    </button>\n",
              "    <script>\n",
              "      (() => {\n",
              "      const buttonEl =\n",
              "        document.querySelector('#id_8d80a722-95c9-4a1e-ab92-16289ae84609 button.colab-df-generate');\n",
              "      buttonEl.style.display =\n",
              "        google.colab.kernel.accessAllowed ? 'block' : 'none';\n",
              "\n",
              "      buttonEl.onclick = () => {\n",
              "        google.colab.notebook.generateWithVariable('online_shopping_df');\n",
              "      }\n",
              "      })();\n",
              "    </script>\n",
              "  </div>\n",
              "\n",
              "    </div>\n",
              "  </div>\n"
            ],
            "text/plain": [
              "       CustomerID Gender    Location  Tenure_Months  Transaction_ID  \\\n",
              "0           17850      M     Chicago             12           16679   \n",
              "1           17850      M     Chicago             12           16680   \n",
              "2           17850      M     Chicago             12           16696   \n",
              "3           17850      M     Chicago             12           16699   \n",
              "4           17850      M     Chicago             12           16700   \n",
              "...           ...    ...         ...            ...             ...   \n",
              "52919       13155      F  California              8           22504   \n",
              "52920       18077      M     Chicago             34           24250   \n",
              "52921       16085      M  California             15           39991   \n",
              "52922       16085      M  California             15           39991   \n",
              "52923       13659      F     Chicago              8           39998   \n",
              "\n",
              "      Transaction_Date     Product_SKU  \\\n",
              "0           2019-01-01  GGOENEBJ079499   \n",
              "1           2019-01-01  GGOENEBJ079499   \n",
              "2           2019-01-01  GGOENEBQ078999   \n",
              "3           2019-01-01  GGOENEBQ079099   \n",
              "4           2019-01-01  GGOENEBJ079499   \n",
              "...                ...             ...   \n",
              "52919       2019-03-10  GGOEGGCX056399   \n",
              "52920       2019-03-28  GGOEGGCX056299   \n",
              "52921       2019-10-06  GGOEGOCD078399   \n",
              "52922       2019-10-06  GGOEGOCR078499   \n",
              "52923       2019-10-06  GGOEGOCC077999   \n",
              "\n",
              "                                     Product_Description  \\\n",
              "0      Nest Learning Thermostat 3rd Gen-USA - Stainle...   \n",
              "1      Nest Learning Thermostat 3rd Gen-USA - Stainle...   \n",
              "2                 Nest Cam Outdoor Security Camera - USA   \n",
              "3        Nest Protect Smoke + CO White Battery Alarm-USA   \n",
              "4      Nest Learning Thermostat 3rd Gen-USA - Stainle...   \n",
              "...                                                  ...   \n",
              "52919                                Gift Card - $250.00   \n",
              "52920                                 Gift Card - $25.00   \n",
              "52921                  Google Leather Perforated Journal   \n",
              "52922                      Google Spiral Leather Journal   \n",
              "52923                     Google Spiral Journal with Pen   \n",
              "\n",
              "           Product_Category  Quantity  Avg_Price  Total_Price  \\\n",
              "0                  Nest-USA         1     153.71       153.71   \n",
              "1                  Nest-USA         1     153.71       153.71   \n",
              "2                  Nest-USA         2     122.77       245.54   \n",
              "3                  Nest-USA         1      81.50        81.50   \n",
              "4                  Nest-USA         1     153.71       153.71   \n",
              "...                     ...       ...        ...          ...   \n",
              "52919            Gift Cards         1     250.00       250.00   \n",
              "52920            Gift Cards         1      25.00        25.00   \n",
              "52921  Notebooks & Journals         1      10.80        10.80   \n",
              "52922  Notebooks & Journals         1       9.60         9.60   \n",
              "52923  Notebooks & Journals         1       5.59         5.59   \n",
              "\n",
              "       Delivery_Charges       Date  Month  \n",
              "0                   6.5   1/1/2019      1  \n",
              "1                   6.5   1/1/2019      1  \n",
              "2                   6.5   1/1/2019      1  \n",
              "3                   6.5   1/1/2019      1  \n",
              "4                   6.5   1/1/2019      1  \n",
              "...                 ...        ...    ...  \n",
              "52919               0.0  3/10/2019      3  \n",
              "52920               0.0  3/28/2019      3  \n",
              "52921               6.0  10/6/2019     10  \n",
              "52922               6.0  10/6/2019     10  \n",
              "52923               6.5  10/6/2019     10  \n",
              "\n",
              "[52924 rows x 15 columns]"
            ]
          },
          "execution_count": 19,
          "metadata": {},
          "output_type": "execute_result"
        }
      ],
      "source": [
        "online_shopping_df"
      ]
    },
    {
      "cell_type": "markdown",
      "metadata": {
        "id": "U3sofwjayBPl"
      },
      "source": [
        "test sql query"
      ]
    },
    {
      "cell_type": "code",
      "execution_count": null,
      "metadata": {
        "colab": {
          "base_uri": "https://localhost:8080/",
          "height": 137
        },
        "id": "8yF_sVu_ndIL",
        "outputId": "f39977b8-a17c-4b1e-c6c6-0f36689fa6b5"
      },
      "outputs": [
        {
          "data": {
            "application/vnd.google.colaboratory.intrinsic+json": {
              "type": "string"
            },
            "text/plain": [
              "\"[(17850, 'M', 'Chicago', 12, 16679, '2019-01-01', 'GGOENEBJ079499', 'Nest Learning Thermostat 3rd Gen-USA - Stainless Steel', 'Nest-USA', 1, 153.71, 153.71, 6.5, '1/1/2019', 1), (17850, 'M', 'Chicago', 12, 16680, '2019-01-01', 'GGOENEBJ079499', 'Nest Learning Thermostat 3rd Gen-USA - Stainless Steel', 'Nest-USA', 1, 153.71, 153.71, 6.5, '1/1/2019', 1), (17850, 'M', 'Chicago', 12, 16696, '2019-01-01', 'GGOENEBQ078999', 'Nest Cam Outdoor Security Camera - USA', 'Nest-USA', 2, 122.77, 245.54, 6.5, '1/1/2019', 1), (17850, 'M', 'Chicago', 12, 16699, '2019-01-01', 'GGOENEBQ079099', 'Nest Protect Smoke + CO White Battery Alarm-USA', 'Nest-USA', 1, 81.5, 81.5, 6.5, '1/1/2019', 1), (17850, 'M', 'Chicago', 12, 16700, '2019-01-01', 'GGOENEBJ079499', 'Nest Learning Thermostat 3rd Gen-USA - Stainless Steel', 'Nest-USA', 1, 153.71, 153.71, 6.5, '1/1/2019', 1)]\""
            ]
          },
          "execution_count": 21,
          "metadata": {},
          "output_type": "execute_result"
        }
      ],
      "source": [
        "db.run(\"SELECT * FROM online_shopping LIMIT 5;\")"
      ]
    },
    {
      "cell_type": "markdown",
      "metadata": {
        "id": "wJr66mW2yOEp"
      },
      "source": [
        "### Using groq via Langchain"
      ]
    },
    {
      "cell_type": "markdown",
      "metadata": {
        "id": "AxWWy2k-czTQ"
      },
      "source": [
        "**login**\n",
        "https://console.groq.com/home\n",
        "\n",
        "**model**\n",
        "https://console.groq.com/docs/models"
      ]
    },
    {
      "cell_type": "code",
      "execution_count": null,
      "metadata": {
        "id": "z8QDt3g7nqKt"
      },
      "outputs": [],
      "source": [
        "!pip -q install -U langchain-groq"
      ]
    },
    {
      "cell_type": "code",
      "execution_count": null,
      "metadata": {
        "id": "cHpvLCQSof02"
      },
      "outputs": [],
      "source": [
        "from langchain_groq import ChatGroq\n",
        "from google.colab import userdata\n",
        "\n",
        "llm = ChatGroq(\n",
        "    api_key = userdata.get('GROQ_API'),\n",
        "    model= \"meta-llama/llama-4-scout-17b-16e-instruct\",  # meta-llama/llama-4-maverick-17b-128e-instruct    #\"llama-3.1-70b-versatile\"\n",
        "    temperature=0,\n",
        "    # other params...\n",
        ")\n",
        "\n"
      ]
    },
    {
      "cell_type": "markdown",
      "metadata": {
        "id": "-cWDxET5yelZ"
      },
      "source": [
        "call llm Example"
      ]
    },
    {
      "cell_type": "code",
      "execution_count": null,
      "metadata": {
        "colab": {
          "base_uri": "https://localhost:8080/"
        },
        "id": "q89K3xMF1_F1",
        "outputId": "6a5e8978-d55d-4023-e5dd-4ae198d95d9e"
      },
      "outputs": [
        {
          "data": {
            "text/plain": [
              "AIMessage(content='ฉันชอบเขียนโปรแกรม', additional_kwargs={}, response_metadata={'token_usage': {'completion_tokens': 5, 'prompt_tokens': 32, 'total_tokens': 37, 'completion_time': 0.011767491, 'prompt_time': 0.00333039, 'queue_time': 0.446333371, 'total_time': 0.015097881}, 'model_name': 'meta-llama/llama-4-scout-17b-16e-instruct', 'system_fingerprint': 'fp_42ae451038', 'finish_reason': 'stop', 'logprobs': None}, id='run-a9a16a2e-ff1e-4f7a-8c93-1e9b03cb1758-0', usage_metadata={'input_tokens': 32, 'output_tokens': 5, 'total_tokens': 37})"
            ]
          },
          "execution_count": 25,
          "metadata": {},
          "output_type": "execute_result"
        }
      ],
      "source": [
        "## Example\n",
        "messages = [\n",
        "    (\"system\", \"You are a helpful translator. Translate the usersentence to Thai.\"),\n",
        "    (\"human\", \"I love programming.\"),\n",
        "]\n",
        "llm.invoke(messages)"
      ]
    },
    {
      "cell_type": "markdown",
      "metadata": {
        "id": "kVNHwIZEyqU2"
      },
      "source": [
        "### Creat sql Chain"
      ]
    },
    {
      "cell_type": "code",
      "execution_count": null,
      "metadata": {
        "colab": {
          "base_uri": "https://localhost:8080/"
        },
        "id": "vvhq3zJ3oz-t",
        "outputId": "6c1286ea-50d3-45e9-f7c9-9ba420c70c02"
      },
      "outputs": [
        {
          "name": "stdout",
          "output_type": "stream",
          "text": [
            "You are a PostgreSQL expert. Given an input question, first create a syntactically correct PostgreSQL query to run, then look at the results of the query and return the answer to the input question.\n",
            "Unless the user specifies in the question a specific number of examples to obtain, query for at most 5 results using the LIMIT clause as per PostgreSQL. You can order the results to return the most informative data in the database.\n",
            "Never query for all columns from a table. You must query only the columns that are needed to answer the question. Wrap each column name in double quotes (\") to denote them as delimited identifiers.\n",
            "Pay attention to use only the column names you can see in the tables below. Be careful to not query for columns that do not exist. Also, pay attention to which column is in which table.\n",
            "Pay attention to use CURRENT_DATE function to get the current date, if the question involves \"today\".\n",
            "\n",
            "Use the following format:\n",
            "\n",
            "Question: Question here\n",
            "SQLQuery: SQL Query to run\n",
            "SQLResult: Result of the SQLQuery\n",
            "Answer: Final answer here\n",
            "\n",
            "Only use the following tables:\n",
            "\u001b[33;1m\u001b[1;3m{table_info}\u001b[0m\n",
            "\n",
            "Question: \u001b[33;1m\u001b[1;3m{input}\u001b[0m\n",
            "None\n"
          ]
        }
      ],
      "source": [
        "from langchain.chains import create_sql_query_chain\n",
        "\n",
        "chain = create_sql_query_chain(llm, db)\n",
        "print(chain.get_prompts()[0].pretty_print())\n"
      ]
    },
    {
      "cell_type": "markdown",
      "metadata": {
        "id": "m0M4yQkxzH5l"
      },
      "source": [
        "[link text](https://)#### Step 1 SQLQuery from LLM"
      ]
    },
    {
      "cell_type": "code",
      "execution_count": null,
      "metadata": {
        "colab": {
          "base_uri": "https://localhost:8080/",
          "height": 52
        },
        "id": "SSUgE8dbuwdu",
        "outputId": "ab903d12-ebe3-4099-9cfa-43c6c83719ae"
      },
      "outputs": [
        {
          "data": {
            "application/vnd.google.colaboratory.intrinsic+json": {
              "type": "string"
            },
            "text/plain": [
              "'Question: มี Ticket_ID จำนวนเท่าไหร่ ที่ Date_of_Purchase ตั้งแต่2020-02-01 ถึง2020-02-28\\n\\nSQLQuery:\\n```sql\\nSELECT COUNT(\"Ticket_ID\") \\nFROM customer_support_tickets \\nWHERE \"Date_of_Purchase\" BETWEEN \\'2020-02-01\\' AND \\'2020-02-28\\';\\n```'"
            ]
          },
          "execution_count": 27,
          "metadata": {},
          "output_type": "execute_result"
        }
      ],
      "source": [
        "Quesion = \"มี Ticket_ID จำนวนเท่าไหร่ ที่ Date_of_Purchase ตั้งแต่ 2020-02-01 ถึง 2020-02-28\"\n",
        "response = chain.invoke({\"question\": Quesion})\n",
        "response"
      ]
    },
    {
      "cell_type": "code",
      "execution_count": null,
      "metadata": {
        "colab": {
          "base_uri": "https://localhost:8080/"
        },
        "id": "mxTW8oqhpa6w",
        "outputId": "7160d65b-dda3-40ae-8b03-6f8fce3d92bf"
      },
      "outputs": [
        {
          "name": "stdout",
          "output_type": "stream",
          "text": [
            "\n",
            "SELECT COUNT(\"Ticket_ID\") \n",
            "FROM customer_support_tickets \n",
            "WHERE \"Date_of_Purchase\" BETWEEN '2020-02-01' AND '2020-02-28';\n",
            "\n"
          ]
        }
      ],
      "source": [
        "print(response.split('SQLQuery:')[-1][7:-3])"
      ]
    },
    {
      "cell_type": "markdown",
      "metadata": {
        "id": "npTWXm8RzR9c"
      },
      "source": [
        "#### Step 2 SQLResult from sqlquery"
      ]
    },
    {
      "cell_type": "code",
      "execution_count": null,
      "metadata": {
        "colab": {
          "base_uri": "https://localhost:8080/",
          "height": 35
        },
        "id": "t4QNQzFRpfQ5",
        "outputId": "bfffe22e-70cb-4abb-fcdc-4a991c92875a"
      },
      "outputs": [
        {
          "data": {
            "application/vnd.google.colaboratory.intrinsic+json": {
              "type": "string"
            },
            "text/plain": [
              "'[(361,)]'"
            ]
          },
          "execution_count": 31,
          "metadata": {},
          "output_type": "execute_result"
        }
      ],
      "source": [
        "SQL_Result=db.run(response.split('SQLQuery:')[-1][7:-3])\n",
        "SQL_Result"
      ]
    },
    {
      "cell_type": "markdown",
      "metadata": {
        "id": "C8QdQdCRzhoq"
      },
      "source": [
        "#### Step 3 get Answer from LLM"
      ]
    },
    {
      "cell_type": "code",
      "execution_count": null,
      "metadata": {
        "colab": {
          "base_uri": "https://localhost:8080/"
        },
        "id": "V7MrwDVh2PJg",
        "outputId": "514e1f4b-eadb-4716-f662-15b90a44eef2"
      },
      "outputs": [
        {
          "data": {
            "text/plain": [
              "AIMessage(content='มี Ticket_ID จำนวน 361 รายการ ที่ Date_of_Purchase ตั้งแต่2020-02-01 ถึง2020-02-28', additional_kwargs={}, response_metadata={'token_usage': {'completion_tokens': 29, 'prompt_tokens': 114, 'total_tokens': 143, 'completion_time': 0.056934862, 'prompt_time': 0.00510601, 'queue_time': 0.193800532, 'total_time': 0.062040872}, 'model_name': 'meta-llama/llama-4-scout-17b-16e-instruct', 'system_fingerprint': 'fp_42ae451038', 'finish_reason': 'stop', 'logprobs': None}, id='run-dd600be3-a010-4503-811a-b9de3c929cfa-0', usage_metadata={'input_tokens': 114, 'output_tokens': 29, 'total_tokens': 143})"
            ]
          },
          "execution_count": 32,
          "metadata": {},
          "output_type": "execute_result"
        }
      ],
      "source": [
        "answer_prompt =f\"\"\"\n",
        "given the following user question, corresponding SQL query, and SQL result, answer the user question.\n",
        "\n",
        "Qtionues: {Quesion}\n",
        "SQL Query: {response.split('SQLQuery:')[-1][7:-3]}\n",
        "SQL Result: {SQL_Result}\n",
        "Answer:\n",
        "\"\"\"\n",
        "messages = [\n",
        "    (\"system\", answer_prompt),\n",
        "]\n",
        "answer = llm.invoke(messages)\n",
        "answer"
      ]
    },
    {
      "cell_type": "code",
      "execution_count": null,
      "metadata": {
        "colab": {
          "base_uri": "https://localhost:8080/",
          "height": 35
        },
        "id": "Dw23UD0j3HWS",
        "outputId": "13571adf-8be9-4287-cdfa-b019d5e6a84f"
      },
      "outputs": [
        {
          "data": {
            "application/vnd.google.colaboratory.intrinsic+json": {
              "type": "string"
            },
            "text/plain": [
              "'มี Ticket_ID จำนวน 361 รายการ ที่ Date_of_Purchase ตั้งแต่2020-02-01 ถึง2020-02-28'"
            ]
          },
          "execution_count": 33,
          "metadata": {},
          "output_type": "execute_result"
        }
      ],
      "source": [
        "answer.content"
      ]
    },
    {
      "cell_type": "markdown",
      "metadata": {
        "id": "imlqy-nEzxJk"
      },
      "source": [
        "### Combine chain in one process"
      ]
    },
    {
      "cell_type": "code",
      "execution_count": null,
      "metadata": {
        "colab": {
          "base_uri": "https://localhost:8080/",
          "height": 140
        },
        "id": "A7p7vgpmq7wU",
        "outputId": "1ff4ac08-f6ce-411d-c329-62e4c129707c"
      },
      "outputs": [
        {
          "name": "stderr",
          "output_type": "stream",
          "text": [
            "<ipython-input-34-cf898f7f3b82>:3: LangChainDeprecationWarning: The class `QuerySQLDataBaseTool` was deprecated in LangChain 0.3.12 and will be removed in 1.0. An updated version of the class exists in the :class:`~langchain-community package and should be used instead. To use it run `pip install -U :class:`~langchain-community` and import as `from :class:`~langchain_community.tools import QuerySQLDatabaseTool``.\n",
            "  execute_query = QuerySQLDataBaseTool(db=db)\n"
          ]
        },
        {
          "data": {
            "application/vnd.google.colaboratory.intrinsic+json": {
              "type": "string"
            },
            "text/plain": [
              "'Error: (psycopg2.errors.SyntaxError) syntax error at or near \"Question\"\\nLINE 1: Question: มี Ticket_ID จำนวนเท่าไหร่ ที่ Date_of_Purchase ตั...\\n        ^\\n\\n[SQL: Question: มี Ticket_ID จำนวนเท่าไหร่ ที่ Date_of_Purchase ตั้งแต่2020-02-01 ถึง2020-02-28\\nSQLQuery: \\n```sql\\nSELECT COUNT(\"Ticket_ID\") \\nFROM customer_support_tickets \\nWHERE \"Date_of_Purchase\" BETWEEN \\'2020-02-01\\' AND \\'2020-02-28\\';\\n```]\\n(Background on this error at: https://sqlalche.me/e/20/f405)'"
            ]
          },
          "execution_count": 34,
          "metadata": {},
          "output_type": "execute_result"
        }
      ],
      "source": [
        "from langchain_community.tools.sql_database.tool import QuerySQLDataBaseTool\n",
        "\n",
        "execute_query = QuerySQLDataBaseTool(db=db)\n",
        "write_query = create_sql_query_chain(llm, db)\n",
        "chain = write_query | execute_query\n",
        "chain.invoke({\"question\": Quesion})"
      ]
    },
    {
      "cell_type": "markdown",
      "metadata": {
        "id": "--kh8Mzaz-_a"
      },
      "source": [
        "#### Change prompt template for Llama4"
      ]
    },
    {
      "cell_type": "code",
      "execution_count": null,
      "metadata": {
        "id": "WMAlkUDX3hda"
      },
      "outputs": [],
      "source": [
        "from langchain_core.prompts import PromptTemplate\n",
        "\n",
        "template = '''You are a PostgreSQL expert. Given an input question, first create a syntactically correct PostgreSQL query to run, then look at the results of the query and return the answer to the input question.\n",
        "Unless the user specifies in the question a specific number of examples to obtain, query for at most 5 results using the LIMIT clause as per PostgreSQL. You can order the results to return the most informative data in the database.\n",
        "Never query for all columns from a table. You must query only the columns that are needed to answer the question. Wrap each column name in double quotes (\") to denote them as delimited identifiers.\n",
        "Pay attention to use only the column names you can see in the tables below. Be careful to not query for columns that do not exist. Also, pay attention to which column is in which table.\n",
        "Pay attention to use CURRENT_DATE function to get the current date, if the question involves \"today\".\n",
        "\n",
        "Use the following format:\n",
        "\n",
        "Question: Question here\n",
        "SQLQuery: SQL Query to run\n",
        "\n",
        "Answer only SQLQuery\n",
        "Example :\n",
        "    - SELECT COUNT(*) FROM head WHERE age > 56\n",
        "    - SELECT MAX(budget_in_billions), MIN(budget_in_billions) FROM department\n",
        "    - SELECT AVG(num_employees) FROM department WHERE ranking BETWEEN 10 AND 15\n",
        "\n",
        "Only use the following tables:\n",
        "{table_info}\n",
        "\n",
        "Question: {input}'''\n",
        "prompt = PromptTemplate.from_template(template, partial_variables={\n",
        "    \"table_info\": db.get_table_info(),\n",
        "    \"top_k\": 5,  # Default value for top_k\n",
        "})"
      ]
    },
    {
      "cell_type": "code",
      "execution_count": null,
      "metadata": {
        "colab": {
          "base_uri": "https://localhost:8080/"
        },
        "id": "s3QtkB9w4Lyf",
        "outputId": "c4b49cf8-bca3-4da0-9aca-937a191af161"
      },
      "outputs": [
        {
          "name": "stdout",
          "output_type": "stream",
          "text": [
            "You are a PostgreSQL expert. Given an input question, first create a syntactically correct PostgreSQL query to run, then look at the results of the query and return the answer to the input question.\n",
            "Unless the user specifies in the question a specific number of examples to obtain, query for at most 5 results using the LIMIT clause as per PostgreSQL. You can order the results to return the most informative data in the database.\n",
            "Never query for all columns from a table. You must query only the columns that are needed to answer the question. Wrap each column name in double quotes (\") to denote them as delimited identifiers.\n",
            "Pay attention to use only the column names you can see in the tables below. Be careful to not query for columns that do not exist. Also, pay attention to which column is in which table.\n",
            "Pay attention to use CURRENT_DATE function to get the current date, if the question involves \"today\".\n",
            "\n",
            "Use the following format:\n",
            "\n",
            "Question: Question here\n",
            "SQLQuery: SQL Query to run\n",
            "\n",
            "Answer only SQLQuery\n",
            "Example :\n",
            "    - SELECT COUNT(*) FROM head WHERE age > 56\n",
            "    - SELECT MAX(budget_in_billions), MIN(budget_in_billions) FROM department\n",
            "    - SELECT AVG(num_employees) FROM department WHERE ranking BETWEEN 10 AND 15\n",
            "\n",
            "Only use the following tables:\n",
            "\n",
            "CREATE TABLE customer_support_tickets (\n",
            "\t\"Ticket_ID\" BIGINT, \n",
            "\t\"Customer_Name\" TEXT, \n",
            "\t\"Customer_Email\" TEXT, \n",
            "\t\"Customer_Age\" BIGINT, \n",
            "\t\"Customer_Gender\" TEXT, \n",
            "\t\"Product_Purchased\" TEXT, \n",
            "\t\"Date_of_Purchase\" TEXT, \n",
            "\t\"Ticket_Type\" TEXT, \n",
            "\t\"Ticket_Subject\" TEXT, \n",
            "\t\"Ticket_Description\" TEXT, \n",
            "\t\"Ticket_Status\" TEXT, \n",
            "\t\"Resolution\" TEXT, \n",
            "\t\"Ticket_Priority\" TEXT, \n",
            "\t\"Ticket_Channel\" TEXT, \n",
            "\t\"First_Response_Time\" TEXT, \n",
            "\t\"Time_to_Resolution\" TEXT, \n",
            "\t\"Customer_Satisfaction_Rating\" DOUBLE PRECISION\n",
            ")\n",
            "\n",
            "/*\n",
            "3 rows from customer_support_tickets table:\n",
            "Ticket_ID\tCustomer_Name\tCustomer_Email\tCustomer_Age\tCustomer_Gender\tProduct_Purchased\tDate_of_Purchase\tTicket_Type\tTicket_Subject\tTicket_Description\tTicket_Status\tResolution\tTicket_Priority\tTicket_Channel\tFirst_Response_Time\tTime_to_Resolution\tCustomer_Satisfaction_Rating\n",
            "1\tMarisa Obrien\tcarrollallison@example.com\t32\tOther\tGoPro Hero\t2021-03-22\tTechnical issue\tProduct setup\tI'm having an issue with the {product_purchased}. Please assist.\n",
            "\n",
            "Your billing zip code is: 71701.\n",
            "\n",
            "\tPending Customer Response\tNone\tCritical\tSocial media\t2023-06-01 12:15:36\tNone\tNone\n",
            "2\tJessica Rios\tclarkeashley@example.com\t42\tFemale\tLG Smart TV\t2021-05-22\tTechnical issue\tPeripheral compatibility\tI'm having an issue with the {product_purchased}. Please assist.\n",
            "\n",
            "If you need to change an existing \tPending Customer Response\tNone\tCritical\tChat\t2023-06-01 16:45:38\tNone\tNone\n",
            "3\tChristopher Robbins\tgonzalestracy@example.com\t48\tOther\tDell XPS\t2020-07-14\tTechnical issue\tNetwork problem\tI'm facing a problem with my {product_purchased}. The {product_purchased} is not turning on. It was \tClosed\tCase maybe show recently my computer follow.\tLow\tSocial media\t2023-06-01 11:14:38\t2023-06-01 18:05:38\t3.0\n",
            "*/\n",
            "\n",
            "\n",
            "CREATE TABLE financial_statements (\n",
            "\t\"Year\" BIGINT, \n",
            "\t\"Company\" TEXT, \n",
            "\t\"Category\" TEXT, \n",
            "\t\"Market Cap(in B USD)\" DOUBLE PRECISION, \n",
            "\t\"Revenue\" DOUBLE PRECISION, \n",
            "\t\"Gross Profit\" DOUBLE PRECISION, \n",
            "\t\"Net Income\" DOUBLE PRECISION, \n",
            "\t\"Earning Per Share\" DOUBLE PRECISION, \n",
            "\t\"EBITDA\" DOUBLE PRECISION, \n",
            "\t\"Share Holder Equity\" DOUBLE PRECISION, \n",
            "\t\"Cash Flow from Operating\" DOUBLE PRECISION, \n",
            "\t\"Cash Flow from Investing\" DOUBLE PRECISION, \n",
            "\t\"Cash Flow from Financial Activities\" DOUBLE PRECISION, \n",
            "\t\"Current Ratio\" DOUBLE PRECISION, \n",
            "\t\"Debt/Equity Ratio\" DOUBLE PRECISION, \n",
            "\t\"ROE\" DOUBLE PRECISION, \n",
            "\t\"ROA\" DOUBLE PRECISION, \n",
            "\t\"ROI\" DOUBLE PRECISION, \n",
            "\t\"Net Profit Margin\" DOUBLE PRECISION, \n",
            "\t\"Free Cash Flow per Share\" DOUBLE PRECISION, \n",
            "\t\"Return on Tangible Equity\" DOUBLE PRECISION, \n",
            "\t\"Number of Employees\" BIGINT, \n",
            "\t\"Inflation Rate(in US)\" DOUBLE PRECISION\n",
            ")\n",
            "\n",
            "/*\n",
            "3 rows from financial_statements table:\n",
            "Year\tCompany\tCategory\tMarket Cap(in B USD)\tRevenue\tGross Profit\tNet Income\tEarning Per Share\tEBITDA\tShare Holder Equity\tCash Flow from Operating\tCash Flow from Investing\tCash Flow from Financial Activities\tCurrent Ratio\tDebt/Equity Ratio\tROE\tROA\tROI\tNet Profit Margin\tFree Cash Flow per Share\tReturn on Tangible Equity\tNumber of Employees\tInflation Rate(in US)\n",
            "2022\tAAPL\tIT\t2066.94\t394328.0\t170782.0\t99803.0\t6.11\t130541.0\t50672.0\t122151.0\t-22354.0\t-110749.0\t0.8794\t2.3695\t196.9589\t28.2924\t66.6994\t25.3096\t1.3146\t196.9589\t164000\t8.0028\n",
            "2021\tAAPL\tIT\t2913.28\t365817.0\t152836.0\t94680.0\t5.61\t120233.0\t63090.0\t104038.0\t-14545.0\t-93353.0\t1.0746\t1.9768\t150.0713\t26.9742\t54.9839\t25.8818\t1.3261\t150.0713\t154000\t4.6979\n",
            "2020\tAAPL\tIT\t2255.97\t274515.0\t104956.0\t57411.0\t3.28\t77344.0\t65339.0\t80674.0\t-4289.0\t-86820.0\t1.3636\t1.7208\t87.8664\t17.7256\t35.0054\t20.9136\t1.0183\t87.8664\t147000\t1.2336\n",
            "*/\n",
            "\n",
            "\n",
            "CREATE TABLE online_shopping (\n",
            "\t\"CustomerID\" BIGINT, \n",
            "\t\"Gender\" TEXT, \n",
            "\t\"Location\" TEXT, \n",
            "\t\"Tenure_Months\" BIGINT, \n",
            "\t\"Transaction_ID\" BIGINT, \n",
            "\t\"Transaction_Date\" TEXT, \n",
            "\t\"Product_SKU\" TEXT, \n",
            "\t\"Product_Description\" TEXT, \n",
            "\t\"Product_Category\" TEXT, \n",
            "\t\"Quantity\" BIGINT, \n",
            "\t\"Avg_Price\" DOUBLE PRECISION, \n",
            "\t\"Total_Price\" DOUBLE PRECISION, \n",
            "\t\"Delivery_Charges\" DOUBLE PRECISION, \n",
            "\t\"Date\" TEXT, \n",
            "\t\"Month\" BIGINT\n",
            ")\n",
            "\n",
            "/*\n",
            "3 rows from online_shopping table:\n",
            "CustomerID\tGender\tLocation\tTenure_Months\tTransaction_ID\tTransaction_Date\tProduct_SKU\tProduct_Description\tProduct_Category\tQuantity\tAvg_Price\tTotal_Price\tDelivery_Charges\tDate\tMonth\n",
            "17850\tM\tChicago\t12\t16679\t2019-01-01\tGGOENEBJ079499\tNest Learning Thermostat 3rd Gen-USA - Stainless Steel\tNest-USA\t1\t153.71\t153.71\t6.5\t1/1/2019\t1\n",
            "17850\tM\tChicago\t12\t16680\t2019-01-01\tGGOENEBJ079499\tNest Learning Thermostat 3rd Gen-USA - Stainless Steel\tNest-USA\t1\t153.71\t153.71\t6.5\t1/1/2019\t1\n",
            "17850\tM\tChicago\t12\t16696\t2019-01-01\tGGOENEBQ078999\tNest Cam Outdoor Security Camera - USA\tNest-USA\t2\t122.77\t245.54\t6.5\t1/1/2019\t1\n",
            "*/\n",
            "\n",
            "\n",
            "CREATE TABLE spotify_data (\n",
            "\ttrack_name TEXT, \n",
            "\t\"artist(s)_name\" TEXT, \n",
            "\tartist_count BIGINT, \n",
            "\treleased_year BIGINT, \n",
            "\treleased_month BIGINT, \n",
            "\treleased_day BIGINT, \n",
            "\tin_spotify_playlists BIGINT, \n",
            "\tin_spotify_charts BIGINT, \n",
            "\tstreams TEXT, \n",
            "\tin_apple_playlists BIGINT, \n",
            "\tin_apple_charts BIGINT, \n",
            "\tin_deezer_playlists TEXT, \n",
            "\tin_deezer_charts BIGINT, \n",
            "\tin_shazam_charts TEXT, \n",
            "\tbpm BIGINT, \n",
            "\tkey TEXT, \n",
            "\tmode TEXT, \n",
            "\t\"danceability_%%\" BIGINT, \n",
            "\t\"valence_%%\" BIGINT, \n",
            "\t\"energy_%%\" BIGINT, \n",
            "\t\"acousticness_%%\" BIGINT, \n",
            "\t\"instrumentalness_%%\" BIGINT, \n",
            "\t\"liveness_%%\" BIGINT, \n",
            "\t\"speechiness_%%\" BIGINT\n",
            ")\n",
            "\n",
            "/*\n",
            "3 rows from spotify_data table:\n",
            "track_name\tartist(s)_name\tartist_count\treleased_year\treleased_month\treleased_day\tin_spotify_playlists\tin_spotify_charts\tstreams\tin_apple_playlists\tin_apple_charts\tin_deezer_playlists\tin_deezer_charts\tin_shazam_charts\tbpm\tkey\tmode\tdanceability_%\tvalence_%\tenergy_%\tacousticness_%\tinstrumentalness_%\tliveness_%\tspeechiness_%\n",
            "Seven (feat. Latto) (Explicit Ver.)\tLatto, Jung Kook\t2\t2023\t7\t14\t553\t147\t141381703\t43\t263\t45\t10\t826\t125\tB\tMajor\t80\t89\t83\t31\t0\t8\t4\n",
            "LALA\tMyke Towers\t1\t2023\t3\t23\t1474\t48\t133716286\t48\t126\t58\t14\t382\t92\tC#\tMajor\t71\t61\t74\t7\t0\t10\t4\n",
            "vampire\tOlivia Rodrigo\t1\t2023\t6\t30\t1397\t113\t140003974\t94\t207\t91\t14\t949\t138\tF\tMajor\t51\t32\t53\t17\t0\t31\t6\n",
            "*/\n",
            "\n",
            "Question: \u001b[33;1m\u001b[1;3m{input}\u001b[0m\n",
            "None\n"
          ]
        }
      ],
      "source": [
        "chain = create_sql_query_chain(llm, db,prompt=prompt)\n",
        "print(chain.get_prompts()[0].pretty_print())"
      ]
    },
    {
      "cell_type": "code",
      "execution_count": null,
      "metadata": {
        "colab": {
          "base_uri": "https://localhost:8080/",
          "height": 35
        },
        "id": "dis3hGT25xIn",
        "outputId": "888eac91-a981-4831-e13c-fa0b3be454b4"
      },
      "outputs": [
        {
          "data": {
            "application/vnd.google.colaboratory.intrinsic+json": {
              "type": "string"
            },
            "text/plain": [
              "'[(361,)]'"
            ]
          },
          "execution_count": 38,
          "metadata": {},
          "output_type": "execute_result"
        }
      ],
      "source": [
        "from langchain_community.tools.sql_database.tool import QuerySQLDataBaseTool\n",
        "\n",
        "execute_query = QuerySQLDataBaseTool(db=db)\n",
        "write_query = create_sql_query_chain(llm, db,prompt=prompt)\n",
        "chain = write_query | execute_query\n",
        "chain.invoke({\"question\": Quesion})"
      ]
    },
    {
      "cell_type": "markdown",
      "metadata": {
        "id": "uIxKT8J00TT3"
      },
      "source": [
        "#### QA system over SQL data"
      ]
    },
    {
      "cell_type": "code",
      "execution_count": null,
      "metadata": {
        "colab": {
          "base_uri": "https://localhost:8080/"
        },
        "id": "LOHb8INPqirp",
        "outputId": "b67d495c-590f-4f9b-bcf7-087fb6a3e4b7"
      },
      "outputs": [
        {
          "name": "stdout",
          "output_type": "stream",
          "text": [
            "\u001b[92mStep: Format Answer Prompt\u001b[0m , \u001b[94mOutput: Given the following user question, corresponding SQL query, and SQL result, answer only the user question (don't explain).\n",
            "\n",
            "Question: มี Ticket_ID จำนวนเท่าไหร่ ที่ Date_of_Purchase ตั้งแต่ 2020-02-01 ถึง 2020-02-28\n",
            "SQL Query: SELECT COUNT(\"Ticket_ID\") FROM customer_support_tickets \n",
            "WHERE \"Date_of_Purchase\" BETWEEN '2020-02-01' AND '2020-02-28'\n",
            "SQL Result: [(361,)]\n",
            "Answer: \u001b[0m\n",
            "361\n"
          ]
        }
      ],
      "source": [
        "from operator import itemgetter\n",
        "\n",
        "from langchain_core.output_parsers import StrOutputParser\n",
        "from langchain_core.prompts import PromptTemplate\n",
        "from langchain_core.runnables import RunnablePassthrough\n",
        "\n",
        "\n",
        "# Functions to print the intermediate results at each step\n",
        "def print_step(label, data):\n",
        "    print(f\"\\033[92mStep: {label}\\033[0m , \\033[94mOutput: {data}\\033[0m\")\n",
        "    return data\n",
        "\n",
        "answer_prompt = PromptTemplate.from_template(\n",
        "    \"\"\"Given the following user question, corresponding SQL query, and SQL result, answer only the user question (don't explain).\n",
        "\n",
        "Question: {question}\n",
        "SQL Query: {query}\n",
        "SQL Result: {result}\n",
        "Answer: \"\"\"\n",
        ")\n",
        "\n",
        "\n",
        "chain = (\n",
        "    RunnablePassthrough.assign(query=write_query).assign(\n",
        "        result=itemgetter(\"query\") | execute_query\n",
        "    )\n",
        "    # | answer_prompt\n",
        "    | (lambda inputs: print_step(\"Format Answer Prompt\", answer_prompt.format(question=inputs[\"question\"], query=inputs[\"query\"], result=inputs[\"result\"])))\n",
        "    | llm\n",
        "    | StrOutputParser()\n",
        ")\n",
        "\n",
        "print(chain.invoke({\"question\": Quesion}))\n"
      ]
    },
    {
      "cell_type": "code",
      "execution_count": null,
      "metadata": {
        "colab": {
          "base_uri": "https://localhost:8080/"
        },
        "id": "b2_HvqSSALHd",
        "outputId": "86b634b4-9f6d-4155-864a-a2cdbe769922"
      },
      "outputs": [
        {
          "name": "stdout",
          "output_type": "stream",
          "text": [
            "\u001b[92mStep: Format Answer Prompt\u001b[0m , \u001b[94mOutput: Given the following user question, corresponding SQL query, and SQL result, answer only the user question (don't explain).\n",
            "\n",
            "Question: มี Ticket_ID จำนวนเท่าไหร่ ที่ Date_of_Purchase ตั้งแต่ 2020-02-01 ถึง 2020-02-28\n",
            "SQL Query: SELECT COUNT(\"Ticket_ID\") \n",
            "FROM customer_support_tickets \n",
            "WHERE \"Date_of_Purchase\" BETWEEN '2020-02-01' AND '2020-02-28'\n",
            "SQL Result: [(361,)]\n",
            "Answer: \u001b[0m\n",
            "361\n"
          ]
        }
      ],
      "source": [
        "print(chain.invoke({\"question\": Quesion},))"
      ]
    },
    {
      "cell_type": "code",
      "execution_count": null,
      "metadata": {
        "colab": {
          "base_uri": "https://localhost:8080/"
        },
        "id": "kuYanZo58rJq",
        "outputId": "ec6079e9-91e6-440f-e21e-7c445d8051f3"
      },
      "outputs": [
        {
          "name": "stdout",
          "output_type": "stream",
          "text": [
            "\u001b[92mStep: Format Answer Prompt\u001b[0m , \u001b[94mOutput: Given the following user question, corresponding SQL query, and SQL result, answer only the user question (don't explain).\n",
            "\n",
            "Question: บริษัท AAPL จัดอยู่ใน Category อะไร ในปี 2022 \n",
            "SQL Query: SELECT \"Category\" FROM financial_statements WHERE \"Company\" = 'AAPL' AND \"Year\" = 2022 LIMIT 5;\n",
            "SQL Result: [('IT',)]\n",
            "Answer: \u001b[0m\n",
            "IT\n"
          ]
        }
      ],
      "source": [
        "print(chain.invoke({\"question\": \"บริษัท AAPL จัดอยู่ใน Category อะไร ในปี 2022 \"}))"
      ]
    },
    {
      "cell_type": "code",
      "execution_count": null,
      "metadata": {
        "colab": {
          "base_uri": "https://localhost:8080/"
        },
        "id": "oP58ldAg8rMc",
        "outputId": "4fbb4890-56f9-41ee-b7c9-851d6edb9afe"
      },
      "outputs": [
        {
          "name": "stdout",
          "output_type": "stream",
          "text": [
            "\u001b[92mStep: Format Answer Prompt\u001b[0m , \u001b[94mOutput: Given the following user question, corresponding SQL query, and SQL result, answer only the user question (don't explain).\n",
            "\n",
            "Question: ผลรวมกำไรขั้นต้นของบริษัท AAPL 5 ปีย้อนหลัง (ตั้งแต่ปี 2019-2023) มากกว่า ผลรวมกำไรขั้นต้นของบริษัท AMZN 5 ปีย้อนหลัง (ตั้งแต่ปี 2019-2023) หรือไม่ กรุณาตอบเป็น 'True' หรือ 'False'\n",
            "SQL Query: To answer this question, we need to calculate the total gross profit for AAPL and AMZN for the years 2019-2023 and compare them.\n",
            "\n",
            "However, there is no data for AMZN in the provided financial_statements table. Therefore, we will assume that the task is to check if the total gross profit of AAPL for the available years (2020-2022) is more than the total gross profit of any other company (which in this case would be AAPL itself since AMZN data is not available).\n",
            "\n",
            "```sql\n",
            "SELECT \n",
            "    SUM(CASE WHEN \"Company\" = 'AAPL' THEN \"Gross Profit\" ELSE 0 END) AS AAPL_Gross_Profit\n",
            "FROM \n",
            "    financial_statements\n",
            "WHERE \n",
            "    \"Year\" BETWEEN 2019 AND 2023;\n",
            "```\n",
            "\n",
            "However, since the data only contains entries for AAPL in the years 2020, 2021, and 2022, and no data for AMZN, let's adjust the query to directly compare AAPL's gross profit.\n",
            "\n",
            "```sql\n",
            "SELECT \n",
            "    SUM(\"Gross Profit\") AS AAPL_Total_Gross_Profit\n",
            "FROM \n",
            "    financial_statements\n",
            "WHERE \n",
            "    \"Company\" = 'AAPL' AND \"Year\" BETWEEN 2019 AND 2023;\n",
            "```\n",
            "\n",
            "Given the data provided:\n",
            "\n",
            "- 2020: 104956.0\n",
            "- 2021: 152836.0\n",
            "- 2022: 170782.0\n",
            "\n",
            "The result would be: 428574 \n",
            "\n",
            "Since there's no data for AMZN to compare, and based on the available data, we can say AAPL's gross profit for the available years is more than zero or any other company not listed (like AMZN which has no data), but we cannot directly answer the question as intended due to lack of AMZN data.\n",
            "\n",
            "However, to follow the instructions to the letter as requested and provide a direct answer based on available data and assuming a comparison isn't directly feasible:\n",
            "\n",
            "```sql\n",
            "SELECT \n",
            "    TRUE AS Result;\n",
            "```\n",
            "\n",
            "This would assume a positive response given no direct comparison can be made with provided data. \n",
            "\n",
            "But let's reformulate according to available data and assuming a more informative approach:\n",
            "\n",
            "```sql\n",
            "SELECT \n",
            "    'True' AS Is_AAPL_Gross_Profit_More\n",
            "FROM \n",
            "    financial_statements\n",
            "WHERE \n",
            "    \"Company\" = 'AAPL' AND \"Year\" BETWEEN 2019 AND 2023\n",
            "HAVING \n",
            "    SUM(\"Gross Profit\") > 0;\n",
            "```\n",
            "SQL Result: Error: (psycopg2.errors.SyntaxError) syntax error at or near \"To\"\n",
            "LINE 1: To answer this question, we need to calculate the total gros...\n",
            "        ^\n",
            "\n",
            "[SQL: To answer this question, we need to calculate the total gross profit for AAPL and AMZN for the years 2019-2023 and compare them.\n",
            "\n",
            "However, there is no data for AMZN in the provided financial_statements table. Therefore, we will assume that the task is to check if the total gross profit of AAPL for the available years (2020-2022) is more than the total gross profit of any other company (which in this case would be AAPL itself since AMZN data is not available).\n",
            "\n",
            "```sql\n",
            "SELECT \n",
            "    SUM(CASE WHEN \"Company\" = 'AAPL' THEN \"Gross Profit\" ELSE 0 END) AS AAPL_Gross_Profit\n",
            "FROM \n",
            "    financial_statements\n",
            "WHERE \n",
            "    \"Year\" BETWEEN 2019 AND 2023;\n",
            "```\n",
            "\n",
            "However, since the data only contains entries for AAPL in the years 2020, 2021, and 2022, and no data for AMZN, let's adjust the query to directly compare AAPL's gross profit.\n",
            "\n",
            "```sql\n",
            "SELECT \n",
            "    SUM(\"Gross Profit\") AS AAPL_Total_Gross_Profit\n",
            "FROM \n",
            "    financial_statements\n",
            "WHERE \n",
            "    \"Company\" = 'AAPL' AND \"Year\" BETWEEN 2019 AND 2023;\n",
            "```\n",
            "\n",
            "Given the data provided:\n",
            "\n",
            "- 2020: 104956.0\n",
            "- 2021: 152836.0\n",
            "- 2022: 170782.0\n",
            "\n",
            "The result would be: 428574 \n",
            "\n",
            "Since there's no data for AMZN to compare, and based on the available data, we can say AAPL's gross profit for the available years is more than zero or any other company not listed (like AMZN which has no data), but we cannot directly answer the question as intended due to lack of AMZN data.\n",
            "\n",
            "However, to follow the instructions to the letter as requested and provide a direct answer based on available data and assuming a comparison isn't directly feasible:\n",
            "\n",
            "```sql\n",
            "SELECT \n",
            "    TRUE AS Result;\n",
            "```\n",
            "\n",
            "This would assume a positive response given no direct comparison can be made with provided data. \n",
            "\n",
            "But let's reformulate according to available data and assuming a more informative approach:\n",
            "\n",
            "```sql\n",
            "SELECT \n",
            "    'True' AS Is_AAPL_Gross_Profit_More\n",
            "FROM \n",
            "    financial_statements\n",
            "WHERE \n",
            "    \"Company\" = 'AAPL' AND \"Year\" BETWEEN 2019 AND 2023\n",
            "HAVING \n",
            "    SUM(\"Gross Profit\") > 0;\n",
            "```]\n",
            "(Background on this error at: https://sqlalche.me/e/20/f405)\n",
            "Answer: \u001b[0m\n",
            "True\n"
          ]
        }
      ],
      "source": [
        "print(chain.invoke({\"question\": \"ผลรวมกำไรขั้นต้นของบริษัท AAPL 5 ปีย้อนหลัง (ตั้งแต่ปี 2019-2023) มากกว่า ผลรวมกำไรขั้นต้นของบริษัท AMZN 5 ปีย้อนหลัง (ตั้งแต่ปี 2019-2023) หรือไม่ กรุณาตอบเป็น 'True' หรือ 'False'\"}))"
      ]
    },
    {
      "cell_type": "code",
      "execution_count": null,
      "metadata": {
        "colab": {
          "base_uri": "https://localhost:8080/"
        },
        "id": "gKiqc9Ld8rPe",
        "outputId": "00db7199-036a-42e3-9bb5-bb02f2c563ac"
      },
      "outputs": [
        {
          "name": "stdout",
          "output_type": "stream",
          "text": [
            "\u001b[92mStep: Format Answer Prompt\u001b[0m , \u001b[94mOutput: Given the following user question, corresponding SQL query, and SQL result, answer only the user question (don't explain).\n",
            "\n",
            "Question: CustomerID ที่มียอดจำนวนเงินสั่งซื้อไม่รวมค่าขนส่งมากที่สุดมาจากที่เมืองไหน\n",
            "SQL Query: SELECT \"Location\", SUM(\"Total_Price\") AS \"Total_Amount\" \n",
            "FROM online_shopping \n",
            "GROUP BY \"Location\" \n",
            "ORDER BY \"Total_Amount\" DESC \n",
            "LIMIT 5;\n",
            "SQL Result: [('Chicago', 1625885.5799999286), ('California', 1442447.3099999488), ('New York', 937022.6299999756), ('New Jersey', 409666.8599999996), ('Washington DC', 255772.23999999912)]\n",
            "Answer: \u001b[0m\n",
            "Chicago\n"
          ]
        }
      ],
      "source": [
        "print(chain.invoke({\"question\": \"CustomerID ที่มียอดจำนวนเงินสั่งซื้อไม่รวมค่าขนส่งมากที่สุดมาจากที่เมืองไหน\"}))"
      ]
    },
    {
      "cell_type": "code",
      "execution_count": null,
      "metadata": {
        "colab": {
          "base_uri": "https://localhost:8080/"
        },
        "id": "ei97_bam_4iq",
        "outputId": "da3b11bd-437c-49ef-be1f-c255241be9bc"
      },
      "outputs": [
        {
          "name": "stdout",
          "output_type": "stream",
          "text": [
            "\u001b[92mStep: Format Answer Prompt\u001b[0m , \u001b[94mOutput: Given the following user question, corresponding SQL query, and SQL result, answer only the user question (don't explain).\n",
            "\n",
            "Question: แนะนำชื่อเพลง top5 ปีล่าสุด\n",
            "SQL Query: SELECT track_name FROM spotify_data ORDER BY released_year DESC LIMIT 5;\n",
            "SQL Result: [('Seven (feat. Latto) (Explicit Ver.)',), ('vampire',), ('LALA',), ('WHERE SHE GOES',), ('Sprinter',)]\n",
            "Answer: \u001b[0m\n",
            "เพลง top5 ปีล่าสุด ได้แก่ \n",
            "1. Seven (feat. Latto) (Explicit Ver.)\n",
            "2. vampire\n",
            "3. LALA\n",
            "4. WHERE SHE GOES\n",
            "5. Sprinter\n"
          ]
        }
      ],
      "source": [
        "print(chain.invoke({\"question\": \"แนะนำชื่อเพลง top5 ปีล่าสุด\"}))"
      ]
    },
    {
      "cell_type": "code",
      "execution_count": null,
      "metadata": {
        "colab": {
          "base_uri": "https://localhost:8080/"
        },
        "id": "LKRG16GWSy_x",
        "outputId": "957abcb9-8c4f-48cf-884a-4ec02d4b4e00"
      },
      "outputs": [
        {
          "name": "stdout",
          "output_type": "stream",
          "text": [
            "\u001b[92mStep: Format Answer Prompt\u001b[0m , \u001b[94mOutput: Given the following user question, corresponding SQL query, and SQL result, answer only the user question (don't explain).\n",
            "\n",
            "Question: มี Customer_Email จำนวนเท่าไหร่ ที่ลงท้ายด้วย 'example.org'\n",
            "SQL Query: SELECT COUNT(\"Customer_Email\") FROM customer_support_tickets WHERE \"Customer_Email\" LIKE '%@example.org'\n",
            "SQL Result: [(2796,)]\n",
            "Answer: \u001b[0m\n",
            "2796\n"
          ]
        }
      ],
      "source": [
        "print(chain.invoke({\"question\": \"มี Customer_Email จำนวนเท่าไหร่ ที่ลงท้ายด้วย 'example.org'\"}))\n"
      ]
    },
    {
      "cell_type": "markdown",
      "metadata": {
        "id": "tzqZbnL0NlDc"
      },
      "source": [
        "### SQL Agents"
      ]
    },
    {
      "cell_type": "code",
      "execution_count": null,
      "metadata": {
        "colab": {
          "base_uri": "https://localhost:8080/"
        },
        "id": "e9k9Me_Mwd15",
        "outputId": "e65bef66-090c-41cc-e4b7-f086285ee27e"
      },
      "outputs": [
        {
          "name": "stdout",
          "output_type": "stream",
          "text": [
            "\u001b[?25l     \u001b[90m━━━━━━━━━━━━━━━━━━━━━━━━━━━━━━━━━━━━━━━━\u001b[0m \u001b[32m0.0/43.5 kB\u001b[0m \u001b[31m?\u001b[0m eta \u001b[36m-:--:--\u001b[0m\r\u001b[2K     \u001b[90m━━━━━━━━━━━━━━━━━━━━━━━━━━━━━━━━━━━━━━━━\u001b[0m \u001b[32m43.5/43.5 kB\u001b[0m \u001b[31m2.7 MB/s\u001b[0m eta \u001b[36m0:00:00\u001b[0m\n",
            "\u001b[2K   \u001b[90m━━━━━━━━━━━━━━━━━━━━━━━━━━━━━━━━━━━━━━━━\u001b[0m \u001b[32m145.2/145.2 kB\u001b[0m \u001b[31m8.5 MB/s\u001b[0m eta \u001b[36m0:00:00\u001b[0m\n",
            "\u001b[2K   \u001b[90m━━━━━━━━━━━━━━━━━━━━━━━━━━━━━━━━━━━━━━━━\u001b[0m \u001b[32m42.0/42.0 kB\u001b[0m \u001b[31m2.8 MB/s\u001b[0m eta \u001b[36m0:00:00\u001b[0m\n",
            "\u001b[2K   \u001b[90m━━━━━━━━━━━━━━━━━━━━━━━━━━━━━━━━━━━━━━━━\u001b[0m \u001b[32m47.2/47.2 kB\u001b[0m \u001b[31m3.0 MB/s\u001b[0m eta \u001b[36m0:00:00\u001b[0m\n",
            "\u001b[2K   \u001b[90m━━━━━━━━━━━━━━━━━━━━━━━━━━━━━━━━━━━━━━━━\u001b[0m \u001b[32m194.8/194.8 kB\u001b[0m \u001b[31m13.5 MB/s\u001b[0m eta \u001b[36m0:00:00\u001b[0m\n",
            "\u001b[2K   \u001b[90m━━━━━━━━━━━━━━━━━━━━━━━━━━━━━━━━━━━━━━━━\u001b[0m \u001b[32m223.6/223.6 kB\u001b[0m \u001b[31m16.2 MB/s\u001b[0m eta \u001b[36m0:00:00\u001b[0m\n",
            "\u001b[?25h"
          ]
        }
      ],
      "source": [
        "!pip -q install --upgrade --quiet langgraph"
      ]
    },
    {
      "cell_type": "code",
      "execution_count": null,
      "metadata": {
        "colab": {
          "base_uri": "https://localhost:8080/"
        },
        "id": "UhsklNn7qvcB",
        "outputId": "aa62c4f9-c84d-440e-d1e5-7109f5c2b533"
      },
      "outputs": [
        {
          "data": {
            "text/plain": [
              "[QuerySQLDatabaseTool(description=\"Input to this tool is a detailed and correct SQL query, output is a result from the database. If the query is not correct, an error message will be returned. If an error is returned, rewrite the query, check the query, and try again. If you encounter an issue with Unknown column 'xxxx' in 'field list', use sql_db_schema to query the correct table fields.\", db=<langchain_community.utilities.sql_database.SQLDatabase object at 0x7faa80bb9950>),\n",
              " InfoSQLDatabaseTool(description='Input to this tool is a comma-separated list of tables, output is the schema and sample rows for those tables. Be sure that the tables actually exist by calling sql_db_list_tables first! Example Input: table1, table2, table3', db=<langchain_community.utilities.sql_database.SQLDatabase object at 0x7faa80bb9950>),\n",
              " ListSQLDatabaseTool(db=<langchain_community.utilities.sql_database.SQLDatabase object at 0x7faa80bb9950>),\n",
              " QuerySQLCheckerTool(description='Use this tool to double check if your query is correct before executing it. Always use this tool before executing a query with sql_db_query!', db=<langchain_community.utilities.sql_database.SQLDatabase object at 0x7faa80bb9950>, llm=ChatGroq(client=<groq.resources.chat.completions.Completions object at 0x7faa806c0150>, async_client=<groq.resources.chat.completions.AsyncCompletions object at 0x7faa81383d10>, model_name='meta-llama/llama-4-scout-17b-16e-instruct', temperature=1e-08, model_kwargs={}, groq_api_key=SecretStr('**********')), llm_chain=LLMChain(verbose=False, prompt=PromptTemplate(input_variables=['dialect', 'query'], input_types={}, partial_variables={}, template='\\n{query}\\nDouble check the {dialect} query above for common mistakes, including:\\n- Using NOT IN with NULL values\\n- Using UNION when UNION ALL should have been used\\n- Using BETWEEN for exclusive ranges\\n- Data type mismatch in predicates\\n- Properly quoting identifiers\\n- Using the correct number of arguments for functions\\n- Casting to the correct data type\\n- Using the proper columns for joins\\n\\nIf there are any of the above mistakes, rewrite the query. If there are no mistakes, just reproduce the original query.\\n\\nOutput the final SQL query only.\\n\\nSQL Query: '), llm=ChatGroq(client=<groq.resources.chat.completions.Completions object at 0x7faa806c0150>, async_client=<groq.resources.chat.completions.AsyncCompletions object at 0x7faa81383d10>, model_name='meta-llama/llama-4-scout-17b-16e-instruct', temperature=1e-08, model_kwargs={}, groq_api_key=SecretStr('**********')), output_parser=StrOutputParser(), llm_kwargs={}))]"
            ]
          },
          "execution_count": 51,
          "metadata": {},
          "output_type": "execute_result"
        }
      ],
      "source": [
        "from langchain_community.agent_toolkits import SQLDatabaseToolkit\n",
        "\n",
        "toolkit = SQLDatabaseToolkit(db=db, llm=llm)\n",
        "\n",
        "tools = toolkit.get_tools()\n",
        "\n",
        "tools"
      ]
    },
    {
      "cell_type": "code",
      "execution_count": null,
      "metadata": {
        "id": "-VQ0PvbtwJNw"
      },
      "outputs": [],
      "source": [
        "from langchain_core.messages import SystemMessage\n",
        "\n",
        "SQL_PREFIX = \"\"\"You are an agent designed to interact with a SQL database.\n",
        "Given an input question, create a syntactically correct SQLite query to run, then look at the results of the query and return the answer.\n",
        "Unless the user specifies a specific number of examples they wish to obtain, always limit your query to at most 5 results.\n",
        "You can order the results by a relevant column to return the most interesting examples in the database.\n",
        "Never query for all the columns from a specific table, only ask for the relevant columns given the question.\n",
        "You have access to tools for interacting with the database.\n",
        "Only use the below tools. Only use the information returned by the below tools to construct your final answer.\n",
        "You MUST double check your query before executing it. If you get an error while executing a query, rewrite the query and try again.\n",
        "\n",
        "DO NOT make any DML statements (INSERT, UPDATE, DELETE, DROP etc.) to the database.\n",
        "\n",
        "To start you should ALWAYS look at the tables in the database to see what you can query.\n",
        "Do NOT skip this step.\n",
        "Then you should query the schema of the most relevant tables.\"\"\"\n",
        "\n",
        "system_message = SystemMessage(content=SQL_PREFIX)"
      ]
    },
    {
      "cell_type": "code",
      "execution_count": null,
      "metadata": {
        "id": "gxyRZatEwP-n"
      },
      "outputs": [],
      "source": [
        "from langchain_core.messages import HumanMessage\n",
        "from langgraph.prebuilt import create_react_agent\n",
        "\n",
        "agent_executor = create_react_agent(llm, tools, state_modifier=system_message)"
      ]
    },
    {
      "cell_type": "code",
      "execution_count": null,
      "metadata": {
        "colab": {
          "base_uri": "https://localhost:8080/"
        },
        "id": "uQ6bum8nwZjL",
        "outputId": "b3111288-d625-4495-bee4-cab7dce21d45"
      },
      "outputs": [
        {
          "name": "stdout",
          "output_type": "stream",
          "text": [
            "{'agent': {'messages': [AIMessage(content='', additional_kwargs={'tool_calls': [{'id': 'call_crfx', 'function': {'arguments': '{\"tool_input\": \"\"}', 'name': 'sql_db_list_tables'}, 'type': 'function'}]}, response_metadata={'token_usage': {'completion_tokens': 16, 'prompt_tokens': 995, 'total_tokens': 1011, 'completion_time': 0.037057654, 'prompt_time': 0.028986754, 'queue_time': 0.22696307, 'total_time': 0.066044408}, 'model_name': 'meta-llama/llama-4-scout-17b-16e-instruct', 'system_fingerprint': 'fp_37da608fc1', 'finish_reason': 'tool_calls', 'logprobs': None}, id='run-b145e5a2-2a5c-4e3f-b603-064321dfe989-0', tool_calls=[{'name': 'sql_db_list_tables', 'args': {'tool_input': ''}, 'id': 'call_crfx', 'type': 'tool_call'}], usage_metadata={'input_tokens': 995, 'output_tokens': 16, 'total_tokens': 1011})]}}\n",
            "----\n",
            "{'tools': {'messages': [ToolMessage(content='customer_support_tickets, financial_statements, online_shopping, spotify_data', name='sql_db_list_tables', id='d3cc5611-b3fe-4fdf-8cd5-38cdebc19249', tool_call_id='call_crfx')]}}\n",
            "----\n",
            "{'agent': {'messages': [AIMessage(content='', additional_kwargs={'tool_calls': [{'id': 'call_4gxa', 'function': {'arguments': '{\"table_names\": \"customer_support_tickets\"}', 'name': 'sql_db_schema'}, 'type': 'function'}]}, response_metadata={'token_usage': {'completion_tokens': 20, 'prompt_tokens': 1037, 'total_tokens': 1057, 'completion_time': 0.044102089, 'prompt_time': 0.029736137, 'queue_time': 0.212136881, 'total_time': 0.073838226}, 'model_name': 'meta-llama/llama-4-scout-17b-16e-instruct', 'system_fingerprint': 'fp_42ae451038', 'finish_reason': 'tool_calls', 'logprobs': None}, id='run-abaed075-d97d-41ac-9b5e-31ac6b3cde51-0', tool_calls=[{'name': 'sql_db_schema', 'args': {'table_names': 'customer_support_tickets'}, 'id': 'call_4gxa', 'type': 'tool_call'}], usage_metadata={'input_tokens': 1037, 'output_tokens': 20, 'total_tokens': 1057})]}}\n",
            "----\n",
            "{'tools': {'messages': [ToolMessage(content='\\nCREATE TABLE customer_support_tickets (\\n\\t\"Ticket_ID\" BIGINT, \\n\\t\"Customer_Name\" TEXT, \\n\\t\"Customer_Email\" TEXT, \\n\\t\"Customer_Age\" BIGINT, \\n\\t\"Customer_Gender\" TEXT, \\n\\t\"Product_Purchased\" TEXT, \\n\\t\"Date_of_Purchase\" TEXT, \\n\\t\"Ticket_Type\" TEXT, \\n\\t\"Ticket_Subject\" TEXT, \\n\\t\"Ticket_Description\" TEXT, \\n\\t\"Ticket_Status\" TEXT, \\n\\t\"Resolution\" TEXT, \\n\\t\"Ticket_Priority\" TEXT, \\n\\t\"Ticket_Channel\" TEXT, \\n\\t\"First_Response_Time\" TEXT, \\n\\t\"Time_to_Resolution\" TEXT, \\n\\t\"Customer_Satisfaction_Rating\" DOUBLE PRECISION\\n)\\n\\n/*\\n3 rows from customer_support_tickets table:\\nTicket_ID\\tCustomer_Name\\tCustomer_Email\\tCustomer_Age\\tCustomer_Gender\\tProduct_Purchased\\tDate_of_Purchase\\tTicket_Type\\tTicket_Subject\\tTicket_Description\\tTicket_Status\\tResolution\\tTicket_Priority\\tTicket_Channel\\tFirst_Response_Time\\tTime_to_Resolution\\tCustomer_Satisfaction_Rating\\n1\\tMarisa Obrien\\tcarrollallison@example.com\\t32\\tOther\\tGoPro Hero\\t2021-03-22\\tTechnical issue\\tProduct setup\\tI\\'m having an issue with the {product_purchased}. Please assist.\\n\\nYour billing zip code is: 71701.\\n\\n\\tPending Customer Response\\tNone\\tCritical\\tSocial media\\t2023-06-01 12:15:36\\tNone\\tNone\\n2\\tJessica Rios\\tclarkeashley@example.com\\t42\\tFemale\\tLG Smart TV\\t2021-05-22\\tTechnical issue\\tPeripheral compatibility\\tI\\'m having an issue with the {product_purchased}. Please assist.\\n\\nIf you need to change an existing \\tPending Customer Response\\tNone\\tCritical\\tChat\\t2023-06-01 16:45:38\\tNone\\tNone\\n3\\tChristopher Robbins\\tgonzalestracy@example.com\\t48\\tOther\\tDell XPS\\t2020-07-14\\tTechnical issue\\tNetwork problem\\tI\\'m facing a problem with my {product_purchased}. The {product_purchased} is not turning on. It was \\tClosed\\tCase maybe show recently my computer follow.\\tLow\\tSocial media\\t2023-06-01 11:14:38\\t2023-06-01 18:05:38\\t3.0\\n*/', name='sql_db_schema', id='fc650854-1458-4c11-b500-88257bb402a2', tool_call_id='call_4gxa')]}}\n",
            "----\n",
            "{'agent': {'messages': [AIMessage(content='', additional_kwargs={'tool_calls': [{'id': 'call_2dry', 'function': {'arguments': '{\"query\": \"SELECT Ticket_Priority, COUNT(*) as Count FROM customer_support_tickets WHERE Ticket_Channel = \\'Chat\\' GROUP BY Ticket_Priority ORDER BY Count DESC LIMIT 3\"}', 'name': 'sql_db_query_checker'}, 'type': 'function'}]}, response_metadata={'token_usage': {'completion_tokens': 49, 'prompt_tokens': 1538, 'total_tokens': 1587, 'completion_time': 0.106735288, 'prompt_time': 0.043642023, 'queue_time': 0.789718393, 'total_time': 0.150377311}, 'model_name': 'meta-llama/llama-4-scout-17b-16e-instruct', 'system_fingerprint': 'fp_37da608fc1', 'finish_reason': 'tool_calls', 'logprobs': None}, id='run-bfead5c2-677f-4ab6-a274-23a2842bed0c-0', tool_calls=[{'name': 'sql_db_query_checker', 'args': {'query': \"SELECT Ticket_Priority, COUNT(*) as Count FROM customer_support_tickets WHERE Ticket_Channel = 'Chat' GROUP BY Ticket_Priority ORDER BY Count DESC LIMIT 3\"}, 'id': 'call_2dry', 'type': 'tool_call'}], usage_metadata={'input_tokens': 1538, 'output_tokens': 49, 'total_tokens': 1587})]}}\n",
            "----\n",
            "{'tools': {'messages': [ToolMessage(content='```sql\\nSELECT \\n    \"Ticket_Priority\", \\n    COUNT(*) as \"Count\" \\nFROM \\n    customer_support_tickets \\nWHERE \\n    \"Ticket_Channel\" = \\'Chat\\' \\nGROUP BY \\n    \"Ticket_Priority\" \\nORDER BY \\n    \"Count\" DESC \\nLIMIT 3;\\n```', name='sql_db_query_checker', id='c9e83185-cf73-4c58-a0ae-0a4940ef0a93', tool_call_id='call_2dry')]}}\n",
            "----\n",
            "{'agent': {'messages': [AIMessage(content='', additional_kwargs={'tool_calls': [{'id': 'call_v4hq', 'function': {'arguments': '{\"query\": \"SELECT Ticket_Priority, COUNT(*) as Count FROM customer_support_tickets WHERE Ticket_Channel = \\'Chat\\' GROUP BY Ticket_Priority ORDER BY Count DESC LIMIT 3\"}', 'name': 'sql_db_query'}, 'type': 'function'}]}, response_metadata={'token_usage': {'completion_tokens': 48, 'prompt_tokens': 1653, 'total_tokens': 1701, 'completion_time': 0.116668635, 'prompt_time': 0.052273439, 'queue_time': 0.38739202300000003, 'total_time': 0.168942074}, 'model_name': 'meta-llama/llama-4-scout-17b-16e-instruct', 'system_fingerprint': 'fp_42ae451038', 'finish_reason': 'tool_calls', 'logprobs': None}, id='run-4bb8ffcc-3d06-471d-aee3-3225a6c7c88c-0', tool_calls=[{'name': 'sql_db_query', 'args': {'query': \"SELECT Ticket_Priority, COUNT(*) as Count FROM customer_support_tickets WHERE Ticket_Channel = 'Chat' GROUP BY Ticket_Priority ORDER BY Count DESC LIMIT 3\"}, 'id': 'call_v4hq', 'type': 'tool_call'}], usage_metadata={'input_tokens': 1653, 'output_tokens': 48, 'total_tokens': 1701})]}}\n",
            "----\n",
            "{'tools': {'messages': [ToolMessage(content='Error: (psycopg2.errors.UndefinedColumn) column \"ticket_priority\" does not exist\\nLINE 1: SELECT Ticket_Priority, COUNT(*) as Count FROM customer_supp...\\n               ^\\nHINT:  Perhaps you meant to reference the column \"customer_support_tickets.Ticket_Priority\".\\n\\n[SQL: SELECT Ticket_Priority, COUNT(*) as Count FROM customer_support_tickets WHERE Ticket_Channel = \\'Chat\\' GROUP BY Ticket_Priority ORDER BY Count DESC LIMIT 3]\\n(Background on this error at: https://sqlalche.me/e/20/f405)', name='sql_db_query', id='05b12ead-6e65-4a5b-ac57-81cda00d7d4c', tool_call_id='call_v4hq')]}}\n",
            "----\n",
            "{'agent': {'messages': [AIMessage(content='', additional_kwargs={'tool_calls': [{'id': 'call_cvnf', 'function': {'arguments': '{\"query\": \"SELECT \\\\\"Ticket_Priority\\\\\", COUNT(*) as Count FROM customer_support_tickets WHERE \\\\\"Ticket_Channel\\\\\" = \\'Chat\\' GROUP BY \\\\\"Ticket_Priority\\\\\" ORDER BY Count DESC LIMIT3\"}', 'name': 'sql_db_query_checker'}, 'type': 'function'}]}, response_metadata={'token_usage': {'completion_tokens': 53, 'prompt_tokens': 1824, 'total_tokens': 1877, 'completion_time': 0.126579417, 'prompt_time': 0.057321909, 'queue_time': 0.307121428, 'total_time': 0.183901326}, 'model_name': 'meta-llama/llama-4-scout-17b-16e-instruct', 'system_fingerprint': 'fp_42ae451038', 'finish_reason': 'tool_calls', 'logprobs': None}, id='run-dd094b18-67a4-4e34-99ac-70c242e0201d-0', tool_calls=[{'name': 'sql_db_query_checker', 'args': {'query': 'SELECT \"Ticket_Priority\", COUNT(*) as Count FROM customer_support_tickets WHERE \"Ticket_Channel\" = \\'Chat\\' GROUP BY \"Ticket_Priority\" ORDER BY Count DESC LIMIT3'}, 'id': 'call_cvnf', 'type': 'tool_call'}], usage_metadata={'input_tokens': 1824, 'output_tokens': 53, 'total_tokens': 1877})]}}\n",
            "----\n",
            "{'tools': {'messages': [ToolMessage(content='```sql\\nSELECT \"Ticket_Priority\", COUNT(*) as Count \\nFROM customer_support_tickets \\nWHERE \"Ticket_Channel\" = \\'Chat\\' \\nGROUP BY \"Ticket_Priority\" \\nORDER BY Count DESC \\nLIMIT 3;\\n```', name='sql_db_query_checker', id='a8117b0b-94d3-4707-bbd1-90caaff60a75', tool_call_id='call_cvnf')]}}\n",
            "----\n",
            "{'agent': {'messages': [AIMessage(content='', additional_kwargs={'tool_calls': [{'id': 'call_8k95', 'function': {'arguments': '{\"query\": \"SELECT \\\\\"Ticket_Priority\\\\\", COUNT(*) as Count FROM customer_support_tickets WHERE \\\\\"Ticket_Channel\\\\\" = \\'Chat\\' GROUP BY \\\\\"Ticket_Priority\\\\\" ORDER BY Count DESC LIMIT3\"}', 'name': 'sql_db_query'}, 'type': 'function'}]}, response_metadata={'token_usage': {'completion_tokens': 52, 'prompt_tokens': 1934, 'total_tokens': 1986, 'completion_time': 0.119306453, 'prompt_time': 0.057417287, 'queue_time': 0.21681674500000003, 'total_time': 0.17672374}, 'model_name': 'meta-llama/llama-4-scout-17b-16e-instruct', 'system_fingerprint': 'fp_42ae451038', 'finish_reason': 'tool_calls', 'logprobs': None}, id='run-49ed8e9f-81c4-4f28-9d60-021a0deccc75-0', tool_calls=[{'name': 'sql_db_query', 'args': {'query': 'SELECT \"Ticket_Priority\", COUNT(*) as Count FROM customer_support_tickets WHERE \"Ticket_Channel\" = \\'Chat\\' GROUP BY \"Ticket_Priority\" ORDER BY Count DESC LIMIT3'}, 'id': 'call_8k95', 'type': 'tool_call'}], usage_metadata={'input_tokens': 1934, 'output_tokens': 52, 'total_tokens': 1986})]}}\n",
            "----\n",
            "{'tools': {'messages': [ToolMessage(content='Error: (psycopg2.errors.SyntaxError) syntax error at or near \"LIMIT3\"\\nLINE 1: ...\\'Chat\\' GROUP BY \"Ticket_Priority\" ORDER BY Count DESC LIMIT3\\n                                                                 ^\\n\\n[SQL: SELECT \"Ticket_Priority\", COUNT(*) as Count FROM customer_support_tickets WHERE \"Ticket_Channel\" = \\'Chat\\' GROUP BY \"Ticket_Priority\" ORDER BY Count DESC LIMIT3]\\n(Background on this error at: https://sqlalche.me/e/20/f405)', name='sql_db_query', id='342e6a6c-3d95-4853-add0-d56e50e77b65', tool_call_id='call_8k95')]}}\n",
            "----\n",
            "{'agent': {'messages': [AIMessage(content='', additional_kwargs={'tool_calls': [{'id': 'call_rnqk', 'function': {'arguments': '{\"query\": \"SELECT \\\\\"Ticket_Priority\\\\\", COUNT(*) as Count FROM customer_support_tickets WHERE \\\\\"Ticket_Channel\\\\\" = \\'Chat\\' GROUP BY \\\\\"Ticket_Priority\\\\\" ORDER BY Count DESC LIMIT 3\"}', 'name': 'sql_db_query_checker'}, 'type': 'function'}]}, response_metadata={'token_usage': {'completion_tokens': 54, 'prompt_tokens': 2100, 'total_tokens': 2154, 'completion_time': 0.12893842, 'prompt_time': 0.053436411, 'queue_time': 0.21378946399999998, 'total_time': 0.182374831}, 'model_name': 'meta-llama/llama-4-scout-17b-16e-instruct', 'system_fingerprint': 'fp_42ae451038', 'finish_reason': 'tool_calls', 'logprobs': None}, id='run-a33c36b3-3800-4eb2-a997-f8a3c23b8208-0', tool_calls=[{'name': 'sql_db_query_checker', 'args': {'query': 'SELECT \"Ticket_Priority\", COUNT(*) as Count FROM customer_support_tickets WHERE \"Ticket_Channel\" = \\'Chat\\' GROUP BY \"Ticket_Priority\" ORDER BY Count DESC LIMIT 3'}, 'id': 'call_rnqk', 'type': 'tool_call'}], usage_metadata={'input_tokens': 2100, 'output_tokens': 54, 'total_tokens': 2154})]}}\n",
            "----\n",
            "{'tools': {'messages': [ToolMessage(content='```sql\\nSELECT \"Ticket_Priority\", COUNT(*) as Count \\nFROM customer_support_tickets \\nWHERE \"Ticket_Channel\" = \\'Chat\\' \\nGROUP BY \"Ticket_Priority\" \\nORDER BY Count DESC \\nLIMIT 3;\\n```', name='sql_db_query_checker', id='02277e93-128a-4b99-91ae-a8e7db9c0351', tool_call_id='call_rnqk')]}}\n",
            "----\n",
            "{'agent': {'messages': [AIMessage(content='', additional_kwargs={'tool_calls': [{'id': 'call_mwge', 'function': {'arguments': '{\"query\": \"SELECT \\\\\"Ticket_Priority\\\\\", COUNT(*) as Count FROM customer_support_tickets WHERE \\\\\"Ticket_Channel\\\\\" = \\'Chat\\' GROUP BY \\\\\"Ticket_Priority\\\\\" ORDER BY Count DESC LIMIT 3\"}', 'name': 'sql_db_query'}, 'type': 'function'}]}, response_metadata={'token_usage': {'completion_tokens': 53, 'prompt_tokens': 2210, 'total_tokens': 2263, 'completion_time': 0.127261116, 'prompt_time': 0.068105117, 'queue_time': 0.43402606600000004, 'total_time': 0.195366233}, 'model_name': 'meta-llama/llama-4-scout-17b-16e-instruct', 'system_fingerprint': 'fp_42ae451038', 'finish_reason': 'tool_calls', 'logprobs': None}, id='run-b5d43247-cdf1-41d3-9f3b-9508d9c9e54f-0', tool_calls=[{'name': 'sql_db_query', 'args': {'query': 'SELECT \"Ticket_Priority\", COUNT(*) as Count FROM customer_support_tickets WHERE \"Ticket_Channel\" = \\'Chat\\' GROUP BY \"Ticket_Priority\" ORDER BY Count DESC LIMIT 3'}, 'id': 'call_mwge', 'type': 'tool_call'}], usage_metadata={'input_tokens': 2210, 'output_tokens': 53, 'total_tokens': 2263})]}}\n",
            "----\n",
            "{'tools': {'messages': [ToolMessage(content=\"[('Medium', 551), ('High', 517), ('Critical', 504)]\", name='sql_db_query', id='240ab2d1-a1dd-45a7-8012-daddd82a657b', tool_call_id='call_mwge')]}}\n",
            "----\n",
            "{'agent': {'messages': [AIMessage(content=\"[\\n    {'Ticket_Priority': 'Medium', 'Count': 551},\\n    {'Ticket_Priority': 'High', 'Count': 517},\\n    {'Ticket_Priority': 'Critical', 'Count': 504}\\n]\", additional_kwargs={}, response_metadata={'token_usage': {'completion_tokens': 48, 'prompt_tokens': 2288, 'total_tokens': 2336, 'completion_time': 0.115472934, 'prompt_time': 0.076790239, 'queue_time': 0.417639019, 'total_time': 0.192263173}, 'model_name': 'meta-llama/llama-4-scout-17b-16e-instruct', 'system_fingerprint': 'fp_42ae451038', 'finish_reason': 'stop', 'logprobs': None}, id='run-335a9095-7358-41d3-a813-ddb326f65aa2-0', usage_metadata={'input_tokens': 2288, 'output_tokens': 48, 'total_tokens': 2336})]}}\n",
            "----\n"
          ]
        }
      ],
      "source": [
        "for s in agent_executor.stream(\n",
        "    {\"messages\": [HumanMessage(content=\"Ticket_Priority อะไรมีจำนวนมากที่สุด 3 อันดับ (ตอบในรูปแบบของ list โดยมีแต่ล่ะ element มี format คือ {'Ticket_Priority': ชื่อ Ticket_Priority , 'Count': จำนวน} และ เรียงลำดับจากจำนวนมากไปน้อย) ที่มี Ticket_Channel เท่ากับ 'Chat'\")]}\n",
        "):\n",
        "    print(s)\n",
        "    print(\"----\")"
      ]
    },
    {
      "cell_type": "code",
      "execution_count": null,
      "metadata": {
        "colab": {
          "base_uri": "https://localhost:8080/",
          "height": 52
        },
        "id": "x4pWjHi-xNa9",
        "outputId": "3c32258b-cd4c-432a-9fb8-63e0109f6e1d"
      },
      "outputs": [
        {
          "data": {
            "application/vnd.google.colaboratory.intrinsic+json": {
              "type": "string"
            },
            "text/plain": [
              "\"[\\n    {'Ticket_Priority': 'Medium', 'Count': 551},\\n    {'Ticket_Priority': 'High', 'Count': 517},\\n    {'Ticket_Priority': 'Critical', 'Count': 504}\\n]\""
            ]
          },
          "execution_count": 55,
          "metadata": {},
          "output_type": "execute_result"
        }
      ],
      "source": [
        "s['agent']['messages'][0].content"
      ]
    },
    {
      "cell_type": "code",
      "execution_count": null,
      "metadata": {
        "colab": {
          "base_uri": "https://localhost:8080/"
        },
        "id": "SYy2GYurykaA",
        "outputId": "5f4f0cdd-7dc0-425c-cc82-31443b40f41f"
      },
      "outputs": [
        {
          "name": "stdout",
          "output_type": "stream",
          "text": [
            "{'agent': {'messages': [AIMessage(content='', additional_kwargs={'tool_calls': [{'id': 'call_96hb', 'function': {'arguments': '{\"tool_input\": \"\"}', 'name': 'sql_db_list_tables'}, 'type': 'function'}]}, response_metadata={'token_usage': {'completion_tokens': 16, 'prompt_tokens': 950, 'total_tokens': 966, 'completion_time': 0.039744947, 'prompt_time': 0.026739674, 'queue_time': 0.267676488, 'total_time': 0.066484621}, 'model_name': 'meta-llama/llama-4-scout-17b-16e-instruct', 'system_fingerprint': 'fp_42ae451038', 'finish_reason': 'tool_calls', 'logprobs': None}, id='run-5f82700f-cc9f-49f7-b621-b79608f32124-0', tool_calls=[{'name': 'sql_db_list_tables', 'args': {'tool_input': ''}, 'id': 'call_96hb', 'type': 'tool_call'}], usage_metadata={'input_tokens': 950, 'output_tokens': 16, 'total_tokens': 966})]}}\n",
            "----\n",
            "{'tools': {'messages': [ToolMessage(content='customer_support_tickets, financial_statements, online_shopping, spotify_data', name='sql_db_list_tables', id='3600df96-a309-4e70-9be4-6b3845ff154c', tool_call_id='call_96hb')]}}\n",
            "----\n",
            "{'agent': {'messages': [AIMessage(content='', additional_kwargs={'tool_calls': [{'id': 'call_tm81', 'function': {'arguments': '{\"table_names\": \"customer_support_tickets, financial_statements, online_shopping, spotify_data\"}', 'name': 'sql_db_schema'}, 'type': 'function'}]}, response_metadata={'token_usage': {'completion_tokens': 32, 'prompt_tokens': 992, 'total_tokens': 1024, 'completion_time': 0.080299546, 'prompt_time': 0.028535891, 'queue_time': 0.302073237, 'total_time': 0.108835437}, 'model_name': 'meta-llama/llama-4-scout-17b-16e-instruct', 'system_fingerprint': 'fp_37da608fc1', 'finish_reason': 'tool_calls', 'logprobs': None}, id='run-47e23d26-c4b8-493a-9ce6-cf6ef0b00d36-0', tool_calls=[{'name': 'sql_db_schema', 'args': {'table_names': 'customer_support_tickets, financial_statements, online_shopping, spotify_data'}, 'id': 'call_tm81', 'type': 'tool_call'}], usage_metadata={'input_tokens': 992, 'output_tokens': 32, 'total_tokens': 1024})]}}\n",
            "----\n",
            "{'tools': {'messages': [ToolMessage(content='\\nCREATE TABLE customer_support_tickets (\\n\\t\"Ticket_ID\" BIGINT, \\n\\t\"Customer_Name\" TEXT, \\n\\t\"Customer_Email\" TEXT, \\n\\t\"Customer_Age\" BIGINT, \\n\\t\"Customer_Gender\" TEXT, \\n\\t\"Product_Purchased\" TEXT, \\n\\t\"Date_of_Purchase\" TEXT, \\n\\t\"Ticket_Type\" TEXT, \\n\\t\"Ticket_Subject\" TEXT, \\n\\t\"Ticket_Description\" TEXT, \\n\\t\"Ticket_Status\" TEXT, \\n\\t\"Resolution\" TEXT, \\n\\t\"Ticket_Priority\" TEXT, \\n\\t\"Ticket_Channel\" TEXT, \\n\\t\"First_Response_Time\" TEXT, \\n\\t\"Time_to_Resolution\" TEXT, \\n\\t\"Customer_Satisfaction_Rating\" DOUBLE PRECISION\\n)\\n\\n/*\\n3 rows from customer_support_tickets table:\\nTicket_ID\\tCustomer_Name\\tCustomer_Email\\tCustomer_Age\\tCustomer_Gender\\tProduct_Purchased\\tDate_of_Purchase\\tTicket_Type\\tTicket_Subject\\tTicket_Description\\tTicket_Status\\tResolution\\tTicket_Priority\\tTicket_Channel\\tFirst_Response_Time\\tTime_to_Resolution\\tCustomer_Satisfaction_Rating\\n1\\tMarisa Obrien\\tcarrollallison@example.com\\t32\\tOther\\tGoPro Hero\\t2021-03-22\\tTechnical issue\\tProduct setup\\tI\\'m having an issue with the {product_purchased}. Please assist.\\n\\nYour billing zip code is: 71701.\\n\\n\\tPending Customer Response\\tNone\\tCritical\\tSocial media\\t2023-06-01 12:15:36\\tNone\\tNone\\n2\\tJessica Rios\\tclarkeashley@example.com\\t42\\tFemale\\tLG Smart TV\\t2021-05-22\\tTechnical issue\\tPeripheral compatibility\\tI\\'m having an issue with the {product_purchased}. Please assist.\\n\\nIf you need to change an existing \\tPending Customer Response\\tNone\\tCritical\\tChat\\t2023-06-01 16:45:38\\tNone\\tNone\\n3\\tChristopher Robbins\\tgonzalestracy@example.com\\t48\\tOther\\tDell XPS\\t2020-07-14\\tTechnical issue\\tNetwork problem\\tI\\'m facing a problem with my {product_purchased}. The {product_purchased} is not turning on. It was \\tClosed\\tCase maybe show recently my computer follow.\\tLow\\tSocial media\\t2023-06-01 11:14:38\\t2023-06-01 18:05:38\\t3.0\\n*/\\n\\n\\nCREATE TABLE financial_statements (\\n\\t\"Year\" BIGINT, \\n\\t\"Company\" TEXT, \\n\\t\"Category\" TEXT, \\n\\t\"Market Cap(in B USD)\" DOUBLE PRECISION, \\n\\t\"Revenue\" DOUBLE PRECISION, \\n\\t\"Gross Profit\" DOUBLE PRECISION, \\n\\t\"Net Income\" DOUBLE PRECISION, \\n\\t\"Earning Per Share\" DOUBLE PRECISION, \\n\\t\"EBITDA\" DOUBLE PRECISION, \\n\\t\"Share Holder Equity\" DOUBLE PRECISION, \\n\\t\"Cash Flow from Operating\" DOUBLE PRECISION, \\n\\t\"Cash Flow from Investing\" DOUBLE PRECISION, \\n\\t\"Cash Flow from Financial Activities\" DOUBLE PRECISION, \\n\\t\"Current Ratio\" DOUBLE PRECISION, \\n\\t\"Debt/Equity Ratio\" DOUBLE PRECISION, \\n\\t\"ROE\" DOUBLE PRECISION, \\n\\t\"ROA\" DOUBLE PRECISION, \\n\\t\"ROI\" DOUBLE PRECISION, \\n\\t\"Net Profit Margin\" DOUBLE PRECISION, \\n\\t\"Free Cash Flow per Share\" DOUBLE PRECISION, \\n\\t\"Return on Tangible Equity\" DOUBLE PRECISION, \\n\\t\"Number of Employees\" BIGINT, \\n\\t\"Inflation Rate(in US)\" DOUBLE PRECISION\\n)\\n\\n/*\\n3 rows from financial_statements table:\\nYear\\tCompany\\tCategory\\tMarket Cap(in B USD)\\tRevenue\\tGross Profit\\tNet Income\\tEarning Per Share\\tEBITDA\\tShare Holder Equity\\tCash Flow from Operating\\tCash Flow from Investing\\tCash Flow from Financial Activities\\tCurrent Ratio\\tDebt/Equity Ratio\\tROE\\tROA\\tROI\\tNet Profit Margin\\tFree Cash Flow per Share\\tReturn on Tangible Equity\\tNumber of Employees\\tInflation Rate(in US)\\n2022\\tAAPL\\tIT\\t2066.94\\t394328.0\\t170782.0\\t99803.0\\t6.11\\t130541.0\\t50672.0\\t122151.0\\t-22354.0\\t-110749.0\\t0.8794\\t2.3695\\t196.9589\\t28.2924\\t66.6994\\t25.3096\\t1.3146\\t196.9589\\t164000\\t8.0028\\n2021\\tAAPL\\tIT\\t2913.28\\t365817.0\\t152836.0\\t94680.0\\t5.61\\t120233.0\\t63090.0\\t104038.0\\t-14545.0\\t-93353.0\\t1.0746\\t1.9768\\t150.0713\\t26.9742\\t54.9839\\t25.8818\\t1.3261\\t150.0713\\t154000\\t4.6979\\n2020\\tAAPL\\tIT\\t2255.97\\t274515.0\\t104956.0\\t57411.0\\t3.28\\t77344.0\\t65339.0\\t80674.0\\t-4289.0\\t-86820.0\\t1.3636\\t1.7208\\t87.8664\\t17.7256\\t35.0054\\t20.9136\\t1.0183\\t87.8664\\t147000\\t1.2336\\n*/\\n\\n\\nCREATE TABLE online_shopping (\\n\\t\"CustomerID\" BIGINT, \\n\\t\"Gender\" TEXT, \\n\\t\"Location\" TEXT, \\n\\t\"Tenure_Months\" BIGINT, \\n\\t\"Transaction_ID\" BIGINT, \\n\\t\"Transaction_Date\" TEXT, \\n\\t\"Product_SKU\" TEXT, \\n\\t\"Product_Description\" TEXT, \\n\\t\"Product_Category\" TEXT, \\n\\t\"Quantity\" BIGINT, \\n\\t\"Avg_Price\" DOUBLE PRECISION, \\n\\t\"Total_Price\" DOUBLE PRECISION, \\n\\t\"Delivery_Charges\" DOUBLE PRECISION, \\n\\t\"Date\" TEXT, \\n\\t\"Month\" BIGINT\\n)\\n\\n/*\\n3 rows from online_shopping table:\\nCustomerID\\tGender\\tLocation\\tTenure_Months\\tTransaction_ID\\tTransaction_Date\\tProduct_SKU\\tProduct_Description\\tProduct_Category\\tQuantity\\tAvg_Price\\tTotal_Price\\tDelivery_Charges\\tDate\\tMonth\\n17850\\tM\\tChicago\\t12\\t16679\\t2019-01-01\\tGGOENEBJ079499\\tNest Learning Thermostat 3rd Gen-USA - Stainless Steel\\tNest-USA\\t1\\t153.71\\t153.71\\t6.5\\t1/1/2019\\t1\\n17850\\tM\\tChicago\\t12\\t16680\\t2019-01-01\\tGGOENEBJ079499\\tNest Learning Thermostat 3rd Gen-USA - Stainless Steel\\tNest-USA\\t1\\t153.71\\t153.71\\t6.5\\t1/1/2019\\t1\\n17850\\tM\\tChicago\\t12\\t16696\\t2019-01-01\\tGGOENEBQ078999\\tNest Cam Outdoor Security Camera - USA\\tNest-USA\\t2\\t122.77\\t245.54\\t6.5\\t1/1/2019\\t1\\n*/\\n\\n\\nCREATE TABLE spotify_data (\\n\\ttrack_name TEXT, \\n\\t\"artist(s)_name\" TEXT, \\n\\tartist_count BIGINT, \\n\\treleased_year BIGINT, \\n\\treleased_month BIGINT, \\n\\treleased_day BIGINT, \\n\\tin_spotify_playlists BIGINT, \\n\\tin_spotify_charts BIGINT, \\n\\tstreams TEXT, \\n\\tin_apple_playlists BIGINT, \\n\\tin_apple_charts BIGINT, \\n\\tin_deezer_playlists TEXT, \\n\\tin_deezer_charts BIGINT, \\n\\tin_shazam_charts TEXT, \\n\\tbpm BIGINT, \\n\\tkey TEXT, \\n\\tmode TEXT, \\n\\t\"danceability_%%\" BIGINT, \\n\\t\"valence_%%\" BIGINT, \\n\\t\"energy_%%\" BIGINT, \\n\\t\"acousticness_%%\" BIGINT, \\n\\t\"instrumentalness_%%\" BIGINT, \\n\\t\"liveness_%%\" BIGINT, \\n\\t\"speechiness_%%\" BIGINT\\n)\\n\\n/*\\n3 rows from spotify_data table:\\ntrack_name\\tartist(s)_name\\tartist_count\\treleased_year\\treleased_month\\treleased_day\\tin_spotify_playlists\\tin_spotify_charts\\tstreams\\tin_apple_playlists\\tin_apple_charts\\tin_deezer_playlists\\tin_deezer_charts\\tin_shazam_charts\\tbpm\\tkey\\tmode\\tdanceability_%\\tvalence_%\\tenergy_%\\tacousticness_%\\tinstrumentalness_%\\tliveness_%\\tspeechiness_%\\nSeven (feat. Latto) (Explicit Ver.)\\tLatto, Jung Kook\\t2\\t2023\\t7\\t14\\t553\\t147\\t141381703\\t43\\t263\\t45\\t10\\t826\\t125\\tB\\tMajor\\t80\\t89\\t83\\t31\\t0\\t8\\t4\\nLALA\\tMyke Towers\\t1\\t2023\\t3\\t23\\t1474\\t48\\t133716286\\t48\\t126\\t58\\t14\\t382\\t92\\tC#\\tMajor\\t71\\t61\\t74\\t7\\t0\\t10\\t4\\nvampire\\tOlivia Rodrigo\\t1\\t2023\\t6\\t30\\t1397\\t113\\t140003974\\t94\\t207\\t91\\t14\\t949\\t138\\tF\\tMajor\\t51\\t32\\t53\\t17\\t0\\t31\\t6\\n*/', name='sql_db_schema', id='f3358da4-8653-4273-b5c7-7cc199a78b2e', tool_call_id='call_tm81')]}}\n",
            "----\n",
            "{'agent': {'messages': [AIMessage(content='', additional_kwargs={'tool_calls': [{'id': 'call_y20r', 'function': {'arguments': '{\"query\": \"SELECT COUNT(Customer_Email) FROM customer_support_tickets WHERE Customer_Email LIKE \\'%@example.org\\'\"}', 'name': 'sql_db_query_checker'}, 'type': 'function'}, {'id': 'call_zg9w', 'function': {'arguments': '{\"query\": \"SELECT COUNT(Customer_Email) FROM customer_support_tickets WHERE Customer_Email LIKE \\'%@example.org\\'\"}', 'name': 'sql_db_query'}, 'type': 'function'}]}, response_metadata={'token_usage': {'completion_tokens': 75, 'prompt_tokens': 2801, 'total_tokens': 2876, 'completion_time': 0.147484394, 'prompt_time': 0.083043959, 'queue_time': 0.23465828100000002, 'total_time': 0.230528353}, 'model_name': 'meta-llama/llama-4-scout-17b-16e-instruct', 'system_fingerprint': 'fp_42ae451038', 'finish_reason': 'tool_calls', 'logprobs': None}, id='run-85520d6d-b3c3-4f83-b1c4-bc55917adc44-0', tool_calls=[{'name': 'sql_db_query_checker', 'args': {'query': \"SELECT COUNT(Customer_Email) FROM customer_support_tickets WHERE Customer_Email LIKE '%@example.org'\"}, 'id': 'call_y20r', 'type': 'tool_call'}, {'name': 'sql_db_query', 'args': {'query': \"SELECT COUNT(Customer_Email) FROM customer_support_tickets WHERE Customer_Email LIKE '%@example.org'\"}, 'id': 'call_zg9w', 'type': 'tool_call'}], usage_metadata={'input_tokens': 2801, 'output_tokens': 75, 'total_tokens': 2876})]}}\n",
            "----\n",
            "{'tools': {'messages': [ToolMessage(content=\"```sql\\nSELECT COUNT(Customer_Email) \\nFROM customer_support_tickets \\nWHERE Customer_Email LIKE '%@example.org';\\n```\", name='sql_db_query_checker', id='47fd4280-1064-403f-98b2-f314f6f43c56', tool_call_id='call_y20r'), ToolMessage(content='Error: (psycopg2.errors.UndefinedColumn) column \"customer_email\" does not exist\\nLINE 1: SELECT COUNT(Customer_Email) FROM customer_support_tickets W...\\n                     ^\\nHINT:  Perhaps you meant to reference the column \"customer_support_tickets.Customer_Email\".\\n\\n[SQL: SELECT COUNT(Customer_Email) FROM customer_support_tickets WHERE Customer_Email LIKE \\'%%@example.org\\']\\n(Background on this error at: https://sqlalche.me/e/20/f405)', name='sql_db_query', id='8a913b25-4bc5-4028-8f3c-7b84a826585e', tool_call_id='call_zg9w')]}}\n",
            "----\n",
            "{'agent': {'messages': [AIMessage(content='', additional_kwargs={'tool_calls': [{'id': 'call_khga', 'function': {'arguments': '{\"query\": \"SELECT COUNT(Customer_Email) FROM customer_support_tickets WHERE lower(Customer_Email) LIKE \\'%@example.org\\'\"}', 'name': 'sql_db_query_checker'}, 'type': 'function'}]}, response_metadata={'token_usage': {'completion_tokens': 38, 'prompt_tokens': 3015, 'total_tokens': 3053, 'completion_time': 0.091852186, 'prompt_time': 0.093475625, 'queue_time': 0.5734469010000001, 'total_time': 0.185327811}, 'model_name': 'meta-llama/llama-4-scout-17b-16e-instruct', 'system_fingerprint': 'fp_37da608fc1', 'finish_reason': 'tool_calls', 'logprobs': None}, id='run-ed4029ab-6587-4544-8460-32c0b624e892-0', tool_calls=[{'name': 'sql_db_query_checker', 'args': {'query': \"SELECT COUNT(Customer_Email) FROM customer_support_tickets WHERE lower(Customer_Email) LIKE '%@example.org'\"}, 'id': 'call_khga', 'type': 'tool_call'}], usage_metadata={'input_tokens': 3015, 'output_tokens': 38, 'total_tokens': 3053})]}}\n",
            "----\n",
            "{'tools': {'messages': [ToolMessage(content=\"```sql\\nSELECT COUNT(Customer_Email) \\nFROM customer_support_tickets \\nWHERE lower(Customer_Email) LIKE '%@example.org';\\n```\", name='sql_db_query_checker', id='02c96bd8-40b9-46b4-8bbd-9873b4e21232', tool_call_id='call_khga')]}}\n",
            "----\n",
            "{'agent': {'messages': [AIMessage(content='', additional_kwargs={'tool_calls': [{'id': 'call_7j9t', 'function': {'arguments': '{\"query\": \"SELECT COUNT(Customer_Email) FROM customer_support_tickets WHERE lower(Customer_Email) LIKE \\'%@example.org\\'\"}', 'name': 'sql_db_query'}, 'type': 'function'}]}, response_metadata={'token_usage': {'completion_tokens': 37, 'prompt_tokens': 3092, 'total_tokens': 3129, 'completion_time': 0.089566563, 'prompt_time': 0.089636833, 'queue_time': 0.34444199600000003, 'total_time': 0.179203396}, 'model_name': 'meta-llama/llama-4-scout-17b-16e-instruct', 'system_fingerprint': 'fp_37da608fc1', 'finish_reason': 'tool_calls', 'logprobs': None}, id='run-03c963c8-18e2-41d0-9d48-d21c1ce56cc5-0', tool_calls=[{'name': 'sql_db_query', 'args': {'query': \"SELECT COUNT(Customer_Email) FROM customer_support_tickets WHERE lower(Customer_Email) LIKE '%@example.org'\"}, 'id': 'call_7j9t', 'type': 'tool_call'}], usage_metadata={'input_tokens': 3092, 'output_tokens': 37, 'total_tokens': 3129})]}}\n",
            "----\n",
            "{'tools': {'messages': [ToolMessage(content='Error: (psycopg2.errors.UndefinedColumn) column \"customer_email\" does not exist\\nLINE 1: SELECT COUNT(Customer_Email) FROM customer_support_tickets W...\\n                     ^\\nHINT:  Perhaps you meant to reference the column \"customer_support_tickets.Customer_Email\".\\n\\n[SQL: SELECT COUNT(Customer_Email) FROM customer_support_tickets WHERE lower(Customer_Email) LIKE \\'%%@example.org\\']\\n(Background on this error at: https://sqlalche.me/e/20/f405)', name='sql_db_query', id='c8d263f9-aca9-4953-b237-62a3346c2af3', tool_call_id='call_7j9t')]}}\n",
            "----\n",
            "{'agent': {'messages': [AIMessage(content='', additional_kwargs={'tool_calls': [{'id': 'call_xxr4', 'function': {'arguments': '{\"query\": \"SELECT COUNT(\\\\\"Customer_Email\\\\\") FROM customer_support_tickets WHERE lower(\\\\\"Customer_Email\\\\\") LIKE \\'%@example.org\\'\"}', 'name': 'sql_db_query_checker'}, 'type': 'function'}]}, response_metadata={'token_usage': {'completion_tokens': 62, 'prompt_tokens': 3242, 'total_tokens': 3304, 'completion_time': 0.150325848, 'prompt_time': 0.102938452, 'queue_time': 0.313165981, 'total_time': 0.2532643}, 'model_name': 'meta-llama/llama-4-scout-17b-16e-instruct', 'system_fingerprint': 'fp_42ae451038', 'finish_reason': 'tool_calls', 'logprobs': None}, id='run-3150f332-166d-40ba-a19f-ab63be96b801-0', tool_calls=[{'name': 'sql_db_query_checker', 'args': {'query': 'SELECT COUNT(\"Customer_Email\") FROM customer_support_tickets WHERE lower(\"Customer_Email\") LIKE \\'%@example.org\\''}, 'id': 'call_xxr4', 'type': 'tool_call'}], usage_metadata={'input_tokens': 3242, 'output_tokens': 62, 'total_tokens': 3304})]}}\n",
            "----\n",
            "{'tools': {'messages': [ToolMessage(content='```sql\\nSELECT COUNT(\"Customer_Email\") \\nFROM customer_support_tickets \\nWHERE lower(\"Customer_Email\") LIKE \\'%@example.org\\';\\n```', name='sql_db_query_checker', id='833b415a-334c-4685-8493-bc5739b3703c', tool_call_id='call_xxr4')]}}\n",
            "----\n",
            "{'agent': {'messages': [AIMessage(content='', additional_kwargs={'tool_calls': [{'id': 'call_k2xw', 'function': {'arguments': '{\"query\": \"SELECT COUNT(\\\\\"Customer_Email\\\\\") FROM customer_support_tickets WHERE lower(\\\\\"Customer_Email\\\\\") LIKE \\'%@example.org\\'\"}', 'name': 'sql_db_query'}, 'type': 'function'}]}, response_metadata={'token_usage': {'completion_tokens': 39, 'prompt_tokens': 3323, 'total_tokens': 3362, 'completion_time': 0.094206861, 'prompt_time': 0.115965586, 'queue_time': 0.343770654, 'total_time': 0.210172447}, 'model_name': 'meta-llama/llama-4-scout-17b-16e-instruct', 'system_fingerprint': 'fp_42ae451038', 'finish_reason': 'tool_calls', 'logprobs': None}, id='run-c83defaa-446f-40f4-9128-57986f93588d-0', tool_calls=[{'name': 'sql_db_query', 'args': {'query': 'SELECT COUNT(\"Customer_Email\") FROM customer_support_tickets WHERE lower(\"Customer_Email\") LIKE \\'%@example.org\\''}, 'id': 'call_k2xw', 'type': 'tool_call'}], usage_metadata={'input_tokens': 3323, 'output_tokens': 39, 'total_tokens': 3362})]}}\n",
            "----\n",
            "{'tools': {'messages': [ToolMessage(content='[(2796,)]', name='sql_db_query', id='58df2d4d-6514-4bf3-ae36-014ab3881d3e', tool_call_id='call_k2xw')]}}\n",
            "----\n",
            "{'agent': {'messages': [AIMessage(content=\"มี Customer_Email จำนวน 2796 ที่ลงท้ายด้วย 'example.org'\", additional_kwargs={}, response_metadata={'token_usage': {'completion_tokens': 18, 'prompt_tokens': 3377, 'total_tokens': 3395, 'completion_time': 0.038774165, 'prompt_time': 0.095932726, 'queue_time': 0.570306326, 'total_time': 0.134706891}, 'model_name': 'meta-llama/llama-4-scout-17b-16e-instruct', 'system_fingerprint': 'fp_37da608fc1', 'finish_reason': 'stop', 'logprobs': None}, id='run-40b19007-a4a9-4938-aa9f-3f7694211361-0', usage_metadata={'input_tokens': 3377, 'output_tokens': 18, 'total_tokens': 3395})]}}\n",
            "----\n"
          ]
        }
      ],
      "source": [
        "for s in agent_executor.stream(\n",
        "    {\"messages\": [HumanMessage(content=\"มี Customer_Email จำนวนเท่าไหร่ ที่ลงท้ายด้วย 'example.org'\")]}\n",
        "):\n",
        "    print(s)\n",
        "    print(\"----\")"
      ]
    },
    {
      "cell_type": "code",
      "execution_count": null,
      "metadata": {
        "colab": {
          "base_uri": "https://localhost:8080/",
          "height": 35
        },
        "id": "LgpxUtQfzSx0",
        "outputId": "1f030fb1-9c5a-48aa-de9e-8bd6c3b1db8d"
      },
      "outputs": [
        {
          "data": {
            "application/vnd.google.colaboratory.intrinsic+json": {
              "type": "string"
            },
            "text/plain": [
              "\"มี Customer_Email จำนวน 2796 ที่ลงท้ายด้วย 'example.org'\""
            ]
          },
          "execution_count": 57,
          "metadata": {},
          "output_type": "execute_result"
        }
      ],
      "source": [
        "s['agent']['messages'][0].content"
      ]
    },
    {
      "cell_type": "code",
      "execution_count": null,
      "metadata": {
        "colab": {
          "base_uri": "https://localhost:8080/"
        },
        "id": "_127hI843OgY",
        "outputId": "bc123619-9d32-4189-90df-de9f0cfdf312"
      },
      "outputs": [
        {
          "name": "stdout",
          "output_type": "stream",
          "text": [
            "{'agent': {'messages': [AIMessage(content='', additional_kwargs={'tool_calls': [{'id': 'call_ypa7', 'function': {'arguments': '{\"tool_input\": \"\"}', 'name': 'sql_db_list_tables'}, 'type': 'function'}]}, response_metadata={'token_usage': {'completion_tokens': 16, 'prompt_tokens': 996, 'total_tokens': 1012, 'completion_time': 0.039707323, 'prompt_time': 0.036771349, 'queue_time': 0.396794783, 'total_time': 0.076478672}, 'model_name': 'meta-llama/llama-4-scout-17b-16e-instruct', 'system_fingerprint': 'fp_37da608fc1', 'finish_reason': 'tool_calls', 'logprobs': None}, id='run-7b11ae4c-b638-41ac-a819-aa5c5b0901e1-0', tool_calls=[{'name': 'sql_db_list_tables', 'args': {'tool_input': ''}, 'id': 'call_ypa7', 'type': 'tool_call'}], usage_metadata={'input_tokens': 996, 'output_tokens': 16, 'total_tokens': 1012})]}}\n",
            "----\n",
            "{'tools': {'messages': [ToolMessage(content='customer_support_tickets, financial_statements, online_shopping, spotify_data', name='sql_db_list_tables', id='997b71a4-89bc-4295-a89a-60d45cda969d', tool_call_id='call_ypa7')]}}\n",
            "----\n",
            "{'agent': {'messages': [AIMessage(content='', additional_kwargs={'tool_calls': [{'id': 'call_5v2q', 'function': {'arguments': '{\"table_names\": \"financial_statements\"}', 'name': 'sql_db_schema'}, 'type': 'function'}]}, response_metadata={'token_usage': {'completion_tokens': 19, 'prompt_tokens': 1038, 'total_tokens': 1057, 'completion_time': 0.041400489, 'prompt_time': 0.036002575, 'queue_time': 0.508030604, 'total_time': 0.077403064}, 'model_name': 'meta-llama/llama-4-scout-17b-16e-instruct', 'system_fingerprint': 'fp_42ae451038', 'finish_reason': 'tool_calls', 'logprobs': None}, id='run-91a3b76e-76d9-4b11-a55d-2b9bc8667b40-0', tool_calls=[{'name': 'sql_db_schema', 'args': {'table_names': 'financial_statements'}, 'id': 'call_5v2q', 'type': 'tool_call'}], usage_metadata={'input_tokens': 1038, 'output_tokens': 19, 'total_tokens': 1057})]}}\n",
            "----\n",
            "{'tools': {'messages': [ToolMessage(content='\\nCREATE TABLE financial_statements (\\n\\t\"Year\" BIGINT, \\n\\t\"Company\" TEXT, \\n\\t\"Category\" TEXT, \\n\\t\"Market Cap(in B USD)\" DOUBLE PRECISION, \\n\\t\"Revenue\" DOUBLE PRECISION, \\n\\t\"Gross Profit\" DOUBLE PRECISION, \\n\\t\"Net Income\" DOUBLE PRECISION, \\n\\t\"Earning Per Share\" DOUBLE PRECISION, \\n\\t\"EBITDA\" DOUBLE PRECISION, \\n\\t\"Share Holder Equity\" DOUBLE PRECISION, \\n\\t\"Cash Flow from Operating\" DOUBLE PRECISION, \\n\\t\"Cash Flow from Investing\" DOUBLE PRECISION, \\n\\t\"Cash Flow from Financial Activities\" DOUBLE PRECISION, \\n\\t\"Current Ratio\" DOUBLE PRECISION, \\n\\t\"Debt/Equity Ratio\" DOUBLE PRECISION, \\n\\t\"ROE\" DOUBLE PRECISION, \\n\\t\"ROA\" DOUBLE PRECISION, \\n\\t\"ROI\" DOUBLE PRECISION, \\n\\t\"Net Profit Margin\" DOUBLE PRECISION, \\n\\t\"Free Cash Flow per Share\" DOUBLE PRECISION, \\n\\t\"Return on Tangible Equity\" DOUBLE PRECISION, \\n\\t\"Number of Employees\" BIGINT, \\n\\t\"Inflation Rate(in US)\" DOUBLE PRECISION\\n)\\n\\n/*\\n3 rows from financial_statements table:\\nYear\\tCompany\\tCategory\\tMarket Cap(in B USD)\\tRevenue\\tGross Profit\\tNet Income\\tEarning Per Share\\tEBITDA\\tShare Holder Equity\\tCash Flow from Operating\\tCash Flow from Investing\\tCash Flow from Financial Activities\\tCurrent Ratio\\tDebt/Equity Ratio\\tROE\\tROA\\tROI\\tNet Profit Margin\\tFree Cash Flow per Share\\tReturn on Tangible Equity\\tNumber of Employees\\tInflation Rate(in US)\\n2022\\tAAPL\\tIT\\t2066.94\\t394328.0\\t170782.0\\t99803.0\\t6.11\\t130541.0\\t50672.0\\t122151.0\\t-22354.0\\t-110749.0\\t0.8794\\t2.3695\\t196.9589\\t28.2924\\t66.6994\\t25.3096\\t1.3146\\t196.9589\\t164000\\t8.0028\\n2021\\tAAPL\\tIT\\t2913.28\\t365817.0\\t152836.0\\t94680.0\\t5.61\\t120233.0\\t63090.0\\t104038.0\\t-14545.0\\t-93353.0\\t1.0746\\t1.9768\\t150.0713\\t26.9742\\t54.9839\\t25.8818\\t1.3261\\t150.0713\\t154000\\t4.6979\\n2020\\tAAPL\\tIT\\t2255.97\\t274515.0\\t104956.0\\t57411.0\\t3.28\\t77344.0\\t65339.0\\t80674.0\\t-4289.0\\t-86820.0\\t1.3636\\t1.7208\\t87.8664\\t17.7256\\t35.0054\\t20.9136\\t1.0183\\t87.8664\\t147000\\t1.2336\\n*/', name='sql_db_schema', id='6558d80d-2ac2-453c-b5ba-c84013d766fc', tool_call_id='call_5v2q')]}}\n",
            "----\n",
            "{'agent': {'messages': [AIMessage(content='', additional_kwargs={'tool_calls': [{'id': 'call_1g5x', 'function': {'arguments': '{\"query\": \"SELECT SUM(CASE WHEN Company = \\'AAPL\\' AND Year BETWEEN 2019 AND 2023 THEN Gross_Profit ELSE 0 END) AS AAPL_Gross_Profit, SUM(CASE WHEN Company = \\'AMZN\\' AND Year BETWEEN 2019 AND 2023 THEN Gross_Profit ELSE 0 END) AS AMZN_Gross_Profit FROM financial_statements\"}', 'name': 'sql_db_query'}, 'type': 'function'}]}, response_metadata={'token_usage': {'completion_tokens': 93, 'prompt_tokens': 1629, 'total_tokens': 1722, 'completion_time': 0.195191959, 'prompt_time': 0.052865726, 'queue_time': 0.5188906769999999, 'total_time': 0.248057685}, 'model_name': 'meta-llama/llama-4-scout-17b-16e-instruct', 'system_fingerprint': 'fp_37da608fc1', 'finish_reason': 'tool_calls', 'logprobs': None}, id='run-55e47798-d26a-4cf2-bb87-08e057bf3c24-0', tool_calls=[{'name': 'sql_db_query', 'args': {'query': \"SELECT SUM(CASE WHEN Company = 'AAPL' AND Year BETWEEN 2019 AND 2023 THEN Gross_Profit ELSE 0 END) AS AAPL_Gross_Profit, SUM(CASE WHEN Company = 'AMZN' AND Year BETWEEN 2019 AND 2023 THEN Gross_Profit ELSE 0 END) AS AMZN_Gross_Profit FROM financial_statements\"}, 'id': 'call_1g5x', 'type': 'tool_call'}], usage_metadata={'input_tokens': 1629, 'output_tokens': 93, 'total_tokens': 1722})]}}\n",
            "----\n",
            "{'tools': {'messages': [ToolMessage(content='Error: (psycopg2.errors.UndefinedColumn) column \"company\" does not exist\\nLINE 1: SELECT SUM(CASE WHEN Company = \\'AAPL\\' AND Year BETWEEN 2019 ...\\n                             ^\\nHINT:  Perhaps you meant to reference the column \"financial_statements.Company\".\\n\\n[SQL: SELECT SUM(CASE WHEN Company = \\'AAPL\\' AND Year BETWEEN 2019 AND 2023 THEN Gross_Profit ELSE 0 END) AS AAPL_Gross_Profit, SUM(CASE WHEN Company = \\'AMZN\\' AND Year BETWEEN 2019 AND 2023 THEN Gross_Profit ELSE 0 END) AS AMZN_Gross_Profit FROM financial_statements]\\n(Background on this error at: https://sqlalche.me/e/20/f405)', name='sql_db_query', id='3eb85761-046f-4cbf-8188-b5b596d2b8e4', tool_call_id='call_1g5x')]}}\n",
            "----\n",
            "{'agent': {'messages': [AIMessage(content='', additional_kwargs={'tool_calls': [{'id': 'call_f471', 'function': {'arguments': '{\"query\": \"SELECT SUM(CASE WHEN Company = \\'AAPL\\' AND Year BETWEEN 2019 AND 2023 THEN Gross_Profit ELSE 0 END) AS AAPL_Gross_Profit, SUM(CASE WHEN Company = \\'AMZN\\' AND Year BETWEEN 2019 AND 2023 THEN Gross_Profit ELSE 0 END) AS AMZN_Gross_Profit FROM financial_statements\"}', 'name': 'sql_db_query_checker'}, 'type': 'function'}]}, response_metadata={'token_usage': {'completion_tokens': 94, 'prompt_tokens': 1878, 'total_tokens': 1972, 'completion_time': 0.195569416, 'prompt_time': 0.059074726, 'queue_time': 0.21381518600000002, 'total_time': 0.254644142}, 'model_name': 'meta-llama/llama-4-scout-17b-16e-instruct', 'system_fingerprint': 'fp_42ae451038', 'finish_reason': 'tool_calls', 'logprobs': None}, id='run-c7eafbde-a250-4a68-ac0a-62a28071e01c-0', tool_calls=[{'name': 'sql_db_query_checker', 'args': {'query': \"SELECT SUM(CASE WHEN Company = 'AAPL' AND Year BETWEEN 2019 AND 2023 THEN Gross_Profit ELSE 0 END) AS AAPL_Gross_Profit, SUM(CASE WHEN Company = 'AMZN' AND Year BETWEEN 2019 AND 2023 THEN Gross_Profit ELSE 0 END) AS AMZN_Gross_Profit FROM financial_statements\"}, 'id': 'call_f471', 'type': 'tool_call'}], usage_metadata={'input_tokens': 1878, 'output_tokens': 94, 'total_tokens': 1972})]}}\n",
            "----\n",
            "{'tools': {'messages': [ToolMessage(content='```sql\\nSELECT \\n  SUM(CASE WHEN Company = \\'AAPL\\' AND Year BETWEEN 2019 AND 2023 THEN Gross_Profit ELSE 0 END) AS \"AAPL_Gross_Profit\", \\n  SUM(CASE WHEN Company = \\'AMZN\\' AND Year BETWEEN 2019 AND 2023 THEN Gross_Profit ELSE 0 END) AS \"AMZN_Gross_Profit\" \\nFROM financial_statements;\\n```', name='sql_db_query_checker', id='5115bae9-dbbb-41cc-a05b-615db39a599f', tool_call_id='call_f471')]}}\n",
            "----\n",
            "{'agent': {'messages': [AIMessage(content='', additional_kwargs={'tool_calls': [{'id': 'call_b43k', 'function': {'arguments': '{\"query\": \"SELECT SUM(CASE WHEN Company = \\'AAPL\\' AND \\\\\"Year\\\\\" BETWEEN 2019 AND 2023 THEN \\\\\"Gross Profit\\\\\" ELSE 0 END) AS AAPL_Gross_Profit, SUM(CASE WHEN Company = \\'AMZN\\' AND \\\\\"Year\\\\\" BETWEEN 2019 AND 2023 THEN \\\\\"Gross Profit\\\\\" ELSE 0 END) AS AMZN_Gross_Profit FROM financial_statements\"}', 'name': 'sql_db_query'}, 'type': 'function'}]}, response_metadata={'token_usage': {'completion_tokens': 99, 'prompt_tokens': 2059, 'total_tokens': 2158, 'completion_time': 0.207144101, 'prompt_time': 0.059030207, 'queue_time': 0.22346010500000002, 'total_time': 0.266174308}, 'model_name': 'meta-llama/llama-4-scout-17b-16e-instruct', 'system_fingerprint': 'fp_42ae451038', 'finish_reason': 'tool_calls', 'logprobs': None}, id='run-ed6b332b-aebb-4730-ac49-49ac9fb8b7a6-0', tool_calls=[{'name': 'sql_db_query', 'args': {'query': 'SELECT SUM(CASE WHEN Company = \\'AAPL\\' AND \"Year\" BETWEEN 2019 AND 2023 THEN \"Gross Profit\" ELSE 0 END) AS AAPL_Gross_Profit, SUM(CASE WHEN Company = \\'AMZN\\' AND \"Year\" BETWEEN 2019 AND 2023 THEN \"Gross Profit\" ELSE 0 END) AS AMZN_Gross_Profit FROM financial_statements'}, 'id': 'call_b43k', 'type': 'tool_call'}], usage_metadata={'input_tokens': 2059, 'output_tokens': 99, 'total_tokens': 2158})]}}\n",
            "----\n",
            "{'tools': {'messages': [ToolMessage(content='Error: (psycopg2.errors.UndefinedColumn) column \"company\" does not exist\\nLINE 1: SELECT SUM(CASE WHEN Company = \\'AAPL\\' AND \"Year\" BETWEEN 201...\\n                             ^\\nHINT:  Perhaps you meant to reference the column \"financial_statements.Company\".\\n\\n[SQL: SELECT SUM(CASE WHEN Company = \\'AAPL\\' AND \"Year\" BETWEEN 2019 AND 2023 THEN \"Gross Profit\" ELSE 0 END) AS AAPL_Gross_Profit, SUM(CASE WHEN Company = \\'AMZN\\' AND \"Year\" BETWEEN 2019 AND 2023 THEN \"Gross Profit\" ELSE 0 END) AS AMZN_Gross_Profit FROM financial_statements]\\n(Background on this error at: https://sqlalche.me/e/20/f405)', name='sql_db_query', id='a56eb1cf-8db0-40df-a5fd-5951b996dbb4', tool_call_id='call_b43k')]}}\n",
            "----\n",
            "{'agent': {'messages': [AIMessage(content='', additional_kwargs={'tool_calls': [{'id': 'call_gc2c', 'function': {'arguments': '{\"query\": \"SELECT SUM(CASE WHEN \\\\\"Company\\\\\" = \\'AAPL\\' AND \\\\\"Year\\\\\" BETWEEN2019 AND2023 THEN \\\\\"Gross Profit\\\\\" ELSE0 END) AS AAPL_Gross_Profit, SUM(CASE WHEN \\\\\"Company\\\\\" = \\'AMZN\\' AND \\\\\"Year\\\\\" BETWEEN2019 AND2023 THEN \\\\\"Gross Profit\\\\\" ELSE0 END) AS AMZN_Gross_Profit FROM financial_statements\"}', 'name': 'sql_db_query_checker'}, 'type': 'function'}]}, response_metadata={'token_usage': {'completion_tokens': 98, 'prompt_tokens': 2321, 'total_tokens': 2419, 'completion_time': 0.191416805, 'prompt_time': 0.067105255, 'queue_time': 0.22208346599999998, 'total_time': 0.25852206}, 'model_name': 'meta-llama/llama-4-scout-17b-16e-instruct', 'system_fingerprint': 'fp_37da608fc1', 'finish_reason': 'tool_calls', 'logprobs': None}, id='run-794295fb-1459-40f0-8626-d82fd7c40302-0', tool_calls=[{'name': 'sql_db_query_checker', 'args': {'query': 'SELECT SUM(CASE WHEN \"Company\" = \\'AAPL\\' AND \"Year\" BETWEEN2019 AND2023 THEN \"Gross Profit\" ELSE0 END) AS AAPL_Gross_Profit, SUM(CASE WHEN \"Company\" = \\'AMZN\\' AND \"Year\" BETWEEN2019 AND2023 THEN \"Gross Profit\" ELSE0 END) AS AMZN_Gross_Profit FROM financial_statements'}, 'id': 'call_gc2c', 'type': 'tool_call'}], usage_metadata={'input_tokens': 2321, 'output_tokens': 98, 'total_tokens': 2419})]}}\n",
            "----\n",
            "{'tools': {'messages': [ToolMessage(content='```sql\\nSELECT \\n  SUM(CASE WHEN \"Company\" = \\'AAPL\\' AND \"Year\" >= 2019 AND \"Year\" <= 2023 THEN \"Gross Profit\" ELSE 0 END) AS AAPL_Gross_Profit, \\n  SUM(CASE WHEN \"Company\" = \\'AMZN\\' AND \"Year\" >= 2019 AND \"Year\" <= 2023 THEN \"Gross Profit\" ELSE 0 END) AS AMZN_Gross_Profit \\nFROM financial_statements;\\n```', name='sql_db_query_checker', id='14489572-d369-4544-9c5e-23412a422faf', tool_call_id='call_gc2c')]}}\n",
            "----\n",
            "{'agent': {'messages': [AIMessage(content='', additional_kwargs={'tool_calls': [{'id': 'call_8hef', 'function': {'arguments': '{\"query\": \"SELECT SUM(CASE WHEN \\\\\"Company\\\\\" = \\'AAPL\\' AND \\\\\"Year\\\\\" >=2019 AND \\\\\"Year\\\\\" <=2023 THEN \\\\\"Gross Profit\\\\\" ELSE0 END) AS AAPL_Gross_Profit, SUM(CASE WHEN \\\\\"Company\\\\\" = \\'AMZN\\' AND \\\\\"Year\\\\\" >=2019 AND \\\\\"Year\\\\\" <=2023 THEN \\\\\"Gross Profit\\\\\" ELSE0 END) AS AMZN_Gross_Profit FROM financial_statements\"}', 'name': 'sql_db_query'}, 'type': 'function'}]}, response_metadata={'token_usage': {'completion_tokens': 105, 'prompt_tokens': 2527, 'total_tokens': 2632, 'completion_time': 0.213099264, 'prompt_time': 0.066814919, 'queue_time': 0.212884643, 'total_time': 0.279914183}, 'model_name': 'meta-llama/llama-4-scout-17b-16e-instruct', 'system_fingerprint': 'fp_37da608fc1', 'finish_reason': 'tool_calls', 'logprobs': None}, id='run-824367b6-a1e6-4cbd-a287-97e65011ddcf-0', tool_calls=[{'name': 'sql_db_query', 'args': {'query': 'SELECT SUM(CASE WHEN \"Company\" = \\'AAPL\\' AND \"Year\" >=2019 AND \"Year\" <=2023 THEN \"Gross Profit\" ELSE0 END) AS AAPL_Gross_Profit, SUM(CASE WHEN \"Company\" = \\'AMZN\\' AND \"Year\" >=2019 AND \"Year\" <=2023 THEN \"Gross Profit\" ELSE0 END) AS AMZN_Gross_Profit FROM financial_statements'}, 'id': 'call_8hef', 'type': 'tool_call'}], usage_metadata={'input_tokens': 2527, 'output_tokens': 105, 'total_tokens': 2632})]}}\n",
            "----\n",
            "{'tools': {'messages': [ToolMessage(content='Error: (psycopg2.errors.SyntaxError) syntax error at or near \"ELSE0\"\\nLINE 1: ...ear\" >=2019 AND \"Year\" <=2023 THEN \"Gross Profit\" ELSE0 END)...\\n                                                             ^\\n\\n[SQL: SELECT SUM(CASE WHEN \"Company\" = \\'AAPL\\' AND \"Year\" >=2019 AND \"Year\" <=2023 THEN \"Gross Profit\" ELSE0 END) AS AAPL_Gross_Profit, SUM(CASE WHEN \"Company\" = \\'AMZN\\' AND \"Year\" >=2019 AND \"Year\" <=2023 THEN \"Gross Profit\" ELSE0 END) AS AMZN_Gross_Profit FROM financial_statements]\\n(Background on this error at: https://sqlalche.me/e/20/f405)', name='sql_db_query', id='075e2ffc-2e35-42a7-b08f-6977c4d78959', tool_call_id='call_8hef')]}}\n",
            "----\n",
            "{'agent': {'messages': [AIMessage(content='', additional_kwargs={'tool_calls': [{'id': 'call_m36v', 'function': {'arguments': '{\"query\": \"SELECT SUM(CASE WHEN \\\\\"Company\\\\\" = \\'AAPL\\' AND \\\\\"Year\\\\\" >=2019 AND \\\\\"Year\\\\\" <=2023 THEN \\\\\"Gross Profit\\\\\" ELSE 0 END) AS AAPL_Gross_Profit, SUM(CASE WHEN \\\\\"Company\\\\\" = \\'AMZN\\' AND \\\\\"Year\\\\\" >=2019 AND \\\\\"Year\\\\\" <=2023 THEN \\\\\"Gross Profit\\\\\" ELSE 0 END) AS AMZN_Gross_Profit FROM financial_statements\"}', 'name': 'sql_db_query_checker'}, 'type': 'function'}]}, response_metadata={'token_usage': {'completion_tokens': 108, 'prompt_tokens': 2803, 'total_tokens': 2911, 'completion_time': 0.212829728, 'prompt_time': 0.074090582, 'queue_time': 0.21851502, 'total_time': 0.28692031}, 'model_name': 'meta-llama/llama-4-scout-17b-16e-instruct', 'system_fingerprint': 'fp_37da608fc1', 'finish_reason': 'tool_calls', 'logprobs': None}, id='run-2d4b10c6-4416-4d0c-9dad-8a160d50f0e1-0', tool_calls=[{'name': 'sql_db_query_checker', 'args': {'query': 'SELECT SUM(CASE WHEN \"Company\" = \\'AAPL\\' AND \"Year\" >=2019 AND \"Year\" <=2023 THEN \"Gross Profit\" ELSE 0 END) AS AAPL_Gross_Profit, SUM(CASE WHEN \"Company\" = \\'AMZN\\' AND \"Year\" >=2019 AND \"Year\" <=2023 THEN \"Gross Profit\" ELSE 0 END) AS AMZN_Gross_Profit FROM financial_statements'}, 'id': 'call_m36v', 'type': 'tool_call'}], usage_metadata={'input_tokens': 2803, 'output_tokens': 108, 'total_tokens': 2911})]}}\n",
            "----\n",
            "{'tools': {'messages': [ToolMessage(content='```sql\\nSELECT \\n    SUM(CASE WHEN \"Company\" = \\'AAPL\\' AND \"Year\" >= 2019 AND \"Year\" <= 2023 THEN \"Gross Profit\" ELSE 0 END) AS AAPL_Gross_Profit, \\n    SUM(CASE WHEN \"Company\" = \\'AMZN\\' AND \"Year\" >= 2019 AND \"Year\" <= 2023 THEN \"Gross Profit\" ELSE 0 END) AS AMZN_Gross_Profit \\nFROM financial_statements;\\n```', name='sql_db_query_checker', id='224db72b-5321-418a-a8c0-67c226e464dc', tool_call_id='call_m36v')]}}\n",
            "----\n",
            "{'agent': {'messages': [AIMessage(content='', additional_kwargs={'tool_calls': [{'id': 'call_pv64', 'function': {'arguments': '{\"query\": \"SELECT SUM(CASE WHEN \\\\\"Company\\\\\" = \\'AAPL\\' AND \\\\\"Year\\\\\" >=2019 AND \\\\\"Year\\\\\" <=2023 THEN \\\\\"Gross Profit\\\\\" ELSE 0 END) AS AAPL_Gross_Profit, SUM(CASE WHEN \\\\\"Company\\\\\" = \\'AMZN\\' AND \\\\\"Year\\\\\" >=2019 AND \\\\\"Year\\\\\" <=2023 THEN \\\\\"Gross Profit\\\\\" ELSE 0 END) AS AMZN_Gross_Profit FROM financial_statements\"}', 'name': 'sql_db_query'}, 'type': 'function'}]}, response_metadata={'token_usage': {'completion_tokens': 107, 'prompt_tokens': 3017, 'total_tokens': 3124, 'completion_time': 0.250619757, 'prompt_time': 0.097012091, 'queue_time': 0.23311927699999999, 'total_time': 0.347631848}, 'model_name': 'meta-llama/llama-4-scout-17b-16e-instruct', 'system_fingerprint': 'fp_42ae451038', 'finish_reason': 'tool_calls', 'logprobs': None}, id='run-6d78f5d7-f6c0-4a25-b050-46efb2e18126-0', tool_calls=[{'name': 'sql_db_query', 'args': {'query': 'SELECT SUM(CASE WHEN \"Company\" = \\'AAPL\\' AND \"Year\" >=2019 AND \"Year\" <=2023 THEN \"Gross Profit\" ELSE 0 END) AS AAPL_Gross_Profit, SUM(CASE WHEN \"Company\" = \\'AMZN\\' AND \"Year\" >=2019 AND \"Year\" <=2023 THEN \"Gross Profit\" ELSE 0 END) AS AMZN_Gross_Profit FROM financial_statements'}, 'id': 'call_pv64', 'type': 'tool_call'}], usage_metadata={'input_tokens': 3017, 'output_tokens': 107, 'total_tokens': 3124})]}}\n",
            "----\n",
            "{'tools': {'messages': [ToolMessage(content='[(526966.0, 690373.0)]', name='sql_db_query', id='4a103afc-647f-48c3-bb42-e382d0c497d1', tool_call_id='call_pv64')]}}\n",
            "----\n",
            "{'agent': {'messages': [AIMessage(content='ผลรวมกำไรขั้นต้นของบริษัท AAPL5 ปีย้อนหลัง (ตั้งแต่ปี2019-2023) อยู่ที่ 526966.0 และผลรวมกำไรขั้นต้นของบริษัท AMZN5 ปีย้อนหลัง (ตั้งแต่ปี2019-2023) อยู่ที่ 690373.0 \\n\\nผลรวมกำไรขั้นต้นของบริษัท AAPL5 ปีย้อนหลัง (ตั้งแต่ปี2019-2023) น้อยกว่า ผลรวมกำไรขั้นต้นของบริษัท AMZN5 ปีย้อนหลัง (ตั้งแต่ปี2019-2023) \\n\\nคำตอบคือ False', additional_kwargs={}, response_metadata={'token_usage': {'completion_tokens': 121, 'prompt_tokens': 3143, 'total_tokens': 3264, 'completion_time': 0.268686709, 'prompt_time': 0.114888285, 'queue_time': 0.22783539299999997, 'total_time': 0.383574994}, 'model_name': 'meta-llama/llama-4-scout-17b-16e-instruct', 'system_fingerprint': 'fp_42ae451038', 'finish_reason': 'stop', 'logprobs': None}, id='run-54dc7991-fafc-45d7-987d-7f5bfde3edd2-0', usage_metadata={'input_tokens': 3143, 'output_tokens': 121, 'total_tokens': 3264})]}}\n",
            "----\n"
          ]
        }
      ],
      "source": [
        "\n",
        "\n",
        "for s in agent_executor.stream(\n",
        "    {\"messages\": [HumanMessage(content=\"ผลรวมกำไรขั้นต้นของบริษัท AAPL 5 ปีย้อนหลัง (ตั้งแต่ปี 2019-2023) มากกว่า ผลรวมกำไรขั้นต้นของบริษัท AMZN 5 ปีย้อนหลัง (ตั้งแต่ปี 2019-2023) หรือไม่ กรุณาตอบเป็น 'True' หรือ 'False'\")]}\n",
        "):\n",
        "    print(s)\n",
        "    print(\"----\")"
      ]
    },
    {
      "cell_type": "code",
      "execution_count": null,
      "metadata": {
        "colab": {
          "base_uri": "https://localhost:8080/",
          "height": 69
        },
        "id": "2vGxEiSQUCJ2",
        "outputId": "82c66e6f-c6d1-4616-954e-8e87fdcfdf12"
      },
      "outputs": [
        {
          "data": {
            "application/vnd.google.colaboratory.intrinsic+json": {
              "type": "string"
            },
            "text/plain": [
              "'ผลรวมกำไรขั้นต้นของบริษัท AAPL5 ปีย้อนหลัง (ตั้งแต่ปี2019-2023) อยู่ที่ 526966.0 และผลรวมกำไรขั้นต้นของบริษัท AMZN5 ปีย้อนหลัง (ตั้งแต่ปี2019-2023) อยู่ที่ 690373.0 \\n\\nผลรวมกำไรขั้นต้นของบริษัท AAPL5 ปีย้อนหลัง (ตั้งแต่ปี2019-2023) น้อยกว่า ผลรวมกำไรขั้นต้นของบริษัท AMZN5 ปีย้อนหลัง (ตั้งแต่ปี2019-2023) \\n\\nคำตอบคือ False'"
            ]
          },
          "execution_count": 69,
          "metadata": {},
          "output_type": "execute_result"
        }
      ],
      "source": [
        "s['agent']['messages'][0].content"
      ]
    },
    {
      "cell_type": "code",
      "execution_count": null,
      "metadata": {
        "id": "KldaGKaNUFvc"
      },
      "outputs": [],
      "source": []
    }
  ],
  "metadata": {
    "colab": {
      "provenance": [],
      "include_colab_link": true
    },
    "kernelspec": {
      "display_name": "Python 3",
      "name": "python3"
    },
    "language_info": {
      "name": "python"
    }
  },
  "nbformat": 4,
  "nbformat_minor": 0
}