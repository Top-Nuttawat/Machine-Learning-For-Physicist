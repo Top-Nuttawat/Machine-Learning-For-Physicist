{
  "cells": [
    {
      "cell_type": "markdown",
      "metadata": {
        "id": "XfvUGzgYlHES"
      },
      "source": [
        "# Author's Notes\n",
        "\n",
        "May 2021 Update: We now generate tab-delimited files (TSVs) for each clustering algo. You can load the first three dimensions along with the labels in [Tensorboard Projector](https://projector.tensorflow.org) to visualize the group segmentation in 3-D space.\n",
        "\n",
        "From [Hands-on Unsupervised Learning using Python](https://amzn.to/2tVABNx) - Chapter 6 - Group Segmentation"
      ]
    },
    {
      "cell_type": "markdown",
      "metadata": {
        "id": "mFLRgf38laYc"
      },
      "source": [
        "# Google Colab Setup\n",
        "**Only for users on Google Colab**"
      ]
    },
    {
      "cell_type": "code",
      "execution_count": 1,
      "metadata": {
        "colab": {
          "base_uri": "https://localhost:8080/"
        },
        "id": "oFpjRFSSlfuu",
        "outputId": "3dd7a4d1-af9d-4da1-a6da-e4fe28e1a504"
      },
      "outputs": [
        {
          "name": "stdout",
          "output_type": "stream",
          "text": [
            "Mounted at /content/drive\n",
            "Original path:  /content\n",
            "New path:  /content/drive/My Drive/github/handson-unsupervised-learning-master\n"
          ]
        }
      ],
      "source": [
        "# Define functions to connect to Google and change directories\n",
        "def connectDrive():\n",
        "    from google.colab import drive\n",
        "    drive.mount('/content/drive', force_remount=True)\n",
        "\n",
        "def changeDirectory(path):\n",
        "    import os\n",
        "    original_path = os.getcwd()\n",
        "    os.chdir(path)\n",
        "    new_path = os.getcwd()\n",
        "    print(\"Original path: \",original_path)\n",
        "    print(\"New path: \",new_path)\n",
        "\n",
        "# Connect to Google Drive\n",
        "connectDrive()\n",
        "\n",
        "# Change path\n",
        "changeDirectory(\"/content/drive/My Drive/github/handson-unsupervised-learning-master/\")"
      ]
    },
    {
      "cell_type": "code",
      "execution_count": 2,
      "metadata": {
        "colab": {
          "base_uri": "https://localhost:8080/"
        },
        "id": "eYZ9MHgHmPYl",
        "outputId": "5970ddb9-b00b-400f-f0d9-caec03fb723f"
      },
      "outputs": [
        {
          "name": "stdout",
          "output_type": "stream",
          "text": [
            "Requirement already satisfied: fastcluster==1.1.26 in /usr/local/lib/python3.7/dist-packages (1.1.26)\n",
            "Requirement already satisfied: numpy>=1.9 in /usr/local/lib/python3.7/dist-packages (from fastcluster==1.1.26) (1.21.6)\n",
            "Requirement already satisfied: hdbscan==0.8.27 in /usr/local/lib/python3.7/dist-packages (0.8.27)\n",
            "Requirement already satisfied: scipy>=1.0 in /usr/local/lib/python3.7/dist-packages (from hdbscan==0.8.27) (1.4.1)\n",
            "Requirement already satisfied: numpy>=1.16 in /usr/local/lib/python3.7/dist-packages (from hdbscan==0.8.27) (1.21.6)\n",
            "Requirement already satisfied: six in /usr/local/lib/python3.7/dist-packages (from hdbscan==0.8.27) (1.15.0)\n",
            "Requirement already satisfied: cython>=0.27 in /usr/local/lib/python3.7/dist-packages (from hdbscan==0.8.27) (0.29.28)\n",
            "Requirement already satisfied: joblib>=1.0 in /usr/local/lib/python3.7/dist-packages (from hdbscan==0.8.27) (1.1.0)\n",
            "Requirement already satisfied: scikit-learn>=0.20 in /usr/local/lib/python3.7/dist-packages (from hdbscan==0.8.27) (1.0.2)\n",
            "Requirement already satisfied: threadpoolctl>=2.0.0 in /usr/local/lib/python3.7/dist-packages (from scikit-learn>=0.20->hdbscan==0.8.27) (3.1.0)\n"
          ]
        }
      ],
      "source": [
        "# Install additional libraries\n",
        "!pip install fastcluster==1.1.26\n",
        "!pip install hdbscan==0.8.27"
      ]
    },
    {
      "cell_type": "markdown",
      "metadata": {
        "id": "lr3tDheV7kLT"
      },
      "source": [
        "# Import Libraries"
      ]
    },
    {
      "cell_type": "code",
      "execution_count": 3,
      "metadata": {
        "id": "q__4Yz54ze5u"
      },
      "outputs": [],
      "source": [
        "# Import libraries\n",
        "'''Main'''\n",
        "import numpy as np\n",
        "import pandas as pd\n",
        "import os, time, re\n",
        "import pickle, gzip\n",
        "\n",
        "'''Data Viz'''\n",
        "import matplotlib.pyplot as plt\n",
        "import matplotlib as mpl\n",
        "import seaborn as sns\n",
        "color = sns.color_palette()\n",
        "%matplotlib inline\n",
        "\n",
        "'''Data Prep and Model Evaluation'''\n",
        "from sklearn import preprocessing as pp\n",
        "from sklearn import impute\n",
        "from sklearn.model_selection import train_test_split \n",
        "from sklearn.metrics import precision_recall_curve, average_precision_score\n",
        "from sklearn.metrics import roc_curve, auc, roc_auc_score\n",
        "\n",
        "'''Algorithms'''\n",
        "from sklearn.decomposition import PCA\n",
        "from sklearn.cluster import KMeans\n",
        "import fastcluster\n",
        "from scipy.cluster.hierarchy import dendrogram, cophenet, fcluster\n",
        "from scipy.spatial.distance import pdist"
      ]
    },
    {
      "cell_type": "markdown",
      "metadata": {
        "id": "4L-vERlz71z_"
      },
      "source": [
        "# Load & Prepare Data"
      ]
    },
    {
      "cell_type": "code",
      "execution_count": 4,
      "metadata": {
        "id": "olW8GFXvze5z"
      },
      "outputs": [],
      "source": [
        "# Load the data\n",
        "current_path = os.getcwd()\n",
        "file = os.path.sep.join(['', 'datasets', 'lending_club_data', 'LoanStats3a.csv'])\n",
        "data = pd.read_csv(current_path + file, low_memory=False)"
      ]
    },
    {
      "cell_type": "code",
      "execution_count": 5,
      "metadata": {
        "id": "GoFPxME2ze50"
      },
      "outputs": [],
      "source": [
        "# Select columns to keep\n",
        "columnsToKeep = ['loan_amnt','funded_amnt','funded_amnt_inv','term', \\\n",
        "                 'int_rate','installment','grade','sub_grade', \\\n",
        "                 'emp_length','home_ownership','annual_inc', \\\n",
        "                 'verification_status','pymnt_plan','purpose', \\\n",
        "                 'addr_state','dti','delinq_2yrs','earliest_cr_line', \\\n",
        "                 'mths_since_last_delinq','mths_since_last_record', \\\n",
        "                 'open_acc','pub_rec','revol_bal','revol_util', \\\n",
        "                 'total_acc','initial_list_status','out_prncp', \\\n",
        "                 'out_prncp_inv','total_pymnt','total_pymnt_inv', \\\n",
        "                 'total_rec_prncp','total_rec_int','total_rec_late_fee', \\\n",
        "                 'recoveries','collection_recovery_fee','last_pymnt_d', \\\n",
        "                 'last_pymnt_amnt']\n",
        "\n",
        "data = data.loc[:,columnsToKeep]"
      ]
    },
    {
      "cell_type": "code",
      "execution_count": 6,
      "metadata": {
        "colab": {
          "base_uri": "https://localhost:8080/"
        },
        "id": "D-VkWTYeze50",
        "outputId": "55918727-3f89-4977-bef1-7af00ccbe22c"
      },
      "outputs": [
        {
          "data": {
            "text/plain": [
              "(42542, 37)"
            ]
          },
          "execution_count": 6,
          "metadata": {},
          "output_type": "execute_result"
        }
      ],
      "source": [
        "# View shape\n",
        "data.shape"
      ]
    },
    {
      "cell_type": "code",
      "execution_count": 7,
      "metadata": {
        "colab": {
          "base_uri": "https://localhost:8080/",
          "height": 386
        },
        "id": "iKjQX3vjze51",
        "outputId": "62d8307e-f169-4a63-bd09-e663ebd0d29c"
      },
      "outputs": [
        {
          "data": {
            "text/html": [
              "\n",
              "  <div id=\"df-c7e0032c-13af-43e9-92dd-810317ec0483\">\n",
              "    <div class=\"colab-df-container\">\n",
              "      <div>\n",
              "<style scoped>\n",
              "    .dataframe tbody tr th:only-of-type {\n",
              "        vertical-align: middle;\n",
              "    }\n",
              "\n",
              "    .dataframe tbody tr th {\n",
              "        vertical-align: top;\n",
              "    }\n",
              "\n",
              "    .dataframe thead th {\n",
              "        text-align: right;\n",
              "    }\n",
              "</style>\n",
              "<table border=\"1\" class=\"dataframe\">\n",
              "  <thead>\n",
              "    <tr style=\"text-align: right;\">\n",
              "      <th></th>\n",
              "      <th>loan_amnt</th>\n",
              "      <th>funded_amnt</th>\n",
              "      <th>funded_amnt_inv</th>\n",
              "      <th>term</th>\n",
              "      <th>int_rate</th>\n",
              "      <th>installment</th>\n",
              "      <th>grade</th>\n",
              "      <th>sub_grade</th>\n",
              "      <th>emp_length</th>\n",
              "      <th>home_ownership</th>\n",
              "      <th>...</th>\n",
              "      <th>out_prncp_inv</th>\n",
              "      <th>total_pymnt</th>\n",
              "      <th>total_pymnt_inv</th>\n",
              "      <th>total_rec_prncp</th>\n",
              "      <th>total_rec_int</th>\n",
              "      <th>total_rec_late_fee</th>\n",
              "      <th>recoveries</th>\n",
              "      <th>collection_recovery_fee</th>\n",
              "      <th>last_pymnt_d</th>\n",
              "      <th>last_pymnt_amnt</th>\n",
              "    </tr>\n",
              "  </thead>\n",
              "  <tbody>\n",
              "    <tr>\n",
              "      <th>0</th>\n",
              "      <td>5000.0</td>\n",
              "      <td>5000.0</td>\n",
              "      <td>4975.0</td>\n",
              "      <td>36 months</td>\n",
              "      <td>10.65%</td>\n",
              "      <td>162.87</td>\n",
              "      <td>B</td>\n",
              "      <td>B2</td>\n",
              "      <td>10+ years</td>\n",
              "      <td>RENT</td>\n",
              "      <td>...</td>\n",
              "      <td>0.0</td>\n",
              "      <td>5863.155187</td>\n",
              "      <td>5833.84</td>\n",
              "      <td>5000.00</td>\n",
              "      <td>863.16</td>\n",
              "      <td>0.00</td>\n",
              "      <td>0.0</td>\n",
              "      <td>0.00</td>\n",
              "      <td>Jan-15</td>\n",
              "      <td>171.62</td>\n",
              "    </tr>\n",
              "    <tr>\n",
              "      <th>1</th>\n",
              "      <td>2500.0</td>\n",
              "      <td>2500.0</td>\n",
              "      <td>2500.0</td>\n",
              "      <td>60 months</td>\n",
              "      <td>15.27%</td>\n",
              "      <td>59.83</td>\n",
              "      <td>C</td>\n",
              "      <td>C4</td>\n",
              "      <td>&lt; 1 year</td>\n",
              "      <td>RENT</td>\n",
              "      <td>...</td>\n",
              "      <td>0.0</td>\n",
              "      <td>1014.530000</td>\n",
              "      <td>1014.53</td>\n",
              "      <td>456.46</td>\n",
              "      <td>435.17</td>\n",
              "      <td>0.00</td>\n",
              "      <td>122.9</td>\n",
              "      <td>1.11</td>\n",
              "      <td>Apr-13</td>\n",
              "      <td>119.66</td>\n",
              "    </tr>\n",
              "    <tr>\n",
              "      <th>2</th>\n",
              "      <td>2400.0</td>\n",
              "      <td>2400.0</td>\n",
              "      <td>2400.0</td>\n",
              "      <td>36 months</td>\n",
              "      <td>15.96%</td>\n",
              "      <td>84.33</td>\n",
              "      <td>C</td>\n",
              "      <td>C5</td>\n",
              "      <td>10+ years</td>\n",
              "      <td>RENT</td>\n",
              "      <td>...</td>\n",
              "      <td>0.0</td>\n",
              "      <td>3005.666844</td>\n",
              "      <td>3005.67</td>\n",
              "      <td>2400.00</td>\n",
              "      <td>605.67</td>\n",
              "      <td>0.00</td>\n",
              "      <td>0.0</td>\n",
              "      <td>0.00</td>\n",
              "      <td>Jun-14</td>\n",
              "      <td>649.91</td>\n",
              "    </tr>\n",
              "    <tr>\n",
              "      <th>3</th>\n",
              "      <td>10000.0</td>\n",
              "      <td>10000.0</td>\n",
              "      <td>10000.0</td>\n",
              "      <td>36 months</td>\n",
              "      <td>13.49%</td>\n",
              "      <td>339.31</td>\n",
              "      <td>C</td>\n",
              "      <td>C1</td>\n",
              "      <td>10+ years</td>\n",
              "      <td>RENT</td>\n",
              "      <td>...</td>\n",
              "      <td>0.0</td>\n",
              "      <td>12231.890000</td>\n",
              "      <td>12231.89</td>\n",
              "      <td>10000.00</td>\n",
              "      <td>2214.92</td>\n",
              "      <td>16.97</td>\n",
              "      <td>0.0</td>\n",
              "      <td>0.00</td>\n",
              "      <td>Jan-15</td>\n",
              "      <td>357.48</td>\n",
              "    </tr>\n",
              "    <tr>\n",
              "      <th>4</th>\n",
              "      <td>3000.0</td>\n",
              "      <td>3000.0</td>\n",
              "      <td>3000.0</td>\n",
              "      <td>60 months</td>\n",
              "      <td>12.69%</td>\n",
              "      <td>67.79</td>\n",
              "      <td>B</td>\n",
              "      <td>B5</td>\n",
              "      <td>1 year</td>\n",
              "      <td>RENT</td>\n",
              "      <td>...</td>\n",
              "      <td>0.0</td>\n",
              "      <td>4066.908161</td>\n",
              "      <td>4066.91</td>\n",
              "      <td>3000.00</td>\n",
              "      <td>1066.91</td>\n",
              "      <td>0.00</td>\n",
              "      <td>0.0</td>\n",
              "      <td>0.00</td>\n",
              "      <td>Jan-17</td>\n",
              "      <td>67.30</td>\n",
              "    </tr>\n",
              "  </tbody>\n",
              "</table>\n",
              "<p>5 rows × 37 columns</p>\n",
              "</div>\n",
              "      <button class=\"colab-df-convert\" onclick=\"convertToInteractive('df-c7e0032c-13af-43e9-92dd-810317ec0483')\"\n",
              "              title=\"Convert this dataframe to an interactive table.\"\n",
              "              style=\"display:none;\">\n",
              "        \n",
              "  <svg xmlns=\"http://www.w3.org/2000/svg\" height=\"24px\"viewBox=\"0 0 24 24\"\n",
              "       width=\"24px\">\n",
              "    <path d=\"M0 0h24v24H0V0z\" fill=\"none\"/>\n",
              "    <path d=\"M18.56 5.44l.94 2.06.94-2.06 2.06-.94-2.06-.94-.94-2.06-.94 2.06-2.06.94zm-11 1L8.5 8.5l.94-2.06 2.06-.94-2.06-.94L8.5 2.5l-.94 2.06-2.06.94zm10 10l.94 2.06.94-2.06 2.06-.94-2.06-.94-.94-2.06-.94 2.06-2.06.94z\"/><path d=\"M17.41 7.96l-1.37-1.37c-.4-.4-.92-.59-1.43-.59-.52 0-1.04.2-1.43.59L10.3 9.45l-7.72 7.72c-.78.78-.78 2.05 0 2.83L4 21.41c.39.39.9.59 1.41.59.51 0 1.02-.2 1.41-.59l7.78-7.78 2.81-2.81c.8-.78.8-2.07 0-2.86zM5.41 20L4 18.59l7.72-7.72 1.47 1.35L5.41 20z\"/>\n",
              "  </svg>\n",
              "      </button>\n",
              "      \n",
              "  <style>\n",
              "    .colab-df-container {\n",
              "      display:flex;\n",
              "      flex-wrap:wrap;\n",
              "      gap: 12px;\n",
              "    }\n",
              "\n",
              "    .colab-df-convert {\n",
              "      background-color: #E8F0FE;\n",
              "      border: none;\n",
              "      border-radius: 50%;\n",
              "      cursor: pointer;\n",
              "      display: none;\n",
              "      fill: #1967D2;\n",
              "      height: 32px;\n",
              "      padding: 0 0 0 0;\n",
              "      width: 32px;\n",
              "    }\n",
              "\n",
              "    .colab-df-convert:hover {\n",
              "      background-color: #E2EBFA;\n",
              "      box-shadow: 0px 1px 2px rgba(60, 64, 67, 0.3), 0px 1px 3px 1px rgba(60, 64, 67, 0.15);\n",
              "      fill: #174EA6;\n",
              "    }\n",
              "\n",
              "    [theme=dark] .colab-df-convert {\n",
              "      background-color: #3B4455;\n",
              "      fill: #D2E3FC;\n",
              "    }\n",
              "\n",
              "    [theme=dark] .colab-df-convert:hover {\n",
              "      background-color: #434B5C;\n",
              "      box-shadow: 0px 1px 3px 1px rgba(0, 0, 0, 0.15);\n",
              "      filter: drop-shadow(0px 1px 2px rgba(0, 0, 0, 0.3));\n",
              "      fill: #FFFFFF;\n",
              "    }\n",
              "  </style>\n",
              "\n",
              "      <script>\n",
              "        const buttonEl =\n",
              "          document.querySelector('#df-c7e0032c-13af-43e9-92dd-810317ec0483 button.colab-df-convert');\n",
              "        buttonEl.style.display =\n",
              "          google.colab.kernel.accessAllowed ? 'block' : 'none';\n",
              "\n",
              "        async function convertToInteractive(key) {\n",
              "          const element = document.querySelector('#df-c7e0032c-13af-43e9-92dd-810317ec0483');\n",
              "          const dataTable =\n",
              "            await google.colab.kernel.invokeFunction('convertToInteractive',\n",
              "                                                     [key], {});\n",
              "          if (!dataTable) return;\n",
              "\n",
              "          const docLinkHtml = 'Like what you see? Visit the ' +\n",
              "            '<a target=\"_blank\" href=https://colab.research.google.com/notebooks/data_table.ipynb>data table notebook</a>'\n",
              "            + ' to learn more about interactive tables.';\n",
              "          element.innerHTML = '';\n",
              "          dataTable['output_type'] = 'display_data';\n",
              "          await google.colab.output.renderOutput(dataTable, element);\n",
              "          const docLink = document.createElement('div');\n",
              "          docLink.innerHTML = docLinkHtml;\n",
              "          element.appendChild(docLink);\n",
              "        }\n",
              "      </script>\n",
              "    </div>\n",
              "  </div>\n",
              "  "
            ],
            "text/plain": [
              "   loan_amnt  funded_amnt  funded_amnt_inv        term int_rate  installment  \\\n",
              "0     5000.0       5000.0           4975.0   36 months   10.65%       162.87   \n",
              "1     2500.0       2500.0           2500.0   60 months   15.27%        59.83   \n",
              "2     2400.0       2400.0           2400.0   36 months   15.96%        84.33   \n",
              "3    10000.0      10000.0          10000.0   36 months   13.49%       339.31   \n",
              "4     3000.0       3000.0           3000.0   60 months   12.69%        67.79   \n",
              "\n",
              "  grade sub_grade emp_length home_ownership  ...  out_prncp_inv   total_pymnt  \\\n",
              "0     B        B2  10+ years           RENT  ...            0.0   5863.155187   \n",
              "1     C        C4   < 1 year           RENT  ...            0.0   1014.530000   \n",
              "2     C        C5  10+ years           RENT  ...            0.0   3005.666844   \n",
              "3     C        C1  10+ years           RENT  ...            0.0  12231.890000   \n",
              "4     B        B5     1 year           RENT  ...            0.0   4066.908161   \n",
              "\n",
              "  total_pymnt_inv total_rec_prncp total_rec_int  total_rec_late_fee  \\\n",
              "0         5833.84         5000.00        863.16                0.00   \n",
              "1         1014.53          456.46        435.17                0.00   \n",
              "2         3005.67         2400.00        605.67                0.00   \n",
              "3        12231.89        10000.00       2214.92               16.97   \n",
              "4         4066.91         3000.00       1066.91                0.00   \n",
              "\n",
              "   recoveries collection_recovery_fee  last_pymnt_d  last_pymnt_amnt  \n",
              "0         0.0                    0.00        Jan-15           171.62  \n",
              "1       122.9                    1.11        Apr-13           119.66  \n",
              "2         0.0                    0.00        Jun-14           649.91  \n",
              "3         0.0                    0.00        Jan-15           357.48  \n",
              "4         0.0                    0.00        Jan-17            67.30  \n",
              "\n",
              "[5 rows x 37 columns]"
            ]
          },
          "execution_count": 7,
          "metadata": {},
          "output_type": "execute_result"
        }
      ],
      "source": [
        "# Preview data\n",
        "data.head()"
      ]
    },
    {
      "cell_type": "code",
      "execution_count": 8,
      "metadata": {
        "id": "U1Gw2o42ze51"
      },
      "outputs": [],
      "source": [
        "# Transform features from string to numeric\n",
        "for i in [\"term\",\"int_rate\",\"emp_length\",\"revol_util\"]:\n",
        "    data.loc[:,i] = \\\n",
        "        data.loc[:,i].apply(lambda x: re.sub(\"[^0-9]\", \"\", str(x)))\n",
        "    data.loc[:,i] = pd.to_numeric(data.loc[:,i])"
      ]
    },
    {
      "cell_type": "code",
      "execution_count": 9,
      "metadata": {
        "id": "_7LbVdq3ze51"
      },
      "outputs": [],
      "source": [
        "# Determine which features are numerical\n",
        "numericalFeats = [x for x in data.columns if data[x].dtype != 'object']"
      ]
    },
    {
      "cell_type": "code",
      "execution_count": 10,
      "metadata": {
        "colab": {
          "base_uri": "https://localhost:8080/"
        },
        "id": "hDJSu02Eze52",
        "outputId": "3e5b8753-e5bc-482d-83e4-ebd56ed07636"
      },
      "outputs": [
        {
          "data": {
            "text/plain": [
              "loan_amnt                      7\n",
              "funded_amnt                    7\n",
              "funded_amnt_inv                7\n",
              "term                           7\n",
              "int_rate                       7\n",
              "installment                    7\n",
              "emp_length                  1119\n",
              "annual_inc                    11\n",
              "dti                            7\n",
              "delinq_2yrs                   36\n",
              "mths_since_last_delinq     26933\n",
              "mths_since_last_record     38891\n",
              "open_acc                      36\n",
              "pub_rec                       36\n",
              "revol_bal                      7\n",
              "revol_util                    97\n",
              "total_acc                     36\n",
              "out_prncp                      7\n",
              "out_prncp_inv                  7\n",
              "total_pymnt                    7\n",
              "total_pymnt_inv                7\n",
              "total_rec_prncp                7\n",
              "total_rec_int                  7\n",
              "total_rec_late_fee             7\n",
              "recoveries                     7\n",
              "collection_recovery_fee        7\n",
              "last_pymnt_amnt                7\n",
              "dtype: int64"
            ]
          },
          "execution_count": 10,
          "metadata": {},
          "output_type": "execute_result"
        }
      ],
      "source": [
        "# Display NaNs by feature\n",
        "nanCounter = np.isnan(data.loc[:,numericalFeats]).sum()\n",
        "nanCounter"
      ]
    },
    {
      "cell_type": "code",
      "execution_count": 11,
      "metadata": {
        "id": "ryzrINVuze52"
      },
      "outputs": [],
      "source": [
        "# Impute NaNs with mean \n",
        "fillWithMean = ['loan_amnt','funded_amnt','funded_amnt_inv','term', \\\n",
        "                'int_rate','installment','emp_length','annual_inc',\\\n",
        "                'dti','open_acc','revol_bal','revol_util','total_acc',\\\n",
        "                'out_prncp','out_prncp_inv','total_pymnt', \\\n",
        "                'total_pymnt_inv','total_rec_prncp','total_rec_int', \\\n",
        "                'last_pymnt_amnt']\n",
        "\n",
        "# Impute NaNs with zero\n",
        "fillWithZero = ['delinq_2yrs','mths_since_last_delinq', \\\n",
        "                'mths_since_last_record','pub_rec','total_rec_late_fee', \\\n",
        "                'recoveries','collection_recovery_fee']\n",
        "\n",
        "# Perform imputation\n",
        "im = impute.SimpleImputer(strategy='mean')   \n",
        "data.loc[:,fillWithMean] = im.fit_transform(data[fillWithMean])\n",
        "\n",
        "data.loc[:,fillWithZero] = data.loc[:,fillWithZero].fillna(value=0,axis=1)"
      ]
    },
    {
      "cell_type": "code",
      "execution_count": 12,
      "metadata": {
        "colab": {
          "base_uri": "https://localhost:8080/"
        },
        "id": "P0aHHMMAze52",
        "outputId": "71ad614c-cf70-48b8-b1ec-e38c69534134"
      },
      "outputs": [
        {
          "data": {
            "text/plain": [
              "loan_amnt                  0\n",
              "funded_amnt                0\n",
              "funded_amnt_inv            0\n",
              "term                       0\n",
              "int_rate                   0\n",
              "installment                0\n",
              "emp_length                 0\n",
              "annual_inc                 0\n",
              "dti                        0\n",
              "delinq_2yrs                0\n",
              "mths_since_last_delinq     0\n",
              "mths_since_last_record     0\n",
              "open_acc                   0\n",
              "pub_rec                    0\n",
              "revol_bal                  0\n",
              "revol_util                 0\n",
              "total_acc                  0\n",
              "out_prncp                  0\n",
              "out_prncp_inv              0\n",
              "total_pymnt                0\n",
              "total_pymnt_inv            0\n",
              "total_rec_prncp            0\n",
              "total_rec_int              0\n",
              "total_rec_late_fee         0\n",
              "recoveries                 0\n",
              "collection_recovery_fee    0\n",
              "last_pymnt_amnt            0\n",
              "dtype: int64"
            ]
          },
          "execution_count": 12,
          "metadata": {},
          "output_type": "execute_result"
        }
      ],
      "source": [
        "# Check for NaNs one last time\n",
        "nanCounter = np.isnan(data.loc[:,numericalFeats]).sum()\n",
        "nanCounter"
      ]
    },
    {
      "cell_type": "code",
      "execution_count": 13,
      "metadata": {
        "id": "h9Jqs5W0ze53"
      },
      "outputs": [],
      "source": [
        "# Feature engineering\n",
        "data['installmentOverLoanAmnt'] = data.installment/data.loan_amnt\n",
        "data['loanAmntOverIncome'] = data.loan_amnt/data.annual_inc\n",
        "data['revol_balOverIncome'] = data.revol_bal/data.annual_inc\n",
        "data['totalPymntOverIncome'] = data.total_pymnt/data.annual_inc\n",
        "data['totalPymntInvOverIncome'] = data.total_pymnt_inv/data.annual_inc\n",
        "data['totalRecPrncpOverIncome'] = data.total_rec_prncp/data.annual_inc\n",
        "data['totalRecIncOverIncome'] = data.total_rec_int/data.annual_inc\n",
        "\n",
        "newFeats = ['installmentOverLoanAmnt','loanAmntOverIncome', \\\n",
        "            'revol_balOverIncome','totalPymntOverIncome', \\\n",
        "           'totalPymntInvOverIncome','totalRecPrncpOverIncome', \\\n",
        "            'totalRecIncOverIncome']"
      ]
    },
    {
      "cell_type": "code",
      "execution_count": 14,
      "metadata": {
        "id": "HM6AkTfpze53"
      },
      "outputs": [],
      "source": [
        "# Select features for training\n",
        "numericalPlusNewFeats = numericalFeats+newFeats\n",
        "X_train = data.loc[:,numericalPlusNewFeats]\n",
        "\n",
        "# Scale data\n",
        "sX = pp.StandardScaler()\n",
        "X_train.loc[:,:] = sX.fit_transform(X_train)"
      ]
    },
    {
      "cell_type": "code",
      "execution_count": 15,
      "metadata": {
        "colab": {
          "base_uri": "https://localhost:8080/"
        },
        "id": "8Kk9iqCDze53",
        "outputId": "3a9b947d-8034-4459-ad41-ae7b8e0489e7"
      },
      "outputs": [
        {
          "data": {
            "text/plain": [
              "Index(['loan_amnt', 'funded_amnt', 'funded_amnt_inv', 'term', 'int_rate',\n",
              "       'installment', 'emp_length', 'annual_inc', 'dti', 'delinq_2yrs',\n",
              "       'mths_since_last_delinq', 'mths_since_last_record', 'open_acc',\n",
              "       'pub_rec', 'revol_bal', 'revol_util', 'total_acc', 'out_prncp',\n",
              "       'out_prncp_inv', 'total_pymnt', 'total_pymnt_inv', 'total_rec_prncp',\n",
              "       'total_rec_int', 'total_rec_late_fee', 'recoveries',\n",
              "       'collection_recovery_fee', 'last_pymnt_amnt', 'installmentOverLoanAmnt',\n",
              "       'loanAmntOverIncome', 'revol_balOverIncome', 'totalPymntOverIncome',\n",
              "       'totalPymntInvOverIncome', 'totalRecPrncpOverIncome',\n",
              "       'totalRecIncOverIncome'],\n",
              "      dtype='object')"
            ]
          },
          "execution_count": 15,
          "metadata": {},
          "output_type": "execute_result"
        }
      ],
      "source": [
        "# View columns\n",
        "X_train.columns"
      ]
    },
    {
      "cell_type": "code",
      "execution_count": 16,
      "metadata": {
        "colab": {
          "base_uri": "https://localhost:8080/"
        },
        "id": "FQRBTlLUze53",
        "outputId": "796dd54a-a225-4bef-e7f6-7edcd3dcce8a"
      },
      "outputs": [
        {
          "data": {
            "text/plain": [
              "array(['B', 'C', 'A', 'E', 'F', 'D', 'G', nan], dtype=object)"
            ]
          },
          "execution_count": 16,
          "metadata": {},
          "output_type": "execute_result"
        }
      ],
      "source": [
        "# Designate labels for evaluation\n",
        "labels = data.grade\n",
        "labels.unique()"
      ]
    },
    {
      "cell_type": "code",
      "execution_count": 17,
      "metadata": {
        "id": "_dPkgMW2ze54"
      },
      "outputs": [],
      "source": [
        "# Fill missing labels\n",
        "labels = labels.fillna(value=\"Z\")\n",
        "\n",
        "# Convert labels to numerical values\n",
        "lbl = pp.LabelEncoder()\n",
        "lbl.fit(list(labels.values))\n",
        "labels = pd.Series(data=lbl.transform(labels.values), name=\"grade\")\n",
        "\n",
        "# Store as y_train\n",
        "y_train = labels"
      ]
    },
    {
      "cell_type": "code",
      "execution_count": 18,
      "metadata": {
        "colab": {
          "base_uri": "https://localhost:8080/",
          "height": 423
        },
        "id": "pXPAXk_Sze54",
        "outputId": "3ecfa744-a44f-4024-a4d8-ba5a480071a0",
        "scrolled": true
      },
      "outputs": [
        {
          "data": {
            "text/html": [
              "\n",
              "  <div id=\"df-c82f5ba4-9819-45df-bb5a-a4647ce11d43\">\n",
              "    <div class=\"colab-df-container\">\n",
              "      <div>\n",
              "<style scoped>\n",
              "    .dataframe tbody tr th:only-of-type {\n",
              "        vertical-align: middle;\n",
              "    }\n",
              "\n",
              "    .dataframe tbody tr th {\n",
              "        vertical-align: top;\n",
              "    }\n",
              "\n",
              "    .dataframe thead th {\n",
              "        text-align: right;\n",
              "    }\n",
              "</style>\n",
              "<table border=\"1\" class=\"dataframe\">\n",
              "  <thead>\n",
              "    <tr style=\"text-align: right;\">\n",
              "      <th></th>\n",
              "      <th>grade</th>\n",
              "      <th>grade</th>\n",
              "    </tr>\n",
              "  </thead>\n",
              "  <tbody>\n",
              "    <tr>\n",
              "      <th>0</th>\n",
              "      <td>1</td>\n",
              "      <td>B</td>\n",
              "    </tr>\n",
              "    <tr>\n",
              "      <th>1</th>\n",
              "      <td>2</td>\n",
              "      <td>C</td>\n",
              "    </tr>\n",
              "    <tr>\n",
              "      <th>2</th>\n",
              "      <td>2</td>\n",
              "      <td>C</td>\n",
              "    </tr>\n",
              "    <tr>\n",
              "      <th>3</th>\n",
              "      <td>2</td>\n",
              "      <td>C</td>\n",
              "    </tr>\n",
              "    <tr>\n",
              "      <th>4</th>\n",
              "      <td>1</td>\n",
              "      <td>B</td>\n",
              "    </tr>\n",
              "    <tr>\n",
              "      <th>...</th>\n",
              "      <td>...</td>\n",
              "      <td>...</td>\n",
              "    </tr>\n",
              "    <tr>\n",
              "      <th>42537</th>\n",
              "      <td>0</td>\n",
              "      <td>A</td>\n",
              "    </tr>\n",
              "    <tr>\n",
              "      <th>42538</th>\n",
              "      <td>7</td>\n",
              "      <td>NaN</td>\n",
              "    </tr>\n",
              "    <tr>\n",
              "      <th>42539</th>\n",
              "      <td>7</td>\n",
              "      <td>NaN</td>\n",
              "    </tr>\n",
              "    <tr>\n",
              "      <th>42540</th>\n",
              "      <td>7</td>\n",
              "      <td>NaN</td>\n",
              "    </tr>\n",
              "    <tr>\n",
              "      <th>42541</th>\n",
              "      <td>7</td>\n",
              "      <td>NaN</td>\n",
              "    </tr>\n",
              "  </tbody>\n",
              "</table>\n",
              "<p>42542 rows × 2 columns</p>\n",
              "</div>\n",
              "      <button class=\"colab-df-convert\" onclick=\"convertToInteractive('df-c82f5ba4-9819-45df-bb5a-a4647ce11d43')\"\n",
              "              title=\"Convert this dataframe to an interactive table.\"\n",
              "              style=\"display:none;\">\n",
              "        \n",
              "  <svg xmlns=\"http://www.w3.org/2000/svg\" height=\"24px\"viewBox=\"0 0 24 24\"\n",
              "       width=\"24px\">\n",
              "    <path d=\"M0 0h24v24H0V0z\" fill=\"none\"/>\n",
              "    <path d=\"M18.56 5.44l.94 2.06.94-2.06 2.06-.94-2.06-.94-.94-2.06-.94 2.06-2.06.94zm-11 1L8.5 8.5l.94-2.06 2.06-.94-2.06-.94L8.5 2.5l-.94 2.06-2.06.94zm10 10l.94 2.06.94-2.06 2.06-.94-2.06-.94-.94-2.06-.94 2.06-2.06.94z\"/><path d=\"M17.41 7.96l-1.37-1.37c-.4-.4-.92-.59-1.43-.59-.52 0-1.04.2-1.43.59L10.3 9.45l-7.72 7.72c-.78.78-.78 2.05 0 2.83L4 21.41c.39.39.9.59 1.41.59.51 0 1.02-.2 1.41-.59l7.78-7.78 2.81-2.81c.8-.78.8-2.07 0-2.86zM5.41 20L4 18.59l7.72-7.72 1.47 1.35L5.41 20z\"/>\n",
              "  </svg>\n",
              "      </button>\n",
              "      \n",
              "  <style>\n",
              "    .colab-df-container {\n",
              "      display:flex;\n",
              "      flex-wrap:wrap;\n",
              "      gap: 12px;\n",
              "    }\n",
              "\n",
              "    .colab-df-convert {\n",
              "      background-color: #E8F0FE;\n",
              "      border: none;\n",
              "      border-radius: 50%;\n",
              "      cursor: pointer;\n",
              "      display: none;\n",
              "      fill: #1967D2;\n",
              "      height: 32px;\n",
              "      padding: 0 0 0 0;\n",
              "      width: 32px;\n",
              "    }\n",
              "\n",
              "    .colab-df-convert:hover {\n",
              "      background-color: #E2EBFA;\n",
              "      box-shadow: 0px 1px 2px rgba(60, 64, 67, 0.3), 0px 1px 3px 1px rgba(60, 64, 67, 0.15);\n",
              "      fill: #174EA6;\n",
              "    }\n",
              "\n",
              "    [theme=dark] .colab-df-convert {\n",
              "      background-color: #3B4455;\n",
              "      fill: #D2E3FC;\n",
              "    }\n",
              "\n",
              "    [theme=dark] .colab-df-convert:hover {\n",
              "      background-color: #434B5C;\n",
              "      box-shadow: 0px 1px 3px 1px rgba(0, 0, 0, 0.15);\n",
              "      filter: drop-shadow(0px 1px 2px rgba(0, 0, 0, 0.3));\n",
              "      fill: #FFFFFF;\n",
              "    }\n",
              "  </style>\n",
              "\n",
              "      <script>\n",
              "        const buttonEl =\n",
              "          document.querySelector('#df-c82f5ba4-9819-45df-bb5a-a4647ce11d43 button.colab-df-convert');\n",
              "        buttonEl.style.display =\n",
              "          google.colab.kernel.accessAllowed ? 'block' : 'none';\n",
              "\n",
              "        async function convertToInteractive(key) {\n",
              "          const element = document.querySelector('#df-c82f5ba4-9819-45df-bb5a-a4647ce11d43');\n",
              "          const dataTable =\n",
              "            await google.colab.kernel.invokeFunction('convertToInteractive',\n",
              "                                                     [key], {});\n",
              "          if (!dataTable) return;\n",
              "\n",
              "          const docLinkHtml = 'Like what you see? Visit the ' +\n",
              "            '<a target=\"_blank\" href=https://colab.research.google.com/notebooks/data_table.ipynb>data table notebook</a>'\n",
              "            + ' to learn more about interactive tables.';\n",
              "          element.innerHTML = '';\n",
              "          dataTable['output_type'] = 'display_data';\n",
              "          await google.colab.output.renderOutput(dataTable, element);\n",
              "          const docLink = document.createElement('div');\n",
              "          docLink.innerHTML = docLinkHtml;\n",
              "          element.appendChild(docLink);\n",
              "        }\n",
              "      </script>\n",
              "    </div>\n",
              "  </div>\n",
              "  "
            ],
            "text/plain": [
              "      grade grade\n",
              "0         1     B\n",
              "1         2     C\n",
              "2         2     C\n",
              "3         2     C\n",
              "4         1     B\n",
              "...     ...   ...\n",
              "42537     0     A\n",
              "42538     7   NaN\n",
              "42539     7   NaN\n",
              "42540     7   NaN\n",
              "42541     7   NaN\n",
              "\n",
              "[42542 rows x 2 columns]"
            ]
          },
          "execution_count": 18,
          "metadata": {},
          "output_type": "execute_result"
        }
      ],
      "source": [
        "# Show numerical labels\n",
        "labelsOriginalVSNew = pd.concat([labels, data.grade],axis=1)\n",
        "labelsOriginalVSNew"
      ]
    },
    {
      "cell_type": "code",
      "execution_count": 19,
      "metadata": {
        "colab": {
          "base_uri": "https://localhost:8080/",
          "height": 278
        },
        "id": "qGG74Ub5ze54",
        "outputId": "72e30d7e-5626-474f-f006-753138f8a74e"
      },
      "outputs": [
        {
          "data": {
            "text/html": [
              "\n",
              "  <div id=\"df-69968c5c-341f-46f1-abe6-5e44bbad1bb2\">\n",
              "    <div class=\"colab-df-container\">\n",
              "      <div>\n",
              "<style scoped>\n",
              "    .dataframe tbody tr th:only-of-type {\n",
              "        vertical-align: middle;\n",
              "    }\n",
              "\n",
              "    .dataframe tbody tr th {\n",
              "        vertical-align: top;\n",
              "    }\n",
              "\n",
              "    .dataframe thead th {\n",
              "        text-align: right;\n",
              "    }\n",
              "</style>\n",
              "<table border=\"1\" class=\"dataframe\">\n",
              "  <thead>\n",
              "    <tr style=\"text-align: right;\">\n",
              "      <th></th>\n",
              "      <th>int_rate</th>\n",
              "    </tr>\n",
              "    <tr>\n",
              "      <th>grade</th>\n",
              "      <th></th>\n",
              "    </tr>\n",
              "  </thead>\n",
              "  <tbody>\n",
              "    <tr>\n",
              "      <th>0.0</th>\n",
              "      <td>734.270844</td>\n",
              "    </tr>\n",
              "    <tr>\n",
              "      <th>1.0</th>\n",
              "      <td>1101.420857</td>\n",
              "    </tr>\n",
              "    <tr>\n",
              "      <th>2.0</th>\n",
              "      <td>1349.988902</td>\n",
              "    </tr>\n",
              "    <tr>\n",
              "      <th>3.0</th>\n",
              "      <td>1557.714927</td>\n",
              "    </tr>\n",
              "    <tr>\n",
              "      <th>4.0</th>\n",
              "      <td>1737.676783</td>\n",
              "    </tr>\n",
              "    <tr>\n",
              "      <th>5.0</th>\n",
              "      <td>1926.530361</td>\n",
              "    </tr>\n",
              "    <tr>\n",
              "      <th>6.0</th>\n",
              "      <td>2045.125000</td>\n",
              "    </tr>\n",
              "    <tr>\n",
              "      <th>7.0</th>\n",
              "      <td>1216.501563</td>\n",
              "    </tr>\n",
              "  </tbody>\n",
              "</table>\n",
              "</div>\n",
              "      <button class=\"colab-df-convert\" onclick=\"convertToInteractive('df-69968c5c-341f-46f1-abe6-5e44bbad1bb2')\"\n",
              "              title=\"Convert this dataframe to an interactive table.\"\n",
              "              style=\"display:none;\">\n",
              "        \n",
              "  <svg xmlns=\"http://www.w3.org/2000/svg\" height=\"24px\"viewBox=\"0 0 24 24\"\n",
              "       width=\"24px\">\n",
              "    <path d=\"M0 0h24v24H0V0z\" fill=\"none\"/>\n",
              "    <path d=\"M18.56 5.44l.94 2.06.94-2.06 2.06-.94-2.06-.94-.94-2.06-.94 2.06-2.06.94zm-11 1L8.5 8.5l.94-2.06 2.06-.94-2.06-.94L8.5 2.5l-.94 2.06-2.06.94zm10 10l.94 2.06.94-2.06 2.06-.94-2.06-.94-.94-2.06-.94 2.06-2.06.94z\"/><path d=\"M17.41 7.96l-1.37-1.37c-.4-.4-.92-.59-1.43-.59-.52 0-1.04.2-1.43.59L10.3 9.45l-7.72 7.72c-.78.78-.78 2.05 0 2.83L4 21.41c.39.39.9.59 1.41.59.51 0 1.02-.2 1.41-.59l7.78-7.78 2.81-2.81c.8-.78.8-2.07 0-2.86zM5.41 20L4 18.59l7.72-7.72 1.47 1.35L5.41 20z\"/>\n",
              "  </svg>\n",
              "      </button>\n",
              "      \n",
              "  <style>\n",
              "    .colab-df-container {\n",
              "      display:flex;\n",
              "      flex-wrap:wrap;\n",
              "      gap: 12px;\n",
              "    }\n",
              "\n",
              "    .colab-df-convert {\n",
              "      background-color: #E8F0FE;\n",
              "      border: none;\n",
              "      border-radius: 50%;\n",
              "      cursor: pointer;\n",
              "      display: none;\n",
              "      fill: #1967D2;\n",
              "      height: 32px;\n",
              "      padding: 0 0 0 0;\n",
              "      width: 32px;\n",
              "    }\n",
              "\n",
              "    .colab-df-convert:hover {\n",
              "      background-color: #E2EBFA;\n",
              "      box-shadow: 0px 1px 2px rgba(60, 64, 67, 0.3), 0px 1px 3px 1px rgba(60, 64, 67, 0.15);\n",
              "      fill: #174EA6;\n",
              "    }\n",
              "\n",
              "    [theme=dark] .colab-df-convert {\n",
              "      background-color: #3B4455;\n",
              "      fill: #D2E3FC;\n",
              "    }\n",
              "\n",
              "    [theme=dark] .colab-df-convert:hover {\n",
              "      background-color: #434B5C;\n",
              "      box-shadow: 0px 1px 3px 1px rgba(0, 0, 0, 0.15);\n",
              "      filter: drop-shadow(0px 1px 2px rgba(0, 0, 0, 0.3));\n",
              "      fill: #FFFFFF;\n",
              "    }\n",
              "  </style>\n",
              "\n",
              "      <script>\n",
              "        const buttonEl =\n",
              "          document.querySelector('#df-69968c5c-341f-46f1-abe6-5e44bbad1bb2 button.colab-df-convert');\n",
              "        buttonEl.style.display =\n",
              "          google.colab.kernel.accessAllowed ? 'block' : 'none';\n",
              "\n",
              "        async function convertToInteractive(key) {\n",
              "          const element = document.querySelector('#df-69968c5c-341f-46f1-abe6-5e44bbad1bb2');\n",
              "          const dataTable =\n",
              "            await google.colab.kernel.invokeFunction('convertToInteractive',\n",
              "                                                     [key], {});\n",
              "          if (!dataTable) return;\n",
              "\n",
              "          const docLinkHtml = 'Like what you see? Visit the ' +\n",
              "            '<a target=\"_blank\" href=https://colab.research.google.com/notebooks/data_table.ipynb>data table notebook</a>'\n",
              "            + ' to learn more about interactive tables.';\n",
              "          element.innerHTML = '';\n",
              "          dataTable['output_type'] = 'display_data';\n",
              "          await google.colab.output.renderOutput(dataTable, element);\n",
              "          const docLink = document.createElement('div');\n",
              "          docLink.innerHTML = docLinkHtml;\n",
              "          element.appendChild(docLink);\n",
              "        }\n",
              "      </script>\n",
              "    </div>\n",
              "  </div>\n",
              "  "
            ],
            "text/plain": [
              "          int_rate\n",
              "grade             \n",
              "0.0     734.270844\n",
              "1.0    1101.420857\n",
              "2.0    1349.988902\n",
              "3.0    1557.714927\n",
              "4.0    1737.676783\n",
              "5.0    1926.530361\n",
              "6.0    2045.125000\n",
              "7.0    1216.501563"
            ]
          },
          "execution_count": 19,
          "metadata": {},
          "output_type": "execute_result"
        }
      ],
      "source": [
        "# Compare loan grades with interest rates\n",
        "interestAndGrade = pd.DataFrame(data=[data.int_rate,labels])\n",
        "interestAndGrade = interestAndGrade.T\n",
        "\n",
        "interestAndGrade.groupby(\"grade\").mean()"
      ]
    },
    {
      "cell_type": "markdown",
      "metadata": {
        "id": "MeRb6W5P9pv1"
      },
      "source": [
        "# Define Function"
      ]
    },
    {
      "cell_type": "code",
      "execution_count": 20,
      "metadata": {
        "id": "gPJOcuM1ze55"
      },
      "outputs": [],
      "source": [
        "# To Analyze Goodness of the Clusters\n",
        "def analyzeCluster(clusterDF, labelsDF):\n",
        "    countByCluster = \\\n",
        "        pd.DataFrame(data=clusterDF['cluster'].value_counts())\n",
        "    countByCluster.reset_index(inplace=True,drop=False)\n",
        "    countByCluster.columns = ['cluster','clusterCount']\n",
        "        \n",
        "    preds = pd.concat([labelsDF,clusterDF], axis=1)\n",
        "    preds.columns = ['trueLabel','cluster']\n",
        "    \n",
        "    countByLabel = pd.DataFrame(data=preds.groupby('trueLabel').count())\n",
        "        \n",
        "    countMostFreq = pd.DataFrame(data=preds.groupby('cluster').agg( \\\n",
        "        lambda x:x.value_counts().iloc[0]))\n",
        "    countMostFreq.reset_index(inplace=True,drop=False)\n",
        "    countMostFreq.columns = ['cluster','countMostFrequent']\n",
        "    \n",
        "    accuracyDF = countMostFreq.merge(countByCluster, \\\n",
        "        left_on=\"cluster\",right_on=\"cluster\")\n",
        "    \n",
        "    overallAccuracy = accuracyDF.countMostFrequent.sum()/ \\\n",
        "        accuracyDF.clusterCount.sum()\n",
        "    \n",
        "    accuracyByLabel = accuracyDF.countMostFrequent/ \\\n",
        "        accuracyDF.clusterCount\n",
        "    \n",
        "    return countByCluster, countByLabel, countMostFreq, \\\n",
        "        accuracyDF, overallAccuracy, accuracyByLabel"
      ]
    },
    {
      "cell_type": "markdown",
      "metadata": {
        "id": "YSa_4F6b98_V"
      },
      "source": [
        "##PCA &Hierarchical Clustering Application"
      ]
    },
    {
      "cell_type": "code",
      "execution_count": 21,
      "metadata": {
        "id": "GWISPyZcNQZa"
      },
      "outputs": [],
      "source": [
        "import seaborn as sns\n",
        "sns.set()"
      ]
    },
    {
      "cell_type": "code",
      "execution_count": 22,
      "metadata": {
        "id": "8AXxDrLFsW3R"
      },
      "outputs": [],
      "source": [
        "import numpy as np\n",
        "\n",
        "Y = np.zeros((35,2))\n"
      ]
    },
    {
      "cell_type": "code",
      "execution_count": 23,
      "metadata": {
        "colab": {
          "base_uri": "https://localhost:8080/"
        },
        "id": "rZ1bwjaFj6Dx",
        "outputId": "c18661a7-6e26-4c4a-c375-a4b3200ee628"
      },
      "outputs": [
        {
          "name": "stdout",
          "output_type": "stream",
          "text": [
            "Number of distinct clusters:  7.0\n",
            "Overall accuracy from hierarchical clustering:  0.3116919749894222\n",
            "Number of distinct clusters:  11.0\n",
            "Overall accuracy from hierarchical clustering:  0.31136288843965965\n",
            "Number of distinct clusters:  15.0\n",
            "Overall accuracy from hierarchical clustering:  0.3359503549433501\n",
            "Number of distinct clusters:  19.0\n",
            "Overall accuracy from hierarchical clustering:  0.3509472991396737\n",
            "Number of distinct clusters:  21.0\n",
            "Overall accuracy from hierarchical clustering:  0.3367730713177566\n",
            "Number of distinct clusters:  19.0\n",
            "Overall accuracy from hierarchical clustering:  0.33776033096704433\n",
            "Number of distinct clusters:  23.0\n",
            "Overall accuracy from hierarchical clustering:  0.36462789713694704\n",
            "Number of distinct clusters:  23.0\n",
            "Overall accuracy from hierarchical clustering:  0.370222368482911\n",
            "Number of distinct clusters:  25.0\n",
            "Overall accuracy from hierarchical clustering:  0.36204221710309814\n",
            "Number of distinct clusters:  25.0\n",
            "Overall accuracy from hierarchical clustering:  0.37454750599407644\n",
            "Number of distinct clusters:  24.0\n",
            "Overall accuracy from hierarchical clustering:  0.3839969912086879\n",
            "Number of distinct clusters:  30.0\n",
            "Overall accuracy from hierarchical clustering:  0.3738423205302995\n",
            "Number of distinct clusters:  27.0\n",
            "Overall accuracy from hierarchical clustering:  0.3732076536129002\n",
            "Number of distinct clusters:  28.0\n",
            "Overall accuracy from hierarchical clustering:  0.3635466127591557\n",
            "Number of distinct clusters:  29.0\n",
            "Overall accuracy from hierarchical clustering:  0.3726905176061304\n",
            "Number of distinct clusters:  31.0\n",
            "Overall accuracy from hierarchical clustering:  0.3732076536129002\n",
            "Number of distinct clusters:  29.0\n",
            "Overall accuracy from hierarchical clustering:  0.38225753373137134\n",
            "Number of distinct clusters:  30.0\n",
            "Overall accuracy from hierarchical clustering:  0.36881199755535704\n",
            "Number of distinct clusters:  31.0\n",
            "Overall accuracy from hierarchical clustering:  0.37165624559259086\n",
            "Number of distinct clusters:  28.0\n",
            "Overall accuracy from hierarchical clustering:  0.37200883832447934\n",
            "Number of distinct clusters:  29.0\n",
            "Overall accuracy from hierarchical clustering:  0.35940952470499743\n",
            "Number of distinct clusters:  28.0\n",
            "Overall accuracy from hierarchical clustering:  0.3572704621315406\n",
            "Number of distinct clusters:  29.0\n",
            "Overall accuracy from hierarchical clustering:  0.3773682478491843\n",
            "Number of distinct clusters:  32.0\n",
            "Overall accuracy from hierarchical clustering:  0.3797893846081519\n",
            "Number of distinct clusters:  28.0\n",
            "Overall accuracy from hierarchical clustering:  0.3666259226176484\n",
            "Number of distinct clusters:  31.0\n",
            "Overall accuracy from hierarchical clustering:  0.36547411969347937\n",
            "Number of distinct clusters:  32.0\n",
            "Overall accuracy from hierarchical clustering:  0.3740068638051808\n",
            "Number of distinct clusters:  33.0\n",
            "Overall accuracy from hierarchical clustering:  0.37903718678012316\n",
            "Number of distinct clusters:  30.0\n",
            "Overall accuracy from hierarchical clustering:  0.36897654083023834\n",
            "Number of distinct clusters:  32.0\n",
            "Overall accuracy from hierarchical clustering:  0.3753702223684829\n",
            "Number of distinct clusters:  32.0\n",
            "Overall accuracy from hierarchical clustering:  0.3651685393258427\n",
            "Number of distinct clusters:  32.0\n",
            "Overall accuracy from hierarchical clustering:  0.3651685393258427\n",
            "Number of distinct clusters:  32.0\n",
            "Overall accuracy from hierarchical clustering:  0.3651685393258427\n",
            "Number of distinct clusters:  32.0\n",
            "Overall accuracy from hierarchical clustering:  0.3651685393258427\n"
          ]
        }
      ],
      "source": [
        "# Principal Component Analysis\n",
        "from sklearn.decomposition import PCA\n",
        "for i in range(1,35):\n",
        "      n_components = i\n",
        "      whiten = False\n",
        "      random_state = 2018\n",
        "\n",
        "      pca = PCA(n_components=n_components, whiten=whiten, \\\n",
        "                random_state=random_state)\n",
        "\n",
        "      X_train_PCA = pca.fit_transform(X_train)\n",
        "      X_train_PCA = pd.DataFrame(data=X_train_PCA, index=X_train.index)\n",
        "\n",
        "\n",
        "      # Hierarchical Clustering Application\n",
        "      import fastcluster\n",
        "      from scipy.cluster.hierarchy import dendrogram\n",
        "      from scipy.cluster.hierarchy import cophenet\n",
        "      from scipy.spatial.distance import pdist\n",
        "\n",
        "      Z = fastcluster.linkage_vector(X_train_PCA, method='ward', \\\n",
        "                                    metric='euclidean')\n",
        "\n",
        "      Z_dataFrame = pd.DataFrame(data=Z,columns=['clusterOne', \\\n",
        "                      'clusterTwo','distance','newClusterSize'])\n",
        "\n",
        "      # Cluster results\n",
        "      from scipy.cluster.hierarchy import fcluster\n",
        "\n",
        "      distance_threshold = 100\n",
        "      clusters = fcluster(Z, distance_threshold, criterion='distance')\n",
        "      X_train_hierClustered = pd.DataFrame(data=clusters, \\\n",
        "          index=X_train.index,columns=['cluster'])\n",
        "      Y[i,0]= len(X_train_hierClustered['cluster'].unique())\n",
        "      # Show number of clusters created\n",
        "      print(\"Number of distinct clusters: \", \\\n",
        "          Y[i,0])\n",
        "\n",
        "      # Show overall accuracy\n",
        "      countByCluster_hierClust, countByLabel_hierClust, \\\n",
        "          countMostFreq_hierClust, accuracyDF_hierClust, \\\n",
        "          overallAccuracy_hierClust, accuracyByLabel_hierClust = \\\n",
        "          analyzeCluster(X_train_hierClustered, y_train)\n",
        "      Y[i,1] = overallAccuracy_hierClust\n",
        "      print(\"Overall accuracy from hierarchical clustering: \", \\\n",
        "           Y[i,1] )"
      ]
    },
    {
      "cell_type": "code",
      "execution_count": 35,
      "metadata": {
        "colab": {
          "base_uri": "https://localhost:8080/",
          "height": 329
        },
        "id": "b4ckDP9GCWJt",
        "outputId": "7eaea5bd-e238-439c-fa37-d16db7fc74ef"
      },
      "outputs": [
        {
          "data": {
            "text/plain": [
              "Text(0.5, 1.0, 'Overall accuracy and Number of Principal component')"
            ]
          },
          "execution_count": 35,
          "metadata": {},
          "output_type": "execute_result"
        },
        {
          "data": {
            "image/png": "[encoded data removed]",
            "text/plain": [
              "<Figure size 432x288 with 1 Axes>"
            ]
          },
          "metadata": {},
          "output_type": "display_data"
        }
      ],
      "source": [
        "PCs = np.arange(1,35)\n",
        "plt.plot(PCs,Y[1:,1])\n",
        "plt.scatter(PCs,Y[1:,1])\n",
        "plt.ylabel('Overall accuracy from hierarchical clustering')\n",
        "plt.xlabel(' Number of Principal component(PCs)')\n",
        "plt.title('Overall accuracy and Number of Principal component')"
      ]
    },
    {
      "cell_type": "code",
      "execution_count": 37,
      "metadata": {
        "colab": {
          "base_uri": "https://localhost:8080/",
          "height": 318
        },
        "id": "QKtQJ23RI8Se",
        "outputId": "f3d94332-4d3b-40eb-8616-a59da2768539"
      },
      "outputs": [
        {
          "data": {
            "text/plain": [
              "Text(0.5, 1.0, 'Number of distinct clusters and Number of Principal component')"
            ]
          },
          "execution_count": 37,
          "metadata": {},
          "output_type": "execute_result"
        },
        {
          "data": {
            "image/png": "[encoded data removed]",
            "text/plain": [
              "<Figure size 432x288 with 1 Axes>"
            ]
          },
          "metadata": {},
          "output_type": "display_data"
        }
      ],
      "source": [
        "PCs = np.arange(1,35)\n",
        "plt.plot(PCs,Y[1:,0])\n",
        "plt.scatter(PCs,Y[1:,0])\n",
        "plt.ylabel('Number of distinct clusters')\n",
        "plt.xlabel(' Number of Principal component(PCs)')\n",
        "plt.title('Number of distinct clusters and Number of Principal component')"
      ]
    }
  ],
  "metadata": {
    "anaconda-cloud": {},
    "colab": {
      "collapsed_sections": [],
      "name": "Homework_ 06_group_segmentation.ipynb",
      "provenance": []
    },
    "kernelspec": {
      "display_name": "Python 3",
      "language": "python",
      "name": "python3"
    },
    "language_info": {
      "codemirror_mode": {
        "name": "ipython",
        "version": 3
      },
      "file_extension": ".py",
      "mimetype": "text/x-python",
      "name": "python",
      "nbconvert_exporter": "python",
      "pygments_lexer": "ipython3",
      "version": "3.8.8"
    }
  },
  "nbformat": 4,
  "nbformat_minor": 0
}
